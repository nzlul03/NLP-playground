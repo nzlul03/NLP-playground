{
  "nbformat": 4,
  "nbformat_minor": 0,
  "metadata": {
    "colab": {
      "name": "spaCy.ipynb",
      "provenance": [],
      "authorship_tag": "ABX9TyP4ulHg13wBIZLmPQO+Iz4n"
    },
    "kernelspec": {
      "name": "python3",
      "display_name": "Python 3"
    },
    "language_info": {
      "name": "python"
    },
    "accelerator": "GPU",
    "gpuClass": "standard"
  },
  "cells": [
    {
      "cell_type": "markdown",
      "source": [
        "spaCy is an open-source Python library that parses and \"understands\" large volumes of text. Separate models are available that cater to specific languages (English, French, German, etc.)."
      ],
      "metadata": {
        "id": "w9QqRN1sPZnq"
      }
    },
    {
      "cell_type": "code",
      "execution_count": 1,
      "metadata": {
        "colab": {
          "base_uri": "https://localhost:8080/"
        },
        "id": "BTWbHVWeOOAJ",
        "outputId": "83bdc93f-e0da-4519-ed59-eae702ae8d63"
      },
      "outputs": [
        {
          "output_type": "stream",
          "name": "stdout",
          "text": [
            "Looking in indexes: https://pypi.org/simple, https://us-python.pkg.dev/colab-wheels/public/simple/\n",
            "Requirement already satisfied: spaCy in /usr/local/lib/python3.7/dist-packages (3.4.1)\n",
            "Requirement already satisfied: pydantic!=1.8,!=1.8.1,<1.10.0,>=1.7.4 in /usr/local/lib/python3.7/dist-packages (from spaCy) (1.9.2)\n",
            "Requirement already satisfied: spacy-legacy<3.1.0,>=3.0.9 in /usr/local/lib/python3.7/dist-packages (from spaCy) (3.0.9)\n",
            "Requirement already satisfied: packaging>=20.0 in /usr/local/lib/python3.7/dist-packages (from spaCy) (21.3)\n",
            "Requirement already satisfied: typing-extensions<4.2.0,>=3.7.4 in /usr/local/lib/python3.7/dist-packages (from spaCy) (4.1.1)\n",
            "Requirement already satisfied: srsly<3.0.0,>=2.4.3 in /usr/local/lib/python3.7/dist-packages (from spaCy) (2.4.4)\n",
            "Requirement already satisfied: cymem<2.1.0,>=2.0.2 in /usr/local/lib/python3.7/dist-packages (from spaCy) (2.0.6)\n",
            "Requirement already satisfied: murmurhash<1.1.0,>=0.28.0 in /usr/local/lib/python3.7/dist-packages (from spaCy) (1.0.7)\n",
            "Requirement already satisfied: spacy-loggers<2.0.0,>=1.0.0 in /usr/local/lib/python3.7/dist-packages (from spaCy) (1.0.3)\n",
            "Requirement already satisfied: preshed<3.1.0,>=3.0.2 in /usr/local/lib/python3.7/dist-packages (from spaCy) (3.0.6)\n",
            "Requirement already satisfied: thinc<8.2.0,>=8.1.0 in /usr/local/lib/python3.7/dist-packages (from spaCy) (8.1.0)\n",
            "Requirement already satisfied: wasabi<1.1.0,>=0.9.1 in /usr/local/lib/python3.7/dist-packages (from spaCy) (0.10.1)\n",
            "Requirement already satisfied: setuptools in /usr/local/lib/python3.7/dist-packages (from spaCy) (57.4.0)\n",
            "Requirement already satisfied: jinja2 in /usr/local/lib/python3.7/dist-packages (from spaCy) (2.11.3)\n",
            "Requirement already satisfied: typer<0.5.0,>=0.3.0 in /usr/local/lib/python3.7/dist-packages (from spaCy) (0.4.2)\n",
            "Requirement already satisfied: pathy>=0.3.5 in /usr/local/lib/python3.7/dist-packages (from spaCy) (0.6.2)\n",
            "Requirement already satisfied: numpy>=1.15.0 in /usr/local/lib/python3.7/dist-packages (from spaCy) (1.21.6)\n",
            "Requirement already satisfied: tqdm<5.0.0,>=4.38.0 in /usr/local/lib/python3.7/dist-packages (from spaCy) (4.64.0)\n",
            "Requirement already satisfied: catalogue<2.1.0,>=2.0.6 in /usr/local/lib/python3.7/dist-packages (from spaCy) (2.0.8)\n",
            "Requirement already satisfied: requests<3.0.0,>=2.13.0 in /usr/local/lib/python3.7/dist-packages (from spaCy) (2.23.0)\n",
            "Requirement already satisfied: langcodes<4.0.0,>=3.2.0 in /usr/local/lib/python3.7/dist-packages (from spaCy) (3.3.0)\n",
            "Requirement already satisfied: zipp>=0.5 in /usr/local/lib/python3.7/dist-packages (from catalogue<2.1.0,>=2.0.6->spaCy) (3.8.1)\n",
            "Requirement already satisfied: pyparsing!=3.0.5,>=2.0.2 in /usr/local/lib/python3.7/dist-packages (from packaging>=20.0->spaCy) (3.0.9)\n",
            "Requirement already satisfied: smart-open<6.0.0,>=5.2.1 in /usr/local/lib/python3.7/dist-packages (from pathy>=0.3.5->spaCy) (5.2.1)\n",
            "Requirement already satisfied: urllib3!=1.25.0,!=1.25.1,<1.26,>=1.21.1 in /usr/local/lib/python3.7/dist-packages (from requests<3.0.0,>=2.13.0->spaCy) (1.24.3)\n",
            "Requirement already satisfied: certifi>=2017.4.17 in /usr/local/lib/python3.7/dist-packages (from requests<3.0.0,>=2.13.0->spaCy) (2022.6.15)\n",
            "Requirement already satisfied: chardet<4,>=3.0.2 in /usr/local/lib/python3.7/dist-packages (from requests<3.0.0,>=2.13.0->spaCy) (3.0.4)\n",
            "Requirement already satisfied: idna<3,>=2.5 in /usr/local/lib/python3.7/dist-packages (from requests<3.0.0,>=2.13.0->spaCy) (2.10)\n",
            "Requirement already satisfied: blis<0.8.0,>=0.7.8 in /usr/local/lib/python3.7/dist-packages (from thinc<8.2.0,>=8.1.0->spaCy) (0.7.8)\n",
            "Requirement already satisfied: click<9.0.0,>=7.1.1 in /usr/local/lib/python3.7/dist-packages (from typer<0.5.0,>=0.3.0->spaCy) (7.1.2)\n",
            "Requirement already satisfied: MarkupSafe>=0.23 in /usr/local/lib/python3.7/dist-packages (from jinja2->spaCy) (2.0.1)\n"
          ]
        }
      ],
      "source": [
        "# Install spaCy\n",
        "!pip install spaCy"
      ]
    },
    {
      "cell_type": "code",
      "source": [
        "# Import spaCy and load the language library\n",
        "import spacy\n",
        "nlp = spacy.load('en_core_web_sm')\n",
        "\n",
        "# Create a Doc object\n",
        "doc = nlp(u'Tesla is looking at buying U.S. startup for $6 million')\n",
        "\n",
        "# Print each token separately\n",
        "for token in doc:\n",
        "    print(token.text, token.pos_, token.dep_) #dep = syntactic dependency"
      ],
      "metadata": {
        "colab": {
          "base_uri": "https://localhost:8080/"
        },
        "id": "TR_ZUmEHPpKM",
        "outputId": "d000cc26-6e92-4dea-d495-6c92aaa6e1d0"
      },
      "execution_count": 2,
      "outputs": [
        {
          "output_type": "stream",
          "name": "stdout",
          "text": [
            "Tesla PROPN nsubj\n",
            "is AUX aux\n",
            "looking VERB ROOT\n",
            "at ADP prep\n",
            "buying VERB pcomp\n",
            "U.S. PROPN compound\n",
            "startup NOUN dobj\n",
            "for ADP prep\n",
            "$ SYM quantmod\n",
            "6 NUM compound\n",
            "million NUM pobj\n"
          ]
        }
      ]
    },
    {
      "cell_type": "markdown",
      "source": [
        "# spaCy Objects"
      ],
      "metadata": {
        "id": "IVvV7kSvQtgz"
      }
    },
    {
      "cell_type": "markdown",
      "source": [
        "we loaded a model and named it `nlp`.\n",
        "Next we created a Doc object by applying the model to our text, and named it doc.\n",
        "spaCy also builds a companion Vocab object"
      ],
      "metadata": {
        "id": "FwyLRCBJQwti"
      }
    },
    {
      "cell_type": "markdown",
      "source": [
        "`nlp()` function from spaCy which automatically takes raw text and performs a series of operations to tag, parse and describe the text data."
      ],
      "metadata": {
        "id": "r_sqOzmfVps6"
      }
    },
    {
      "cell_type": "markdown",
      "source": [
        "# Pipeline"
      ],
      "metadata": {
        "id": "xYbT0CKVQ5HN"
      }
    },
    {
      "cell_type": "markdown",
      "source": [
        "When we run `nlp`, our text enters a processing pipeline that first breaks down the text and then performs a series of operations to tag, parse and describe the data."
      ],
      "metadata": {
        "id": "uQ80vFpeQ7on"
      }
    },
    {
      "cell_type": "code",
      "source": [
        "nlp.pipeline"
      ],
      "metadata": {
        "colab": {
          "base_uri": "https://localhost:8080/"
        },
        "id": "VyJtxqLCQwGa",
        "outputId": "1c2832fb-0582-4c8d-f614-b71b1c358cd4"
      },
      "execution_count": 3,
      "outputs": [
        {
          "output_type": "execute_result",
          "data": {
            "text/plain": [
              "[('tok2vec', <spacy.pipeline.tok2vec.Tok2Vec at 0x7f6d1df74c90>),\n",
              " ('tagger', <spacy.pipeline.tagger.Tagger at 0x7f6d1df74b40>),\n",
              " ('parser', <spacy.pipeline.dep_parser.DependencyParser at 0x7f6d1dc9a550>),\n",
              " ('attribute_ruler',\n",
              "  <spacy.pipeline.attributeruler.AttributeRuler at 0x7f6d1dbe0280>),\n",
              " ('lemmatizer',\n",
              "  <spacy.lang.en.lemmatizer.EnglishLemmatizer at 0x7f6d1dbea7d0>),\n",
              " ('ner', <spacy.pipeline.ner.EntityRecognizer at 0x7f6d1dc9abd0>)]"
            ]
          },
          "metadata": {},
          "execution_count": 3
        }
      ]
    },
    {
      "cell_type": "code",
      "source": [
        "nlp.pipe_names"
      ],
      "metadata": {
        "colab": {
          "base_uri": "https://localhost:8080/"
        },
        "id": "klbFeaPFRHVT",
        "outputId": "c9c8e9cc-a646-4621-cc1c-359a1374c295"
      },
      "execution_count": 4,
      "outputs": [
        {
          "output_type": "execute_result",
          "data": {
            "text/plain": [
              "['tok2vec', 'tagger', 'parser', 'attribute_ruler', 'lemmatizer', 'ner']"
            ]
          },
          "metadata": {},
          "execution_count": 4
        }
      ]
    },
    {
      "cell_type": "markdown",
      "source": [
        "# Tokenization"
      ],
      "metadata": {
        "id": "ehLiYhopRJst"
      }
    },
    {
      "cell_type": "markdown",
      "source": [
        "The first step in processing text is to split up all the component parts (words & punctuation) into \"tokens\". These tokens are annotated inside the Doc object to contain descriptive information. We'll go into much more detail on tokenization in an upcoming lecture."
      ],
      "metadata": {
        "id": "amnIyzFeROof"
      }
    },
    {
      "cell_type": "code",
      "source": [
        "doc2 = nlp(u\"Tesla isn't   looking into startups anymore.\")\n",
        "\n",
        "for token in doc2:\n",
        "  print(token.text, token.pos_, token.dep_)"
      ],
      "metadata": {
        "colab": {
          "base_uri": "https://localhost:8080/"
        },
        "id": "TtgZNj44RLJD",
        "outputId": "871c5659-5561-41b0-e0f5-8f707c118874"
      },
      "execution_count": 5,
      "outputs": [
        {
          "output_type": "stream",
          "name": "stdout",
          "text": [
            "Tesla PROPN nsubj\n",
            "is AUX aux\n",
            "n't PART neg\n",
            "   SPACE dep\n",
            "looking VERB ROOT\n",
            "into ADP prep\n",
            "startups NOUN pobj\n",
            "anymore ADV advmod\n",
            ". PUNCT punct\n"
          ]
        }
      ]
    },
    {
      "cell_type": "code",
      "source": [
        "doc2"
      ],
      "metadata": {
        "colab": {
          "base_uri": "https://localhost:8080/"
        },
        "id": "lT3YYKkPRZ6S",
        "outputId": "56623dd1-06dc-4c6c-838f-d293572eea82"
      },
      "execution_count": 6,
      "outputs": [
        {
          "output_type": "execute_result",
          "data": {
            "text/plain": [
              "Tesla isn't   looking into startups anymore."
            ]
          },
          "metadata": {},
          "execution_count": 6
        }
      ]
    },
    {
      "cell_type": "code",
      "source": [
        "doc2[0]"
      ],
      "metadata": {
        "colab": {
          "base_uri": "https://localhost:8080/"
        },
        "id": "AXJFeItfRlQR",
        "outputId": "ab1a0b91-ace3-4e4e-f36e-2d7f2eab75f7"
      },
      "execution_count": 7,
      "outputs": [
        {
          "output_type": "execute_result",
          "data": {
            "text/plain": [
              "Tesla"
            ]
          },
          "metadata": {},
          "execution_count": 7
        }
      ]
    },
    {
      "cell_type": "code",
      "source": [
        "type(doc2)"
      ],
      "metadata": {
        "colab": {
          "base_uri": "https://localhost:8080/"
        },
        "id": "Qbh_XrU4RnRI",
        "outputId": "dec7aae0-46fa-4cc8-b679-72713deb5490"
      },
      "execution_count": 8,
      "outputs": [
        {
          "output_type": "execute_result",
          "data": {
            "text/plain": [
              "spacy.tokens.doc.Doc"
            ]
          },
          "metadata": {},
          "execution_count": 8
        }
      ]
    },
    {
      "cell_type": "markdown",
      "source": [
        "# Part-of-Speech Tagging (POS)"
      ],
      "metadata": {
        "id": "wyM7smPGRrH7"
      }
    },
    {
      "cell_type": "markdown",
      "source": [
        "The next step after splitting the text up into tokens is to assign parts of speech. In the above example, `Tesla` was recognized to be a proper noun. Here some statistical modeling is required. For example, words that follow \"the\" are typically nouns.\n",
        "\n",
        "For a full list of POS Tags visit https://spacy.io/api/annotation#pos-tagging"
      ],
      "metadata": {
        "id": "HlxyZb8KSaiC"
      }
    },
    {
      "cell_type": "markdown",
      "source": [
        "Spacy provides a bunch of POS tags such as NOUN (noun), PUNCT (punctuation), ADJ(adjective), ADV(adverb), etc."
      ],
      "metadata": {
        "id": "x3vDe9SYTdHT"
      }
    },
    {
      "cell_type": "markdown",
      "source": [
        "![image.png](data:image/png;base64,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)"
      ],
      "metadata": {
        "id": "AfniYU1OTktu"
      }
    },
    {
      "cell_type": "markdown",
      "source": [
        "Source: https://machinelearningknowledge.ai/tutorial-on-spacy-part-of-speech-pos-tagging/#:~:text=Spacy%20provides%20a%20bunch%20of,is%20most%20likely%20a%20noun."
      ],
      "metadata": {
        "id": "BGx4dLzQToUQ"
      }
    },
    {
      "cell_type": "code",
      "source": [
        "doc2[0].pos_"
      ],
      "metadata": {
        "colab": {
          "base_uri": "https://localhost:8080/",
          "height": 36
        },
        "id": "LSCxOlF5RpSx",
        "outputId": "7b9342d5-9dc5-4386-ea2c-c4e414ede37e"
      },
      "execution_count": 9,
      "outputs": [
        {
          "output_type": "execute_result",
          "data": {
            "text/plain": [
              "'PROPN'"
            ],
            "application/vnd.google.colaboratory.intrinsic+json": {
              "type": "string"
            }
          },
          "metadata": {},
          "execution_count": 9
        }
      ]
    },
    {
      "cell_type": "markdown",
      "source": [
        "# Dependencies"
      ],
      "metadata": {
        "id": "C5EVROzTSg83"
      }
    },
    {
      "cell_type": "markdown",
      "source": [
        "We also looked at the syntactic dependencies assigned to each token. `Tesla` is identified as an **nsubj** or the nominal subject of the sentence.\n",
        "\n",
        "For a full list of Syntactic Dependencies visit https://spacy.io/api/annotation#dependency-parsing"
      ],
      "metadata": {
        "id": "Ar0Y3Q33SnTO"
      }
    },
    {
      "cell_type": "code",
      "source": [
        "doc2[0].dep_"
      ],
      "metadata": {
        "colab": {
          "base_uri": "https://localhost:8080/",
          "height": 36
        },
        "id": "EwQTcO0iSdl5",
        "outputId": "7fc80e1a-36e4-4b18-914c-666377eca717"
      },
      "execution_count": 10,
      "outputs": [
        {
          "output_type": "execute_result",
          "data": {
            "text/plain": [
              "'nsubj'"
            ],
            "application/vnd.google.colaboratory.intrinsic+json": {
              "type": "string"
            }
          },
          "metadata": {},
          "execution_count": 10
        }
      ]
    },
    {
      "cell_type": "markdown",
      "source": [
        "To see the full name of a tag use `spacy.explain(tag)`"
      ],
      "metadata": {
        "id": "uQHoaXO2SxDr"
      }
    },
    {
      "cell_type": "code",
      "source": [
        "spacy.explain('PROPN')"
      ],
      "metadata": {
        "colab": {
          "base_uri": "https://localhost:8080/",
          "height": 36
        },
        "id": "dr1ecACfSuSF",
        "outputId": "e50076b9-9c5f-435d-d5e7-9b09f9ae1dff"
      },
      "execution_count": 12,
      "outputs": [
        {
          "output_type": "execute_result",
          "data": {
            "text/plain": [
              "'proper noun'"
            ],
            "application/vnd.google.colaboratory.intrinsic+json": {
              "type": "string"
            }
          },
          "metadata": {},
          "execution_count": 12
        }
      ]
    },
    {
      "cell_type": "code",
      "source": [
        "spacy.explain('nsubj')"
      ],
      "metadata": {
        "colab": {
          "base_uri": "https://localhost:8080/",
          "height": 36
        },
        "id": "SsHpNZCNS0QR",
        "outputId": "753c2c42-0688-4ded-b50e-bccea5e974dd"
      },
      "execution_count": 13,
      "outputs": [
        {
          "output_type": "execute_result",
          "data": {
            "text/plain": [
              "'nominal subject'"
            ],
            "application/vnd.google.colaboratory.intrinsic+json": {
              "type": "string"
            }
          },
          "metadata": {},
          "execution_count": 13
        }
      ]
    },
    {
      "cell_type": "markdown",
      "source": [
        "# Additional Token Attributes"
      ],
      "metadata": {
        "id": "ev9mHrMPS6lB"
      }
    },
    {
      "cell_type": "markdown",
      "source": [
        "|Tag|Description|doc2[0].tag|\n",
        "|:------|:------:|:------|\n",
        "|`.text`|The original word text<!-- .element: style=\"text-align:left;\" -->|`Tesla`|\n",
        "|`.lemma_`|The base form of the word|`tesla`|\n",
        "|`.pos_`|The simple part-of-speech tag|`PROPN`/`proper noun`|\n",
        "|`.tag_`|The detailed part-of-speech tag|`NNP`/`noun, proper singular`|\n",
        "|`.shape_`|The word shape – capitalization, punctuation, digits|`Xxxxx`|\n",
        "|`.is_alpha`|Is the token an alpha character?|`True`|\n",
        "|`.is_stop`|Is the token part of a stop list, i.e. the most common words of the language?|`False`|"
      ],
      "metadata": {
        "id": "t99WR4z4S_Kh"
      }
    },
    {
      "cell_type": "code",
      "source": [
        "# Lemmas (the base form of the word):\n",
        "\n",
        "print(doc2[4].text)\n",
        "print(doc2[4].lemma_)"
      ],
      "metadata": {
        "colab": {
          "base_uri": "https://localhost:8080/"
        },
        "id": "l-jtOOOhS8aR",
        "outputId": "e0f5b5e2-3a9b-4514-b5f6-bd4938d36e32"
      },
      "execution_count": 14,
      "outputs": [
        {
          "output_type": "stream",
          "name": "stdout",
          "text": [
            "looking\n",
            "look\n"
          ]
        }
      ]
    },
    {
      "cell_type": "code",
      "source": [
        "# Simple Parts-of-Speech & Detailed Tags:\n",
        "print(doc2[4].pos_)\n",
        "print(doc2[4].tag_ + ' / ' + spacy.explain(doc2[4].tag_))"
      ],
      "metadata": {
        "colab": {
          "base_uri": "https://localhost:8080/"
        },
        "id": "-MIpy7FpT4pR",
        "outputId": "78e72117-87e2-43e8-af26-5e40413fd14f"
      },
      "execution_count": 15,
      "outputs": [
        {
          "output_type": "stream",
          "name": "stdout",
          "text": [
            "VERB\n",
            "VBG / verb, gerund or present participle\n"
          ]
        }
      ]
    },
    {
      "cell_type": "code",
      "source": [
        "# Word Shapes:\n",
        "print(doc2[0].text+': '+doc2[0].shape_)\n",
        "print(doc2[5].text+': '+doc2[5].shape_)"
      ],
      "metadata": {
        "colab": {
          "base_uri": "https://localhost:8080/"
        },
        "id": "5Wj3jGDtUFgd",
        "outputId": "945b65c5-f3d3-4b0f-c8c8-144e32092ded"
      },
      "execution_count": 16,
      "outputs": [
        {
          "output_type": "stream",
          "name": "stdout",
          "text": [
            "Tesla: Xxxxx\n",
            "into: xxxx\n"
          ]
        }
      ]
    },
    {
      "cell_type": "code",
      "source": [
        "doc2[2]"
      ],
      "metadata": {
        "colab": {
          "base_uri": "https://localhost:8080/"
        },
        "id": "QA8GjvN3UYDz",
        "outputId": "ff35434c-90ef-4c8c-e05c-cd3827091e74"
      },
      "execution_count": 17,
      "outputs": [
        {
          "output_type": "execute_result",
          "data": {
            "text/plain": [
              "n't"
            ]
          },
          "metadata": {},
          "execution_count": 17
        }
      ]
    },
    {
      "cell_type": "code",
      "source": [
        "# Boolean Values:\n",
        "print(doc2[0].is_alpha)\n",
        "print(doc2[0].is_stop)"
      ],
      "metadata": {
        "colab": {
          "base_uri": "https://localhost:8080/"
        },
        "id": "bGcA-VatUYtz",
        "outputId": "10ad66a0-85a7-4ca7-928f-45d9cd6cccc2"
      },
      "execution_count": 18,
      "outputs": [
        {
          "output_type": "stream",
          "name": "stdout",
          "text": [
            "True\n",
            "False\n"
          ]
        }
      ]
    },
    {
      "cell_type": "markdown",
      "source": [
        "# Spans"
      ],
      "metadata": {
        "id": "uFi1dd7xUc6n"
      }
    },
    {
      "cell_type": "markdown",
      "source": [
        "Large Doc objects can be hard to work with at times. A span is a slice of Doc object in the form `Doc[start:stop]`."
      ],
      "metadata": {
        "id": "qg0YEc8eUf1O"
      }
    },
    {
      "cell_type": "code",
      "source": [
        "doc3 = nlp(u'Although commmonly attributed to John Lennon from his song \"Beautiful Boy\", \\\n",
        "the phrase \"Life is what happens to us while we are making other plans\" was written by \\\n",
        "cartoonist Allen Saunders and published in Reader\\'s Digest in 1957, when Lennon was 17.')"
      ],
      "metadata": {
        "id": "GocmCpTMUdig"
      },
      "execution_count": 19,
      "outputs": []
    },
    {
      "cell_type": "code",
      "source": [
        "life_quote = doc3[16:30]\n",
        "print(life_quote)"
      ],
      "metadata": {
        "colab": {
          "base_uri": "https://localhost:8080/"
        },
        "id": "-N11h2GXVCvu",
        "outputId": "84d83f1c-d7e8-48ac-bb8c-76e582fc0a28"
      },
      "execution_count": 20,
      "outputs": [
        {
          "output_type": "stream",
          "name": "stdout",
          "text": [
            "\"Life is what happens to us while we are making other plans\"\n"
          ]
        }
      ]
    },
    {
      "cell_type": "code",
      "source": [
        "type(life_quote)"
      ],
      "metadata": {
        "colab": {
          "base_uri": "https://localhost:8080/"
        },
        "id": "75Jcors8VHbQ",
        "outputId": "d777a1f2-72c2-4bed-d328-35272015f356"
      },
      "execution_count": 21,
      "outputs": [
        {
          "output_type": "execute_result",
          "data": {
            "text/plain": [
              "spacy.tokens.span.Span"
            ]
          },
          "metadata": {},
          "execution_count": 21
        }
      ]
    },
    {
      "cell_type": "markdown",
      "source": [
        "# Sentences"
      ],
      "metadata": {
        "id": "rUSLf0ryVLNJ"
      }
    },
    {
      "cell_type": "markdown",
      "source": [
        "Certain tokens inside a Doc object may also receive a \"start of sentence\" tag. While this doesn't immediately build a list of sentences, these tags enable the generation of sentence segments through `Doc.sents`."
      ],
      "metadata": {
        "id": "3Tm8POoTVNh2"
      }
    },
    {
      "cell_type": "code",
      "source": [
        "doc4 = nlp(u'This is the first sentence. This is another sentence. This is the last sentence.')"
      ],
      "metadata": {
        "id": "J29pW41eVMFI"
      },
      "execution_count": 22,
      "outputs": []
    },
    {
      "cell_type": "code",
      "source": [
        "for sent in doc4.sents:\n",
        "  print(sent)"
      ],
      "metadata": {
        "colab": {
          "base_uri": "https://localhost:8080/"
        },
        "id": "ierKil_BVXL9",
        "outputId": "9f729c89-57a6-4e45-c7c4-fc3b9c5cca34"
      },
      "execution_count": 23,
      "outputs": [
        {
          "output_type": "stream",
          "name": "stdout",
          "text": [
            "This is the first sentence.\n",
            "This is another sentence.\n",
            "This is the last sentence.\n"
          ]
        }
      ]
    },
    {
      "cell_type": "code",
      "source": [
        "doc4[6].is_sent_start"
      ],
      "metadata": {
        "colab": {
          "base_uri": "https://localhost:8080/"
        },
        "id": "XANu0SIBVXPo",
        "outputId": "84a97999-7d09-47bd-f5d3-6ff84eeb5222"
      },
      "execution_count": 24,
      "outputs": [
        {
          "output_type": "execute_result",
          "data": {
            "text/plain": [
              "True"
            ]
          },
          "metadata": {},
          "execution_count": 24
        }
      ]
    }
  ]
}