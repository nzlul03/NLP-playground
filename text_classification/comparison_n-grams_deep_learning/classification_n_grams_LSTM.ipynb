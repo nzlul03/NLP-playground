{
  "nbformat": 4,
  "nbformat_minor": 0,
  "metadata": {
    "colab": {
      "provenance": [],
      "toc_visible": true,
      "authorship_tag": "ABX9TyOdWH7ufx6+BOUYzBjrQnj2"
    },
    "kernelspec": {
      "name": "python3",
      "display_name": "Python 3"
    },
    "language_info": {
      "name": "python"
    },
    "accelerator": "GPU",
    "gpuClass": "standard"
  },
  "cells": [
    {
      "cell_type": "markdown",
      "source": [
        "# Import Library"
      ],
      "metadata": {
        "id": "nxR5BIMT6SKe"
      }
    },
    {
      "cell_type": "code",
      "execution_count": 1,
      "metadata": {
        "colab": {
          "base_uri": "https://localhost:8080/"
        },
        "id": "oH5DDN8d5HZA",
        "outputId": "140a9ca6-bcf7-4b57-fc6e-b02ec2ebd087"
      },
      "outputs": [
        {
          "output_type": "stream",
          "name": "stdout",
          "text": [
            "Looking in indexes: https://pypi.org/simple, https://us-python.pkg.dev/colab-wheels/public/simple/\n",
            "Requirement already satisfied: tensorflow in /usr/local/lib/python3.8/dist-packages (2.9.2)\n",
            "Requirement already satisfied: tensorboard<2.10,>=2.9 in /usr/local/lib/python3.8/dist-packages (from tensorflow) (2.9.1)\n",
            "Requirement already satisfied: grpcio<2.0,>=1.24.3 in /usr/local/lib/python3.8/dist-packages (from tensorflow) (1.51.1)\n",
            "Requirement already satisfied: h5py>=2.9.0 in /usr/local/lib/python3.8/dist-packages (from tensorflow) (3.1.0)\n",
            "Requirement already satisfied: termcolor>=1.1.0 in /usr/local/lib/python3.8/dist-packages (from tensorflow) (2.1.1)\n",
            "Requirement already satisfied: astunparse>=1.6.0 in /usr/local/lib/python3.8/dist-packages (from tensorflow) (1.6.3)\n",
            "Requirement already satisfied: flatbuffers<2,>=1.12 in /usr/local/lib/python3.8/dist-packages (from tensorflow) (1.12)\n",
            "Requirement already satisfied: setuptools in /usr/local/lib/python3.8/dist-packages (from tensorflow) (57.4.0)\n",
            "Requirement already satisfied: opt-einsum>=2.3.2 in /usr/local/lib/python3.8/dist-packages (from tensorflow) (3.3.0)\n",
            "Requirement already satisfied: wrapt>=1.11.0 in /usr/local/lib/python3.8/dist-packages (from tensorflow) (1.14.1)\n",
            "Requirement already satisfied: packaging in /usr/local/lib/python3.8/dist-packages (from tensorflow) (21.3)\n",
            "Requirement already satisfied: keras-preprocessing>=1.1.1 in /usr/local/lib/python3.8/dist-packages (from tensorflow) (1.1.2)\n",
            "Requirement already satisfied: tensorflow-estimator<2.10.0,>=2.9.0rc0 in /usr/local/lib/python3.8/dist-packages (from tensorflow) (2.9.0)\n",
            "Requirement already satisfied: google-pasta>=0.1.1 in /usr/local/lib/python3.8/dist-packages (from tensorflow) (0.2.0)\n",
            "Requirement already satisfied: tensorflow-io-gcs-filesystem>=0.23.1 in /usr/local/lib/python3.8/dist-packages (from tensorflow) (0.28.0)\n",
            "Requirement already satisfied: gast<=0.4.0,>=0.2.1 in /usr/local/lib/python3.8/dist-packages (from tensorflow) (0.4.0)\n",
            "Requirement already satisfied: keras<2.10.0,>=2.9.0rc0 in /usr/local/lib/python3.8/dist-packages (from tensorflow) (2.9.0)\n",
            "Requirement already satisfied: absl-py>=1.0.0 in /usr/local/lib/python3.8/dist-packages (from tensorflow) (1.3.0)\n",
            "Requirement already satisfied: typing-extensions>=3.6.6 in /usr/local/lib/python3.8/dist-packages (from tensorflow) (4.4.0)\n",
            "Requirement already satisfied: numpy>=1.20 in /usr/local/lib/python3.8/dist-packages (from tensorflow) (1.21.6)\n",
            "Requirement already satisfied: protobuf<3.20,>=3.9.2 in /usr/local/lib/python3.8/dist-packages (from tensorflow) (3.19.6)\n",
            "Requirement already satisfied: six>=1.12.0 in /usr/local/lib/python3.8/dist-packages (from tensorflow) (1.15.0)\n",
            "Requirement already satisfied: libclang>=13.0.0 in /usr/local/lib/python3.8/dist-packages (from tensorflow) (14.0.6)\n",
            "Requirement already satisfied: wheel<1.0,>=0.23.0 in /usr/local/lib/python3.8/dist-packages (from astunparse>=1.6.0->tensorflow) (0.38.4)\n",
            "Requirement already satisfied: markdown>=2.6.8 in /usr/local/lib/python3.8/dist-packages (from tensorboard<2.10,>=2.9->tensorflow) (3.4.1)\n",
            "Requirement already satisfied: tensorboard-data-server<0.7.0,>=0.6.0 in /usr/local/lib/python3.8/dist-packages (from tensorboard<2.10,>=2.9->tensorflow) (0.6.1)\n",
            "Requirement already satisfied: tensorboard-plugin-wit>=1.6.0 in /usr/local/lib/python3.8/dist-packages (from tensorboard<2.10,>=2.9->tensorflow) (1.8.1)\n",
            "Requirement already satisfied: google-auth<3,>=1.6.3 in /usr/local/lib/python3.8/dist-packages (from tensorboard<2.10,>=2.9->tensorflow) (2.15.0)\n",
            "Requirement already satisfied: werkzeug>=1.0.1 in /usr/local/lib/python3.8/dist-packages (from tensorboard<2.10,>=2.9->tensorflow) (1.0.1)\n",
            "Requirement already satisfied: google-auth-oauthlib<0.5,>=0.4.1 in /usr/local/lib/python3.8/dist-packages (from tensorboard<2.10,>=2.9->tensorflow) (0.4.6)\n",
            "Requirement already satisfied: requests<3,>=2.21.0 in /usr/local/lib/python3.8/dist-packages (from tensorboard<2.10,>=2.9->tensorflow) (2.23.0)\n",
            "Requirement already satisfied: pyasn1-modules>=0.2.1 in /usr/local/lib/python3.8/dist-packages (from google-auth<3,>=1.6.3->tensorboard<2.10,>=2.9->tensorflow) (0.2.8)\n",
            "Requirement already satisfied: cachetools<6.0,>=2.0.0 in /usr/local/lib/python3.8/dist-packages (from google-auth<3,>=1.6.3->tensorboard<2.10,>=2.9->tensorflow) (5.2.0)\n",
            "Requirement already satisfied: rsa<5,>=3.1.4 in /usr/local/lib/python3.8/dist-packages (from google-auth<3,>=1.6.3->tensorboard<2.10,>=2.9->tensorflow) (4.9)\n",
            "Requirement already satisfied: requests-oauthlib>=0.7.0 in /usr/local/lib/python3.8/dist-packages (from google-auth-oauthlib<0.5,>=0.4.1->tensorboard<2.10,>=2.9->tensorflow) (1.3.1)\n",
            "Requirement already satisfied: importlib-metadata>=4.4 in /usr/local/lib/python3.8/dist-packages (from markdown>=2.6.8->tensorboard<2.10,>=2.9->tensorflow) (5.1.0)\n",
            "Requirement already satisfied: zipp>=0.5 in /usr/local/lib/python3.8/dist-packages (from importlib-metadata>=4.4->markdown>=2.6.8->tensorboard<2.10,>=2.9->tensorflow) (3.11.0)\n",
            "Requirement already satisfied: pyasn1<0.5.0,>=0.4.6 in /usr/local/lib/python3.8/dist-packages (from pyasn1-modules>=0.2.1->google-auth<3,>=1.6.3->tensorboard<2.10,>=2.9->tensorflow) (0.4.8)\n",
            "Requirement already satisfied: idna<3,>=2.5 in /usr/local/lib/python3.8/dist-packages (from requests<3,>=2.21.0->tensorboard<2.10,>=2.9->tensorflow) (2.10)\n",
            "Requirement already satisfied: certifi>=2017.4.17 in /usr/local/lib/python3.8/dist-packages (from requests<3,>=2.21.0->tensorboard<2.10,>=2.9->tensorflow) (2022.12.7)\n",
            "Requirement already satisfied: urllib3!=1.25.0,!=1.25.1,<1.26,>=1.21.1 in /usr/local/lib/python3.8/dist-packages (from requests<3,>=2.21.0->tensorboard<2.10,>=2.9->tensorflow) (1.24.3)\n",
            "Requirement already satisfied: chardet<4,>=3.0.2 in /usr/local/lib/python3.8/dist-packages (from requests<3,>=2.21.0->tensorboard<2.10,>=2.9->tensorflow) (3.0.4)\n",
            "Requirement already satisfied: oauthlib>=3.0.0 in /usr/local/lib/python3.8/dist-packages (from requests-oauthlib>=0.7.0->google-auth-oauthlib<0.5,>=0.4.1->tensorboard<2.10,>=2.9->tensorflow) (3.2.2)\n",
            "Requirement already satisfied: pyparsing!=3.0.5,>=2.0.2 in /usr/local/lib/python3.8/dist-packages (from packaging->tensorflow) (3.0.9)\n"
          ]
        }
      ],
      "source": [
        "!pip install tensorflow"
      ]
    },
    {
      "cell_type": "code",
      "source": [
        "import numpy as np\n",
        "import pandas as pd\n",
        "import seaborn as sns\n",
        "import matplotlib.pyplot as plt\n",
        "\n",
        "import tensorflow as tf\n",
        "print(tf.__version__)\n",
        "\n",
        "from tensorflow.keras.preprocessing.text import Tokenizer\n",
        "from tensorflow.keras.preprocessing.sequence import pad_sequences\n",
        "\n",
        "from sklearn.metrics import confusion_matrix, classification_report"
      ],
      "metadata": {
        "colab": {
          "base_uri": "https://localhost:8080/"
        },
        "id": "Ab833GtS6R-B",
        "outputId": "9247ecbd-7dd3-4218-a5d8-c3323547ab9c"
      },
      "execution_count": 51,
      "outputs": [
        {
          "output_type": "stream",
          "name": "stdout",
          "text": [
            "2.9.2\n"
          ]
        }
      ]
    },
    {
      "cell_type": "markdown",
      "source": [
        "# Import Dataset"
      ],
      "metadata": {
        "id": "VtkPvKCH6OA9"
      }
    },
    {
      "cell_type": "code",
      "source": [
        "df_train = pd.read_csv('https://raw.githubusercontent.com/nzlul03/NLP-python-playground/main/text_classification/comparison_n-grams_deep_learning/twitter_training.csv')\n",
        "df_test = pd.read_csv('https://raw.githubusercontent.com/nzlul03/NLP-python-playground/main/text_classification/comparison_n-grams_deep_learning/twitter_validation.csv')"
      ],
      "metadata": {
        "id": "h9-y5GiQ6NiF"
      },
      "execution_count": 3,
      "outputs": []
    },
    {
      "cell_type": "code",
      "source": [
        "# Change the column name\n",
        "df_train.columns = ['id', 'name', 'sentiment', 'text']\n",
        "df_test.columns = ['id', 'name', 'sentiment', 'text']\n",
        "\n",
        "df_train = df_train[['text', 'sentiment']]\n",
        "df_test = df_test[['text', 'sentiment']]\n",
        "\n",
        "# Drop NaN Data\n",
        "df_train.dropna(inplace=True)\n",
        "df_test.dropna(inplace=True)"
      ],
      "metadata": {
        "id": "I0Nk8RD98iwM"
      },
      "execution_count": 6,
      "outputs": []
    },
    {
      "cell_type": "code",
      "source": [
        "df_train.head()"
      ],
      "metadata": {
        "colab": {
          "base_uri": "https://localhost:8080/",
          "height": 206
        },
        "id": "_VIskglI87Wm",
        "outputId": "dcae5655-46d5-476c-fc1b-05daf3df8c38"
      },
      "execution_count": 9,
      "outputs": [
        {
          "output_type": "execute_result",
          "data": {
            "text/plain": [
              "                                                text sentiment\n",
              "0  I am coming to the borders and I will kill you...  Positive\n",
              "1  im getting on borderlands and i will kill you ...  Positive\n",
              "2  im coming on borderlands and i will murder you...  Positive\n",
              "3  im getting on borderlands 2 and i will murder ...  Positive\n",
              "4  im getting into borderlands and i can murder y...  Positive"
            ],
            "text/html": [
              "\n",
              "  <div id=\"df-2b4ea3d6-300b-4f25-a765-60498e609b38\">\n",
              "    <div class=\"colab-df-container\">\n",
              "      <div>\n",
              "<style scoped>\n",
              "    .dataframe tbody tr th:only-of-type {\n",
              "        vertical-align: middle;\n",
              "    }\n",
              "\n",
              "    .dataframe tbody tr th {\n",
              "        vertical-align: top;\n",
              "    }\n",
              "\n",
              "    .dataframe thead th {\n",
              "        text-align: right;\n",
              "    }\n",
              "</style>\n",
              "<table border=\"1\" class=\"dataframe\">\n",
              "  <thead>\n",
              "    <tr style=\"text-align: right;\">\n",
              "      <th></th>\n",
              "      <th>text</th>\n",
              "      <th>sentiment</th>\n",
              "    </tr>\n",
              "  </thead>\n",
              "  <tbody>\n",
              "    <tr>\n",
              "      <th>0</th>\n",
              "      <td>I am coming to the borders and I will kill you...</td>\n",
              "      <td>Positive</td>\n",
              "    </tr>\n",
              "    <tr>\n",
              "      <th>1</th>\n",
              "      <td>im getting on borderlands and i will kill you ...</td>\n",
              "      <td>Positive</td>\n",
              "    </tr>\n",
              "    <tr>\n",
              "      <th>2</th>\n",
              "      <td>im coming on borderlands and i will murder you...</td>\n",
              "      <td>Positive</td>\n",
              "    </tr>\n",
              "    <tr>\n",
              "      <th>3</th>\n",
              "      <td>im getting on borderlands 2 and i will murder ...</td>\n",
              "      <td>Positive</td>\n",
              "    </tr>\n",
              "    <tr>\n",
              "      <th>4</th>\n",
              "      <td>im getting into borderlands and i can murder y...</td>\n",
              "      <td>Positive</td>\n",
              "    </tr>\n",
              "  </tbody>\n",
              "</table>\n",
              "</div>\n",
              "      <button class=\"colab-df-convert\" onclick=\"convertToInteractive('df-2b4ea3d6-300b-4f25-a765-60498e609b38')\"\n",
              "              title=\"Convert this dataframe to an interactive table.\"\n",
              "              style=\"display:none;\">\n",
              "        \n",
              "  <svg xmlns=\"http://www.w3.org/2000/svg\" height=\"24px\"viewBox=\"0 0 24 24\"\n",
              "       width=\"24px\">\n",
              "    <path d=\"M0 0h24v24H0V0z\" fill=\"none\"/>\n",
              "    <path d=\"M18.56 5.44l.94 2.06.94-2.06 2.06-.94-2.06-.94-.94-2.06-.94 2.06-2.06.94zm-11 1L8.5 8.5l.94-2.06 2.06-.94-2.06-.94L8.5 2.5l-.94 2.06-2.06.94zm10 10l.94 2.06.94-2.06 2.06-.94-2.06-.94-.94-2.06-.94 2.06-2.06.94z\"/><path d=\"M17.41 7.96l-1.37-1.37c-.4-.4-.92-.59-1.43-.59-.52 0-1.04.2-1.43.59L10.3 9.45l-7.72 7.72c-.78.78-.78 2.05 0 2.83L4 21.41c.39.39.9.59 1.41.59.51 0 1.02-.2 1.41-.59l7.78-7.78 2.81-2.81c.8-.78.8-2.07 0-2.86zM5.41 20L4 18.59l7.72-7.72 1.47 1.35L5.41 20z\"/>\n",
              "  </svg>\n",
              "      </button>\n",
              "      \n",
              "  <style>\n",
              "    .colab-df-container {\n",
              "      display:flex;\n",
              "      flex-wrap:wrap;\n",
              "      gap: 12px;\n",
              "    }\n",
              "\n",
              "    .colab-df-convert {\n",
              "      background-color: #E8F0FE;\n",
              "      border: none;\n",
              "      border-radius: 50%;\n",
              "      cursor: pointer;\n",
              "      display: none;\n",
              "      fill: #1967D2;\n",
              "      height: 32px;\n",
              "      padding: 0 0 0 0;\n",
              "      width: 32px;\n",
              "    }\n",
              "\n",
              "    .colab-df-convert:hover {\n",
              "      background-color: #E2EBFA;\n",
              "      box-shadow: 0px 1px 2px rgba(60, 64, 67, 0.3), 0px 1px 3px 1px rgba(60, 64, 67, 0.15);\n",
              "      fill: #174EA6;\n",
              "    }\n",
              "\n",
              "    [theme=dark] .colab-df-convert {\n",
              "      background-color: #3B4455;\n",
              "      fill: #D2E3FC;\n",
              "    }\n",
              "\n",
              "    [theme=dark] .colab-df-convert:hover {\n",
              "      background-color: #434B5C;\n",
              "      box-shadow: 0px 1px 3px 1px rgba(0, 0, 0, 0.15);\n",
              "      filter: drop-shadow(0px 1px 2px rgba(0, 0, 0, 0.3));\n",
              "      fill: #FFFFFF;\n",
              "    }\n",
              "  </style>\n",
              "\n",
              "      <script>\n",
              "        const buttonEl =\n",
              "          document.querySelector('#df-2b4ea3d6-300b-4f25-a765-60498e609b38 button.colab-df-convert');\n",
              "        buttonEl.style.display =\n",
              "          google.colab.kernel.accessAllowed ? 'block' : 'none';\n",
              "\n",
              "        async function convertToInteractive(key) {\n",
              "          const element = document.querySelector('#df-2b4ea3d6-300b-4f25-a765-60498e609b38');\n",
              "          const dataTable =\n",
              "            await google.colab.kernel.invokeFunction('convertToInteractive',\n",
              "                                                     [key], {});\n",
              "          if (!dataTable) return;\n",
              "\n",
              "          const docLinkHtml = 'Like what you see? Visit the ' +\n",
              "            '<a target=\"_blank\" href=https://colab.research.google.com/notebooks/data_table.ipynb>data table notebook</a>'\n",
              "            + ' to learn more about interactive tables.';\n",
              "          element.innerHTML = '';\n",
              "          dataTable['output_type'] = 'display_data';\n",
              "          await google.colab.output.renderOutput(dataTable, element);\n",
              "          const docLink = document.createElement('div');\n",
              "          docLink.innerHTML = docLinkHtml;\n",
              "          element.appendChild(docLink);\n",
              "        }\n",
              "      </script>\n",
              "    </div>\n",
              "  </div>\n",
              "  "
            ]
          },
          "metadata": {},
          "execution_count": 9
        }
      ]
    },
    {
      "cell_type": "code",
      "source": [
        "df_train.shape"
      ],
      "metadata": {
        "colab": {
          "base_uri": "https://localhost:8080/"
        },
        "id": "4XPKfbK-RkbQ",
        "outputId": "99c08ad4-8d5a-4672-d68c-037106eea3b7"
      },
      "execution_count": 30,
      "outputs": [
        {
          "output_type": "execute_result",
          "data": {
            "text/plain": [
              "(73995, 2)"
            ]
          },
          "metadata": {},
          "execution_count": 30
        }
      ]
    },
    {
      "cell_type": "code",
      "source": [
        "df_test.shape"
      ],
      "metadata": {
        "colab": {
          "base_uri": "https://localhost:8080/"
        },
        "id": "23kSkZ4fRn40",
        "outputId": "82fed517-2f90-4d3a-dbab-a23d45c6ffb0"
      },
      "execution_count": 31,
      "outputs": [
        {
          "output_type": "execute_result",
          "data": {
            "text/plain": [
              "(999, 2)"
            ]
          },
          "metadata": {},
          "execution_count": 31
        }
      ]
    },
    {
      "cell_type": "markdown",
      "source": [
        "# Data Preparation"
      ],
      "metadata": {
        "id": "_uPDhwvoa6jX"
      }
    },
    {
      "cell_type": "markdown",
      "source": [
        "## Mapping Sentiment"
      ],
      "metadata": {
        "id": "nLTCZxWO81EZ"
      }
    },
    {
      "cell_type": "code",
      "source": [
        "df_train['sentiment'] = df_train['sentiment'].map({\n",
        "    'Negative': 0,\n",
        "    'Neutral': 1,\n",
        "    'Positive': 2,\n",
        "    'Irrelevant': 3\n",
        "})\n",
        "\n",
        "df_test['sentiment'] = df_test['sentiment'].map({\n",
        "    'Negative': 0,\n",
        "    'Neutral': 1,\n",
        "    'Positive': 2,\n",
        "    'Irrelevant': 3    \n",
        "})"
      ],
      "metadata": {
        "id": "nPT3fgdc84Nr"
      },
      "execution_count": 10,
      "outputs": []
    },
    {
      "cell_type": "code",
      "source": [
        "df_train.sample(5)"
      ],
      "metadata": {
        "colab": {
          "base_uri": "https://localhost:8080/",
          "height": 206
        },
        "id": "_f4rDaRj9c4b",
        "outputId": "0fe82bb1-5e8c-4f5e-d1f5-c05cd08ff338"
      },
      "execution_count": 11,
      "outputs": [
        {
          "output_type": "execute_result",
          "data": {
            "text/plain": [
              "                                                    text  sentiment\n",
              "18816  Remember when he shoved a remote in the ass, h...          3\n",
              "63255  link @Equipment_Guru Link @EAMaddenNFL @espn T...          2\n",
              "35464  Adobe has a 35-year history by delivering exce...          2\n",
              "17087                  Epic Games CEO talked about the            2\n",
              "50864  @EAHelp you rats really like the option to rec...          0"
            ],
            "text/html": [
              "\n",
              "  <div id=\"df-a8bb7d9e-0abc-4d2e-a75b-ae28d1e3ddf5\">\n",
              "    <div class=\"colab-df-container\">\n",
              "      <div>\n",
              "<style scoped>\n",
              "    .dataframe tbody tr th:only-of-type {\n",
              "        vertical-align: middle;\n",
              "    }\n",
              "\n",
              "    .dataframe tbody tr th {\n",
              "        vertical-align: top;\n",
              "    }\n",
              "\n",
              "    .dataframe thead th {\n",
              "        text-align: right;\n",
              "    }\n",
              "</style>\n",
              "<table border=\"1\" class=\"dataframe\">\n",
              "  <thead>\n",
              "    <tr style=\"text-align: right;\">\n",
              "      <th></th>\n",
              "      <th>text</th>\n",
              "      <th>sentiment</th>\n",
              "    </tr>\n",
              "  </thead>\n",
              "  <tbody>\n",
              "    <tr>\n",
              "      <th>18816</th>\n",
              "      <td>Remember when he shoved a remote in the ass, h...</td>\n",
              "      <td>3</td>\n",
              "    </tr>\n",
              "    <tr>\n",
              "      <th>63255</th>\n",
              "      <td>link @Equipment_Guru Link @EAMaddenNFL @espn T...</td>\n",
              "      <td>2</td>\n",
              "    </tr>\n",
              "    <tr>\n",
              "      <th>35464</th>\n",
              "      <td>Adobe has a 35-year history by delivering exce...</td>\n",
              "      <td>2</td>\n",
              "    </tr>\n",
              "    <tr>\n",
              "      <th>17087</th>\n",
              "      <td>Epic Games CEO talked about the</td>\n",
              "      <td>2</td>\n",
              "    </tr>\n",
              "    <tr>\n",
              "      <th>50864</th>\n",
              "      <td>@EAHelp you rats really like the option to rec...</td>\n",
              "      <td>0</td>\n",
              "    </tr>\n",
              "  </tbody>\n",
              "</table>\n",
              "</div>\n",
              "      <button class=\"colab-df-convert\" onclick=\"convertToInteractive('df-a8bb7d9e-0abc-4d2e-a75b-ae28d1e3ddf5')\"\n",
              "              title=\"Convert this dataframe to an interactive table.\"\n",
              "              style=\"display:none;\">\n",
              "        \n",
              "  <svg xmlns=\"http://www.w3.org/2000/svg\" height=\"24px\"viewBox=\"0 0 24 24\"\n",
              "       width=\"24px\">\n",
              "    <path d=\"M0 0h24v24H0V0z\" fill=\"none\"/>\n",
              "    <path d=\"M18.56 5.44l.94 2.06.94-2.06 2.06-.94-2.06-.94-.94-2.06-.94 2.06-2.06.94zm-11 1L8.5 8.5l.94-2.06 2.06-.94-2.06-.94L8.5 2.5l-.94 2.06-2.06.94zm10 10l.94 2.06.94-2.06 2.06-.94-2.06-.94-.94-2.06-.94 2.06-2.06.94z\"/><path d=\"M17.41 7.96l-1.37-1.37c-.4-.4-.92-.59-1.43-.59-.52 0-1.04.2-1.43.59L10.3 9.45l-7.72 7.72c-.78.78-.78 2.05 0 2.83L4 21.41c.39.39.9.59 1.41.59.51 0 1.02-.2 1.41-.59l7.78-7.78 2.81-2.81c.8-.78.8-2.07 0-2.86zM5.41 20L4 18.59l7.72-7.72 1.47 1.35L5.41 20z\"/>\n",
              "  </svg>\n",
              "      </button>\n",
              "      \n",
              "  <style>\n",
              "    .colab-df-container {\n",
              "      display:flex;\n",
              "      flex-wrap:wrap;\n",
              "      gap: 12px;\n",
              "    }\n",
              "\n",
              "    .colab-df-convert {\n",
              "      background-color: #E8F0FE;\n",
              "      border: none;\n",
              "      border-radius: 50%;\n",
              "      cursor: pointer;\n",
              "      display: none;\n",
              "      fill: #1967D2;\n",
              "      height: 32px;\n",
              "      padding: 0 0 0 0;\n",
              "      width: 32px;\n",
              "    }\n",
              "\n",
              "    .colab-df-convert:hover {\n",
              "      background-color: #E2EBFA;\n",
              "      box-shadow: 0px 1px 2px rgba(60, 64, 67, 0.3), 0px 1px 3px 1px rgba(60, 64, 67, 0.15);\n",
              "      fill: #174EA6;\n",
              "    }\n",
              "\n",
              "    [theme=dark] .colab-df-convert {\n",
              "      background-color: #3B4455;\n",
              "      fill: #D2E3FC;\n",
              "    }\n",
              "\n",
              "    [theme=dark] .colab-df-convert:hover {\n",
              "      background-color: #434B5C;\n",
              "      box-shadow: 0px 1px 3px 1px rgba(0, 0, 0, 0.15);\n",
              "      filter: drop-shadow(0px 1px 2px rgba(0, 0, 0, 0.3));\n",
              "      fill: #FFFFFF;\n",
              "    }\n",
              "  </style>\n",
              "\n",
              "      <script>\n",
              "        const buttonEl =\n",
              "          document.querySelector('#df-a8bb7d9e-0abc-4d2e-a75b-ae28d1e3ddf5 button.colab-df-convert');\n",
              "        buttonEl.style.display =\n",
              "          google.colab.kernel.accessAllowed ? 'block' : 'none';\n",
              "\n",
              "        async function convertToInteractive(key) {\n",
              "          const element = document.querySelector('#df-a8bb7d9e-0abc-4d2e-a75b-ae28d1e3ddf5');\n",
              "          const dataTable =\n",
              "            await google.colab.kernel.invokeFunction('convertToInteractive',\n",
              "                                                     [key], {});\n",
              "          if (!dataTable) return;\n",
              "\n",
              "          const docLinkHtml = 'Like what you see? Visit the ' +\n",
              "            '<a target=\"_blank\" href=https://colab.research.google.com/notebooks/data_table.ipynb>data table notebook</a>'\n",
              "            + ' to learn more about interactive tables.';\n",
              "          element.innerHTML = '';\n",
              "          dataTable['output_type'] = 'display_data';\n",
              "          await google.colab.output.renderOutput(dataTable, element);\n",
              "          const docLink = document.createElement('div');\n",
              "          docLink.innerHTML = docLinkHtml;\n",
              "          element.appendChild(docLink);\n",
              "        }\n",
              "      </script>\n",
              "    </div>\n",
              "  </div>\n",
              "  "
            ]
          },
          "metadata": {},
          "execution_count": 11
        }
      ]
    },
    {
      "cell_type": "code",
      "source": [
        "df_test.sample(5)"
      ],
      "metadata": {
        "colab": {
          "base_uri": "https://localhost:8080/",
          "height": 206
        },
        "id": "h712wfb89c7A",
        "outputId": "36f59e4e-8c10-438f-ab46-3bb4ab8b8080"
      },
      "execution_count": 12,
      "outputs": [
        {
          "output_type": "execute_result",
          "data": {
            "text/plain": [
              "                                                  text  sentiment\n",
              "376                           Happy birthday Gautam 😍😍          3\n",
              "221  This official Microsoft Trailer of #microsoftf...          2\n",
              "333  #RTXOn\\n@Miki21144689 have no one else ^^ but ...          3\n",
              "379  Congratulations guys finally PUBG UNBAN ho gye...          2\n",
              "139  See I can get behind it when you explain ya se...          3"
            ],
            "text/html": [
              "\n",
              "  <div id=\"df-301c7644-071c-4d0e-899e-2f295da2190e\">\n",
              "    <div class=\"colab-df-container\">\n",
              "      <div>\n",
              "<style scoped>\n",
              "    .dataframe tbody tr th:only-of-type {\n",
              "        vertical-align: middle;\n",
              "    }\n",
              "\n",
              "    .dataframe tbody tr th {\n",
              "        vertical-align: top;\n",
              "    }\n",
              "\n",
              "    .dataframe thead th {\n",
              "        text-align: right;\n",
              "    }\n",
              "</style>\n",
              "<table border=\"1\" class=\"dataframe\">\n",
              "  <thead>\n",
              "    <tr style=\"text-align: right;\">\n",
              "      <th></th>\n",
              "      <th>text</th>\n",
              "      <th>sentiment</th>\n",
              "    </tr>\n",
              "  </thead>\n",
              "  <tbody>\n",
              "    <tr>\n",
              "      <th>376</th>\n",
              "      <td>Happy birthday Gautam 😍😍</td>\n",
              "      <td>3</td>\n",
              "    </tr>\n",
              "    <tr>\n",
              "      <th>221</th>\n",
              "      <td>This official Microsoft Trailer of #microsoftf...</td>\n",
              "      <td>2</td>\n",
              "    </tr>\n",
              "    <tr>\n",
              "      <th>333</th>\n",
              "      <td>#RTXOn\\n@Miki21144689 have no one else ^^ but ...</td>\n",
              "      <td>3</td>\n",
              "    </tr>\n",
              "    <tr>\n",
              "      <th>379</th>\n",
              "      <td>Congratulations guys finally PUBG UNBAN ho gye...</td>\n",
              "      <td>2</td>\n",
              "    </tr>\n",
              "    <tr>\n",
              "      <th>139</th>\n",
              "      <td>See I can get behind it when you explain ya se...</td>\n",
              "      <td>3</td>\n",
              "    </tr>\n",
              "  </tbody>\n",
              "</table>\n",
              "</div>\n",
              "      <button class=\"colab-df-convert\" onclick=\"convertToInteractive('df-301c7644-071c-4d0e-899e-2f295da2190e')\"\n",
              "              title=\"Convert this dataframe to an interactive table.\"\n",
              "              style=\"display:none;\">\n",
              "        \n",
              "  <svg xmlns=\"http://www.w3.org/2000/svg\" height=\"24px\"viewBox=\"0 0 24 24\"\n",
              "       width=\"24px\">\n",
              "    <path d=\"M0 0h24v24H0V0z\" fill=\"none\"/>\n",
              "    <path d=\"M18.56 5.44l.94 2.06.94-2.06 2.06-.94-2.06-.94-.94-2.06-.94 2.06-2.06.94zm-11 1L8.5 8.5l.94-2.06 2.06-.94-2.06-.94L8.5 2.5l-.94 2.06-2.06.94zm10 10l.94 2.06.94-2.06 2.06-.94-2.06-.94-.94-2.06-.94 2.06-2.06.94z\"/><path d=\"M17.41 7.96l-1.37-1.37c-.4-.4-.92-.59-1.43-.59-.52 0-1.04.2-1.43.59L10.3 9.45l-7.72 7.72c-.78.78-.78 2.05 0 2.83L4 21.41c.39.39.9.59 1.41.59.51 0 1.02-.2 1.41-.59l7.78-7.78 2.81-2.81c.8-.78.8-2.07 0-2.86zM5.41 20L4 18.59l7.72-7.72 1.47 1.35L5.41 20z\"/>\n",
              "  </svg>\n",
              "      </button>\n",
              "      \n",
              "  <style>\n",
              "    .colab-df-container {\n",
              "      display:flex;\n",
              "      flex-wrap:wrap;\n",
              "      gap: 12px;\n",
              "    }\n",
              "\n",
              "    .colab-df-convert {\n",
              "      background-color: #E8F0FE;\n",
              "      border: none;\n",
              "      border-radius: 50%;\n",
              "      cursor: pointer;\n",
              "      display: none;\n",
              "      fill: #1967D2;\n",
              "      height: 32px;\n",
              "      padding: 0 0 0 0;\n",
              "      width: 32px;\n",
              "    }\n",
              "\n",
              "    .colab-df-convert:hover {\n",
              "      background-color: #E2EBFA;\n",
              "      box-shadow: 0px 1px 2px rgba(60, 64, 67, 0.3), 0px 1px 3px 1px rgba(60, 64, 67, 0.15);\n",
              "      fill: #174EA6;\n",
              "    }\n",
              "\n",
              "    [theme=dark] .colab-df-convert {\n",
              "      background-color: #3B4455;\n",
              "      fill: #D2E3FC;\n",
              "    }\n",
              "\n",
              "    [theme=dark] .colab-df-convert:hover {\n",
              "      background-color: #434B5C;\n",
              "      box-shadow: 0px 1px 3px 1px rgba(0, 0, 0, 0.15);\n",
              "      filter: drop-shadow(0px 1px 2px rgba(0, 0, 0, 0.3));\n",
              "      fill: #FFFFFF;\n",
              "    }\n",
              "  </style>\n",
              "\n",
              "      <script>\n",
              "        const buttonEl =\n",
              "          document.querySelector('#df-301c7644-071c-4d0e-899e-2f295da2190e button.colab-df-convert');\n",
              "        buttonEl.style.display =\n",
              "          google.colab.kernel.accessAllowed ? 'block' : 'none';\n",
              "\n",
              "        async function convertToInteractive(key) {\n",
              "          const element = document.querySelector('#df-301c7644-071c-4d0e-899e-2f295da2190e');\n",
              "          const dataTable =\n",
              "            await google.colab.kernel.invokeFunction('convertToInteractive',\n",
              "                                                     [key], {});\n",
              "          if (!dataTable) return;\n",
              "\n",
              "          const docLinkHtml = 'Like what you see? Visit the ' +\n",
              "            '<a target=\"_blank\" href=https://colab.research.google.com/notebooks/data_table.ipynb>data table notebook</a>'\n",
              "            + ' to learn more about interactive tables.';\n",
              "          element.innerHTML = '';\n",
              "          dataTable['output_type'] = 'display_data';\n",
              "          await google.colab.output.renderOutput(dataTable, element);\n",
              "          const docLink = document.createElement('div');\n",
              "          docLink.innerHTML = docLinkHtml;\n",
              "          element.appendChild(docLink);\n",
              "        }\n",
              "      </script>\n",
              "    </div>\n",
              "  </div>\n",
              "  "
            ]
          },
          "metadata": {},
          "execution_count": 12
        }
      ]
    },
    {
      "cell_type": "markdown",
      "source": [
        "## Removing null data"
      ],
      "metadata": {
        "id": "6ON6SAjhsfz6"
      }
    },
    {
      "cell_type": "code",
      "source": [
        "# removing Null data in the dataset\n",
        "df_train['text'].replace('', np.nan, inplace=True)\n",
        "df_train.dropna(subset=['text'], inplace=True)\n",
        "\n",
        "df_test['text'].replace('', np.nan, inplace=True)\n",
        "df_test.dropna(subset=['text'], inplace=True)"
      ],
      "metadata": {
        "id": "8bPuHQiY9c9p"
      },
      "execution_count": 13,
      "outputs": []
    },
    {
      "cell_type": "markdown",
      "source": [
        "## Plot Sentiment Distribution"
      ],
      "metadata": {
        "id": "vcADSoDIsnJc"
      }
    },
    {
      "cell_type": "code",
      "source": [
        "sns.countplot(data=df_train,\n",
        "              x='sentiment')\n",
        "plt.show()"
      ],
      "metadata": {
        "colab": {
          "base_uri": "https://localhost:8080/",
          "height": 279
        },
        "id": "C3TC1Ff6-5z-",
        "outputId": "138a176f-9c51-4976-fc1b-f13d8399419d"
      },
      "execution_count": 14,
      "outputs": [
        {
          "output_type": "display_data",
          "data": {
            "text/plain": [
              "<Figure size 432x288 with 1 Axes>"
            ],
            "image/png": "[encoded data removed]"
          },
          "metadata": {
            "needs_background": "light"
          }
        }
      ]
    },
    {
      "cell_type": "code",
      "source": [
        "sns.countplot(data=df_test,\n",
        "              x='sentiment')\n",
        "plt.show()"
      ],
      "metadata": {
        "colab": {
          "base_uri": "https://localhost:8080/",
          "height": 279
        },
        "id": "jNBeMC_P_B86",
        "outputId": "9bf63792-d8d0-4837-e9b2-4cb9e787476c"
      },
      "execution_count": 15,
      "outputs": [
        {
          "output_type": "display_data",
          "data": {
            "text/plain": [
              "<Figure size 432x288 with 1 Axes>"
            ],
            "image/png": "[encoded data removed]"
          },
          "metadata": {
            "needs_background": "light"
          }
        }
      ]
    },
    {
      "cell_type": "markdown",
      "source": [
        "## Define parameter"
      ],
      "metadata": {
        "id": "VEMIWG0wswph"
      }
    },
    {
      "cell_type": "code",
      "source": [
        "vocab_size = 5000\n",
        "embedding_dim = 64\n",
        "max_length = 128\n",
        "\n",
        "trunc_type = 'post'\n",
        "padding_type = 'post'"
      ],
      "metadata": {
        "id": "G9DR5-zS_LRL"
      },
      "execution_count": 21,
      "outputs": []
    },
    {
      "cell_type": "markdown",
      "source": [
        "## Train Test Split"
      ],
      "metadata": {
        "id": "Rt9T1Y13s2AF"
      }
    },
    {
      "cell_type": "code",
      "source": [
        "from sklearn.model_selection import train_test_split\n",
        "\n",
        "X_train, X_val, y_train, y_val = train_test_split(\n",
        "    df_train['text'], #data text\n",
        "    df_train['sentiment'], #data label\n",
        "    test_size=0.2,\n",
        "    random_state=42\n",
        ")"
      ],
      "metadata": {
        "id": "2qYvO-RtBmzi"
      },
      "execution_count": 19,
      "outputs": []
    },
    {
      "cell_type": "markdown",
      "source": [
        "## Tokenization and build word index"
      ],
      "metadata": {
        "id": "PiF9aQhbs_rz"
      }
    },
    {
      "cell_type": "code",
      "source": [
        "tokenizer = Tokenizer(num_words=vocab_size)\n",
        "tokenizer.fit_on_texts(df_train['text'])\n",
        "word_index = tokenizer.word_index"
      ],
      "metadata": {
        "id": "1QXfbLHHBm2N"
      },
      "execution_count": 22,
      "outputs": []
    },
    {
      "cell_type": "code",
      "source": [
        "dict(list(word_index.items())[0:10])"
      ],
      "metadata": {
        "colab": {
          "base_uri": "https://localhost:8080/"
        },
        "id": "WQTS33Qs_LT4",
        "outputId": "36c195ec-ade1-457d-ac6d-a6fdb65ec3ec"
      },
      "execution_count": 23,
      "outputs": [
        {
          "output_type": "execute_result",
          "data": {
            "text/plain": [
              "{'the': 1,\n",
              " 'i': 2,\n",
              " 'to': 3,\n",
              " 'and': 4,\n",
              " 'a': 5,\n",
              " 'of': 6,\n",
              " 'is': 7,\n",
              " 'in': 8,\n",
              " 'for': 9,\n",
              " 'this': 10}"
            ]
          },
          "metadata": {},
          "execution_count": 23
        }
      ]
    },
    {
      "cell_type": "markdown",
      "source": [
        "## Convert Text to Sequences"
      ],
      "metadata": {
        "id": "wnhKf-iPtJa1"
      }
    },
    {
      "cell_type": "code",
      "source": [
        "X_train"
      ],
      "metadata": {
        "colab": {
          "base_uri": "https://localhost:8080/"
        },
        "id": "m8ej-EZ-tVdj",
        "outputId": "ee2e17b4-5fc4-4d15-9b69-b719a62319df"
      },
      "execution_count": 56,
      "outputs": [
        {
          "output_type": "execute_result",
          "data": {
            "text/plain": [
              "61022    i had a dream my girlfriend and i got married ...\n",
              "33058    buy yo Alix or formula now am big big fan of i...\n",
              "19839    I also just earned the [ Scrappy'S s Weekly Be...\n",
              "74051    NVIDIA celebrates 40 years of Pac-Man with an ...\n",
              "13578    Congratulations to the champions of Season 2 @...\n",
              "                               ...                        \n",
              "37541    Liked on YouTube: Hearthstone Felfire Festival...\n",
              "6332                Not even gonna change the 7-2 loss ffs\n",
              "55392                      Fuck this call of duty update..\n",
              "864      I should get up & feed my dogs & stuff when th...\n",
              "15956                      Welcome Miss The International!\n",
              "Name: text, Length: 59196, dtype: object"
            ]
          },
          "metadata": {},
          "execution_count": 56
        }
      ]
    },
    {
      "cell_type": "code",
      "source": [
        "# Data Train -> Data Train Sequences\n",
        "train_sequences = tokenizer.texts_to_sequences(X_train)\n",
        "\n",
        "# Data Validation -> Data Validation Sequences\n",
        "validation_sequences = tokenizer.texts_to_sequences(X_val)"
      ],
      "metadata": {
        "id": "gjE75QY6_LW3"
      },
      "execution_count": 24,
      "outputs": []
    },
    {
      "cell_type": "code",
      "source": [
        "train_sequences[1]"
      ],
      "metadata": {
        "colab": {
          "base_uri": "https://localhost:8080/"
        },
        "id": "zIusUNYm_LZ-",
        "outputId": "52e277d1-d88e-41a9-dfd5-7eeeb41d2ad2"
      },
      "execution_count": 25,
      "outputs": [
        {
          "output_type": "execute_result",
          "data": {
            "text/plain": [
              "[235,\n",
              " 590,\n",
              " 69,\n",
              " 3095,\n",
              " 37,\n",
              " 120,\n",
              " 224,\n",
              " 224,\n",
              " 543,\n",
              " 6,\n",
              " 11,\n",
              " 52,\n",
              " 531,\n",
              " 239,\n",
              " 295,\n",
              " 3,\n",
              " 67,\n",
              " 8,\n",
              " 5,\n",
              " 2180,\n",
              " 14,\n",
              " 202,\n",
              " 3893,\n",
              " 120,\n",
              " 1648,\n",
              " 808,\n",
              " 703,\n",
              " 21]"
            ]
          },
          "metadata": {},
          "execution_count": 25
        }
      ]
    },
    {
      "cell_type": "code",
      "source": [
        "len(train_sequences)"
      ],
      "metadata": {
        "colab": {
          "base_uri": "https://localhost:8080/"
        },
        "id": "F2bB6t2aRZMd",
        "outputId": "35d0b42f-ca01-4448-a8f6-4fba275ed5b1"
      },
      "execution_count": 28,
      "outputs": [
        {
          "output_type": "execute_result",
          "data": {
            "text/plain": [
              "59196"
            ]
          },
          "metadata": {},
          "execution_count": 28
        }
      ]
    },
    {
      "cell_type": "code",
      "source": [
        "# Data Train Sequences - Train Pad Sequences\n",
        "train_padded = pad_sequences(train_sequences,\n",
        "                             maxlen=max_length,\n",
        "                             padding=padding_type,\n",
        "                             truncating=trunc_type)\n",
        "\n",
        "# Data Validation Sequences - Validation Pad Sequences\n",
        "validation_padded = pad_sequences(validation_sequences,\n",
        "                                  maxlen=max_length,\n",
        "                                  padding=padding_type,\n",
        "                                  truncating=trunc_type)"
      ],
      "metadata": {
        "id": "UtJesIuRRcS6"
      },
      "execution_count": 39,
      "outputs": []
    },
    {
      "cell_type": "code",
      "source": [
        "train_padded[1]"
      ],
      "metadata": {
        "colab": {
          "base_uri": "https://localhost:8080/"
        },
        "id": "AHbGQHCrSAJr",
        "outputId": "f6eb28c6-7cdc-4223-8a81-a20e406a64b6"
      },
      "execution_count": 40,
      "outputs": [
        {
          "output_type": "execute_result",
          "data": {
            "text/plain": [
              "array([ 235,  590,   69, 3095,   37,  120,  224,  224,  543,    6,   11,\n",
              "         52,  531,  239,  295,    3,   67,    8,    5, 2180,   14,  202,\n",
              "       3893,  120, 1648,  808,  703,   21,    0,    0,    0,    0,    0,\n",
              "          0,    0,    0,    0,    0,    0,    0,    0,    0,    0,    0,\n",
              "          0,    0,    0,    0,    0,    0,    0,    0,    0,    0,    0,\n",
              "          0,    0,    0,    0,    0,    0,    0,    0,    0,    0,    0,\n",
              "          0,    0,    0,    0,    0,    0,    0,    0,    0,    0,    0,\n",
              "          0,    0,    0,    0,    0,    0,    0,    0,    0,    0,    0,\n",
              "          0,    0,    0,    0,    0,    0,    0,    0,    0,    0,    0,\n",
              "          0,    0,    0,    0,    0,    0,    0,    0,    0,    0,    0,\n",
              "          0,    0,    0,    0,    0,    0,    0,    0,    0,    0,    0,\n",
              "          0,    0,    0,    0,    0,    0,    0], dtype=int32)"
            ]
          },
          "metadata": {},
          "execution_count": 40
        }
      ]
    },
    {
      "cell_type": "markdown",
      "source": [
        "# 1) LSTM"
      ],
      "metadata": {
        "id": "nN9jiX6T_HgC"
      }
    },
    {
      "cell_type": "markdown",
      "source": [
        "## Define Model (LSTM)"
      ],
      "metadata": {
        "id": "v6VggyKISEwU"
      }
    },
    {
      "cell_type": "code",
      "source": [
        "model = tf.keras.Sequential([\n",
        "    tf.keras.layers.Embedding(vocab_size, embedding_dim),\n",
        "    tf.keras.layers.Bidirectional(tf.keras.layers.LSTM(embedding_dim)),\n",
        "    tf.keras.layers.Dense(embedding_dim, activation='relu'),\n",
        "    tf.keras.layers.Dense(4, activation='softmax')\n",
        "])\n",
        "\n",
        "model.summary()"
      ],
      "metadata": {
        "colab": {
          "base_uri": "https://localhost:8080/"
        },
        "id": "iQu8IePpSCvr",
        "outputId": "322cd638-12d5-4ddd-ddad-e67a47adba91"
      },
      "execution_count": 41,
      "outputs": [
        {
          "output_type": "stream",
          "name": "stdout",
          "text": [
            "Model: \"sequential_1\"\n",
            "_________________________________________________________________\n",
            " Layer (type)                Output Shape              Param #   \n",
            "=================================================================\n",
            " embedding_1 (Embedding)     (None, None, 64)          320000    \n",
            "                                                                 \n",
            " bidirectional_1 (Bidirectio  (None, 128)              66048     \n",
            " nal)                                                            \n",
            "                                                                 \n",
            " dense_2 (Dense)             (None, 64)                8256      \n",
            "                                                                 \n",
            " dense_3 (Dense)             (None, 4)                 260       \n",
            "                                                                 \n",
            "=================================================================\n",
            "Total params: 394,564\n",
            "Trainable params: 394,564\n",
            "Non-trainable params: 0\n",
            "_________________________________________________________________\n"
          ]
        }
      ]
    },
    {
      "cell_type": "code",
      "source": [
        "tf.keras.utils.plot_model(model,\n",
        "                          show_shapes=True)"
      ],
      "metadata": {
        "colab": {
          "base_uri": "https://localhost:8080/",
          "height": 533
        },
        "id": "J7IpUEoZWuVD",
        "outputId": "7a2e3660-bb3f-4e19-dddf-0dbda9792849"
      },
      "execution_count": 42,
      "outputs": [
        {
          "output_type": "execute_result",
          "data": {
            "image/png": "[encoded data removed]",
            "text/plain": [
              "<IPython.core.display.Image object>"
            ]
          },
          "metadata": {},
          "execution_count": 42
        }
      ]
    },
    {
      "cell_type": "code",
      "source": [
        "import timeit\n",
        "start = timeit.default_timer()"
      ],
      "metadata": {
        "id": "EDrq1P82W4iZ"
      },
      "execution_count": 43,
      "outputs": []
    },
    {
      "cell_type": "code",
      "source": [
        "model.compile(\n",
        "    loss='sparse_categorical_crossentropy',\n",
        "    optimizer='adam',\n",
        "    metrics=['accuracy']\n",
        ")\n",
        "\n",
        "early_stopping = tf.keras.callbacks.EarlyStopping(\n",
        "    monitor='val_loss',\n",
        "    mode='auto',\n",
        "    patience=2,\n",
        "    restore_best_weights=True\n",
        ")\n",
        "\n",
        "num_epochs = 15\n",
        "\n",
        "history = model.fit(\n",
        "    train_padded,\n",
        "    y_train,\n",
        "    batch_size=128,\n",
        "    epochs=num_epochs,\n",
        "    callbacks=[early_stopping],\n",
        "    validation_data=(validation_padded, y_val)\n",
        ")"
      ],
      "metadata": {
        "colab": {
          "base_uri": "https://localhost:8080/"
        },
        "id": "jQKES287XXhY",
        "outputId": "dd74e82e-48f0-495b-fa62-c2ca840d4d3b"
      },
      "execution_count": 44,
      "outputs": [
        {
          "output_type": "stream",
          "name": "stdout",
          "text": [
            "Epoch 1/15\n",
            "463/463 [==============================] - 16s 28ms/step - loss: 0.9843 - accuracy: 0.5879 - val_loss: 0.7993 - val_accuracy: 0.6891\n",
            "Epoch 2/15\n",
            "463/463 [==============================] - 15s 32ms/step - loss: 0.6659 - accuracy: 0.7460 - val_loss: 0.6921 - val_accuracy: 0.7359\n",
            "Epoch 3/15\n",
            "463/463 [==============================] - 16s 34ms/step - loss: 0.5312 - accuracy: 0.7987 - val_loss: 0.6026 - val_accuracy: 0.7727\n",
            "Epoch 4/15\n",
            "463/463 [==============================] - 13s 28ms/step - loss: 0.4344 - accuracy: 0.8367 - val_loss: 0.5674 - val_accuracy: 0.7897\n",
            "Epoch 5/15\n",
            "463/463 [==============================] - 10s 22ms/step - loss: 0.3666 - accuracy: 0.8621 - val_loss: 0.5554 - val_accuracy: 0.8067\n",
            "Epoch 6/15\n",
            "463/463 [==============================] - 10s 21ms/step - loss: 0.3157 - accuracy: 0.8804 - val_loss: 0.5462 - val_accuracy: 0.8102\n",
            "Epoch 7/15\n",
            "463/463 [==============================] - 10s 21ms/step - loss: 0.2798 - accuracy: 0.8940 - val_loss: 0.5488 - val_accuracy: 0.8169\n",
            "Epoch 8/15\n",
            "463/463 [==============================] - 10s 21ms/step - loss: 0.2505 - accuracy: 0.9056 - val_loss: 0.5652 - val_accuracy: 0.8230\n"
          ]
        }
      ]
    },
    {
      "cell_type": "code",
      "source": [
        "stop = timeit.default_timer()\n",
        "print('Time for Training: ', (stop - start) / 60, 'Menit')"
      ],
      "metadata": {
        "colab": {
          "base_uri": "https://localhost:8080/"
        },
        "id": "ENJCvd6TYPRM",
        "outputId": "676d4077-6783-4f0a-ab0b-73f1980a3f23"
      },
      "execution_count": 45,
      "outputs": [
        {
          "output_type": "stream",
          "name": "stdout",
          "text": [
            "Time for Training:  1.8110906626499854 Menit\n"
          ]
        }
      ]
    },
    {
      "cell_type": "markdown",
      "source": [
        "## Model Evaluation (LSTM)"
      ],
      "metadata": {
        "id": "BuIKcCBnYvh5"
      }
    },
    {
      "cell_type": "code",
      "source": [
        "def plot_history(history, string):\n",
        "  plt.plot(history.history[string])\n",
        "  plt.plot(history.history['val_'+string])\n",
        "\n",
        "  plt.xlabel('Epochs')\n",
        "  plt.ylabel(string)\n",
        "\n",
        "  plt.legend([string, 'val_'+string])\n",
        "  plt.show()"
      ],
      "metadata": {
        "id": "le13JKpjYwxw"
      },
      "execution_count": 46,
      "outputs": []
    },
    {
      "cell_type": "code",
      "source": [
        "plot_history(history, 'accuracy')"
      ],
      "metadata": {
        "colab": {
          "base_uri": "https://localhost:8080/",
          "height": 279
        },
        "id": "kzvNyA4IZWBK",
        "outputId": "36cb6cf7-4c12-4675-eb41-6d2f24a75787"
      },
      "execution_count": 47,
      "outputs": [
        {
          "output_type": "display_data",
          "data": {
            "text/plain": [
              "<Figure size 432x288 with 1 Axes>"
            ],
            "image/png": "[encoded data removed]"
          },
          "metadata": {
            "needs_background": "light"
          }
        }
      ]
    },
    {
      "cell_type": "code",
      "source": [
        "plot_history(history, \"loss\")"
      ],
      "metadata": {
        "colab": {
          "base_uri": "https://localhost:8080/",
          "height": 279
        },
        "id": "Jfp_AHsOaE5Q",
        "outputId": "769c848d-950b-416f-9395-4e8a9c23fd34"
      },
      "execution_count": 48,
      "outputs": [
        {
          "output_type": "display_data",
          "data": {
            "text/plain": [
              "<Figure size 432x288 with 1 Axes>"
            ],
            "image/png": "[encoded data removed]"
          },
          "metadata": {
            "needs_background": "light"
          }
        }
      ]
    },
    {
      "cell_type": "markdown",
      "source": [
        "## Inference (LSTM)"
      ],
      "metadata": {
        "id": "Oj89GEXcaJMa"
      }
    },
    {
      "cell_type": "code",
      "source": [
        "test_sequences = tokenizer.texts_to_sequences(df_test['text'])\n",
        "test_padded = pad_sequences(test_sequences,\n",
        "                            maxlen=max_length,\n",
        "                            padding=padding_type,\n",
        "                            truncating=trunc_type)\n",
        "\n",
        "prediction = np.argmax(model.predict(test_padded),\n",
        "                       axis=1)"
      ],
      "metadata": {
        "colab": {
          "base_uri": "https://localhost:8080/"
        },
        "id": "pWvftN30aIQ2",
        "outputId": "f7f734e5-6bb5-472f-fac5-97195a395cbb"
      },
      "execution_count": 50,
      "outputs": [
        {
          "output_type": "stream",
          "name": "stdout",
          "text": [
            "32/32 [==============================] - 1s 7ms/step\n"
          ]
        }
      ]
    },
    {
      "cell_type": "code",
      "source": [
        "test_sequences[1]"
      ],
      "metadata": {
        "colab": {
          "base_uri": "https://localhost:8080/"
        },
        "id": "X-GxlpFq9gGa",
        "outputId": "c36dce54-8ca1-44dd-f852-33da9b02f8f7"
      },
      "execution_count": 57,
      "outputs": [
        {
          "output_type": "execute_result",
          "data": {
            "text/plain": [
              "[102, 70, 45, 2, 402, 9, 853, 57, 11, 19, 2610, 13, 14]"
            ]
          },
          "metadata": {},
          "execution_count": 57
        }
      ]
    },
    {
      "cell_type": "code",
      "source": [
        "test_padded[1]"
      ],
      "metadata": {
        "colab": {
          "base_uri": "https://localhost:8080/"
        },
        "id": "MiBrFeg89i-R",
        "outputId": "5e672dc3-fb30-48c6-ebe1-730cfd9f288b"
      },
      "execution_count": 58,
      "outputs": [
        {
          "output_type": "execute_result",
          "data": {
            "text/plain": [
              "array([ 102,   70,   45,    2,  402,    9,  853,   57,   11,   19, 2610,\n",
              "         13,   14,    0,    0,    0,    0,    0,    0,    0,    0,    0,\n",
              "          0,    0,    0,    0,    0,    0,    0,    0,    0,    0,    0,\n",
              "          0,    0,    0,    0,    0,    0,    0,    0,    0,    0,    0,\n",
              "          0,    0,    0,    0,    0,    0,    0,    0,    0,    0,    0,\n",
              "          0,    0,    0,    0,    0,    0,    0,    0,    0,    0,    0,\n",
              "          0,    0,    0,    0,    0,    0,    0,    0,    0,    0,    0,\n",
              "          0,    0,    0,    0,    0,    0,    0,    0,    0,    0,    0,\n",
              "          0,    0,    0,    0,    0,    0,    0,    0,    0,    0,    0,\n",
              "          0,    0,    0,    0,    0,    0,    0,    0,    0,    0,    0,\n",
              "          0,    0,    0,    0,    0,    0,    0,    0,    0,    0,    0,\n",
              "          0,    0,    0,    0,    0,    0,    0], dtype=int32)"
            ]
          },
          "metadata": {},
          "execution_count": 58
        }
      ]
    },
    {
      "cell_type": "code",
      "source": [
        "def show_confusion_matrix(confusion_matrix):\n",
        "  plt.figure(figsize=(8,5))\n",
        "  hmap = sns.heatmap(confusion_matrix,\n",
        "                     annot=True,\n",
        "                     fmt='d',\n",
        "                     cmap='Blues')\n",
        "  hmap.yaxis.set_ticklabels(hmap.yaxis.get_ticklabels(),\n",
        "                            rotation=0,\n",
        "                            ha='right')\n",
        "  hmap.xaxis.set_ticklabels(hmap.xaxis.get_ticklabels(),\n",
        "                            rotation=30,\n",
        "                            ha='right')\n",
        "  plt.ylabel('True Label')\n",
        "  plt.xlabel('Predicted Label')\n",
        "  plt.show()\n",
        "\n",
        "print(classification_report(prediction,\n",
        "                            df_test['sentiment'],\n",
        "                            target_names=[\"Negative\",\n",
        "                                          \"Neutral\",\n",
        "                                          \"Positive\",\n",
        "                                          \"Irrelevant\"]))\n",
        "\n",
        "cm = confusion_matrix(prediction,\n",
        "                      df_test['sentiment'])\n",
        "show_confusion_matrix(cm)"
      ],
      "metadata": {
        "colab": {
          "base_uri": "https://localhost:8080/",
          "height": 527
        },
        "id": "yc_hDa0iam0p",
        "outputId": "b4ada63c-a3e3-4c93-ee20-fb05ea49be3e"
      },
      "execution_count": 52,
      "outputs": [
        {
          "output_type": "stream",
          "name": "stdout",
          "text": [
            "              precision    recall  f1-score   support\n",
            "\n",
            "    Negative       0.94      0.94      0.94       266\n",
            "     Neutral       0.91      0.94      0.92       278\n",
            "    Positive       0.91      0.93      0.92       272\n",
            "  Irrelevant       0.94      0.88      0.91       183\n",
            "\n",
            "    accuracy                           0.92       999\n",
            "   macro avg       0.93      0.92      0.92       999\n",
            "weighted avg       0.92      0.92      0.92       999\n",
            "\n"
          ]
        },
        {
          "output_type": "display_data",
          "data": {
            "text/plain": [
              "<Figure size 576x360 with 2 Axes>"
            ],
            "image/png": "[encoded data removed]"
          },
          "metadata": {
            "needs_background": "light"
          }
        }
      ]
    },
    {
      "cell_type": "markdown",
      "source": [
        "# 2) N-Gram Based Classification"
      ],
      "metadata": {
        "id": "f8QolJoFdtRe"
      }
    },
    {
      "cell_type": "code",
      "source": [
        "from sklearn.naive_bayes import MultinomialNB\n",
        "from sklearn.feature_extraction.text import CountVectorizer\n",
        "\n",
        "# Train the models with different n-gram ranges\n",
        "for N in range(1, 5):\n",
        "\n",
        "  # Converts train data to N-Gram representation according to iteration\n",
        "  cv = CountVectorizer(analyzer='word',\n",
        "                       ngram_range=(1, N))\n",
        "  X_train_cv = cv.fit_transform(df_train['text'])\n",
        "  X_test_cv = cv.transform(df_test['text'])\n",
        "\n",
        "  # Train the model and generate predictions\n",
        "  start = timeit.default_timer()\n",
        "\n",
        "  clf = MultinomialNB()\n",
        "  clf.fit(X_train_cv, df_train['sentiment'])\n",
        "\n",
        "  stop = timeit.default_timer()\n",
        "  print('Time for Training: ', (stop - start) / 60, 'Menit')\n",
        "\n",
        "  y_pred = clf.predict(X_test_cv)\n",
        "\n",
        "  print(f'{N}-Gram\\n')\n",
        "\n",
        "  cm = confusion_matrix(y_pred,\n",
        "                        df_test['sentiment'])\n",
        "  show_confusion_matrix(cm)\n",
        "  print('')\n",
        "\n",
        "  print(classification_report(\n",
        "      y_pred,\n",
        "      df_test['sentiment'],\n",
        "      target_names=[\"Negative\",\n",
        "                    \"Neutral\",\n",
        "                    \"Positive\",\n",
        "                    \"Irrelevant\"])\n",
        "  )\n",
        "\n",
        "  print('')"
      ],
      "metadata": {
        "colab": {
          "base_uri": "https://localhost:8080/",
          "height": 1000
        },
        "id": "bNOId5b1dqyy",
        "outputId": "8f400978-aa95-4d7f-cc4e-256b73275a23"
      },
      "execution_count": 53,
      "outputs": [
        {
          "output_type": "stream",
          "name": "stdout",
          "text": [
            "Time for Training:  0.0005835746833326994 Menit\n",
            "1-Gram\n",
            "\n"
          ]
        },
        {
          "output_type": "display_data",
          "data": {
            "text/plain": [
              "<Figure size 576x360 with 2 Axes>"
            ],
            "image/png": "[encoded data removed]"
          },
          "metadata": {
            "needs_background": "light"
          }
        },
        {
          "output_type": "stream",
          "name": "stdout",
          "text": [
            "\n",
            "              precision    recall  f1-score   support\n",
            "\n",
            "    Negative       0.88      0.77      0.82       301\n",
            "     Neutral       0.75      0.89      0.82       240\n",
            "    Positive       0.91      0.79      0.84       318\n",
            "  Irrelevant       0.74      0.90      0.81       140\n",
            "\n",
            "    accuracy                           0.82       999\n",
            "   macro avg       0.82      0.84      0.82       999\n",
            "weighted avg       0.84      0.82      0.83       999\n",
            "\n",
            "\n",
            "Time for Training:  0.0010241502833196136 Menit\n",
            "2-Gram\n",
            "\n"
          ]
        },
        {
          "output_type": "display_data",
          "data": {
            "text/plain": [
              "<Figure size 576x360 with 2 Axes>"
            ],
            "image/png": "[encoded data removed]"
          },
          "metadata": {
            "needs_background": "light"
          }
        },
        {
          "output_type": "stream",
          "name": "stdout",
          "text": [
            "\n",
            "              precision    recall  f1-score   support\n",
            "\n",
            "    Negative       0.97      0.97      0.97       268\n",
            "     Neutral       0.95      0.98      0.97       277\n",
            "    Positive       0.98      0.93      0.95       292\n",
            "  Irrelevant       0.94      0.99      0.97       162\n",
            "\n",
            "    accuracy                           0.96       999\n",
            "   macro avg       0.96      0.97      0.96       999\n",
            "weighted avg       0.96      0.96      0.96       999\n",
            "\n",
            "\n",
            "Time for Training:  0.0021497048166565945 Menit\n",
            "3-Gram\n",
            "\n"
          ]
        },
        {
          "output_type": "display_data",
          "data": {
            "text/plain": [
              "<Figure size 576x360 with 2 Axes>"
            ],
            "image/png": "[encoded data removed]"
          },
          "metadata": {
            "needs_background": "light"
          }
        },
        {
          "output_type": "stream",
          "name": "stdout",
          "text": [
            "\n",
            "              precision    recall  f1-score   support\n",
            "\n",
            "    Negative       0.99      0.99      0.99       267\n",
            "     Neutral       0.98      0.99      0.98       280\n",
            "    Positive       0.99      0.96      0.98       285\n",
            "  Irrelevant       0.97      0.99      0.98       167\n",
            "\n",
            "    accuracy                           0.98       999\n",
            "   macro avg       0.98      0.98      0.98       999\n",
            "weighted avg       0.98      0.98      0.98       999\n",
            "\n",
            "\n",
            "Time for Training:  0.003568737916672641 Menit\n",
            "4-Gram\n",
            "\n"
          ]
        },
        {
          "output_type": "display_data",
          "data": {
            "text/plain": [
              "<Figure size 576x360 with 2 Axes>"
            ],
            "image/png": "[encoded data removed]"
          },
          "metadata": {
            "needs_background": "light"
          }
        },
        {
          "output_type": "stream",
          "name": "stdout",
          "text": [
            "\n",
            "              precision    recall  f1-score   support\n",
            "\n",
            "    Negative       0.99      0.99      0.99       268\n",
            "     Neutral       0.98      0.99      0.98       280\n",
            "    Positive       0.99      0.96      0.97       285\n",
            "  Irrelevant       0.96      0.99      0.98       166\n",
            "\n",
            "    accuracy                           0.98       999\n",
            "   macro avg       0.98      0.98      0.98       999\n",
            "weighted avg       0.98      0.98      0.98       999\n",
            "\n",
            "\n"
          ]
        }
      ]
    },
    {
      "cell_type": "code",
      "source": [
        "X_train_cv[1]"
      ],
      "metadata": {
        "colab": {
          "base_uri": "https://localhost:8080/"
        },
        "id": "YwXhI22e-T0x",
        "outputId": "ece1ac12-673a-4754-c218-5699d399c68b"
      },
      "execution_count": 59,
      "outputs": [
        {
          "output_type": "execute_result",
          "data": {
            "text/plain": [
              "<1x1586022 sparse matrix of type '<class 'numpy.int64'>'\n",
              "\twith 30 stored elements in Compressed Sparse Row format>"
            ]
          },
          "metadata": {},
          "execution_count": 59
        }
      ]
    },
    {
      "cell_type": "code",
      "source": [],
      "metadata": {
        "id": "NGpqDfL-mGAh"
      },
      "execution_count": null,
      "outputs": []
    }
  ]
}