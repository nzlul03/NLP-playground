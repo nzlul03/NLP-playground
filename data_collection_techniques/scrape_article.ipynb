{
  "nbformat": 4,
  "nbformat_minor": 0,
  "metadata": {
    "colab": {
      "provenance": [],
      "authorship_tag": "ABX9TyOp+kVCxofw/MH4/v9HDSLq"
    },
    "kernelspec": {
      "name": "python3",
      "display_name": "Python 3"
    },
    "language_info": {
      "name": "python"
    },
    "accelerator": "GPU"
  },
  "cells": [
    {
      "cell_type": "code",
      "execution_count": 1,
      "metadata": {
        "colab": {
          "base_uri": "https://localhost:8080/"
        },
        "id": "ZlRycFTpd4CS",
        "outputId": "d1758014-ae3f-441f-de17-5b969ed4be38"
      },
      "outputs": [
        {
          "output_type": "stream",
          "name": "stdout",
          "text": [
            "Looking in indexes: https://pypi.org/simple, https://us-python.pkg.dev/colab-wheels/public/simple/\n",
            "Collecting newspaper3k\n",
            "  Downloading newspaper3k-0.2.8-py3-none-any.whl (211 kB)\n",
            "\u001b[K     |████████████████████████████████| 211 kB 14.7 MB/s \n",
            "\u001b[?25hCollecting jieba3k>=0.35.1\n",
            "  Downloading jieba3k-0.35.1.zip (7.4 MB)\n",
            "\u001b[K     |████████████████████████████████| 7.4 MB 59.9 MB/s \n",
            "\u001b[?25hCollecting feedfinder2>=0.0.4\n",
            "  Downloading feedfinder2-0.0.4.tar.gz (3.3 kB)\n",
            "Requirement already satisfied: nltk>=3.2.1 in /usr/local/lib/python3.7/dist-packages (from newspaper3k) (3.7)\n",
            "Collecting tldextract>=2.0.1\n",
            "  Downloading tldextract-3.4.0-py3-none-any.whl (93 kB)\n",
            "\u001b[K     |████████████████████████████████| 93 kB 2.7 MB/s \n",
            "\u001b[?25hRequirement already satisfied: python-dateutil>=2.5.3 in /usr/local/lib/python3.7/dist-packages (from newspaper3k) (2.8.2)\n",
            "Collecting feedparser>=5.2.1\n",
            "  Downloading feedparser-6.0.10-py3-none-any.whl (81 kB)\n",
            "\u001b[K     |████████████████████████████████| 81 kB 10.6 MB/s \n",
            "\u001b[?25hCollecting tinysegmenter==0.3\n",
            "  Downloading tinysegmenter-0.3.tar.gz (16 kB)\n",
            "Requirement already satisfied: Pillow>=3.3.0 in /usr/local/lib/python3.7/dist-packages (from newspaper3k) (7.1.2)\n",
            "Requirement already satisfied: lxml>=3.6.0 in /usr/local/lib/python3.7/dist-packages (from newspaper3k) (4.9.1)\n",
            "Requirement already satisfied: PyYAML>=3.11 in /usr/local/lib/python3.7/dist-packages (from newspaper3k) (6.0)\n",
            "Requirement already satisfied: beautifulsoup4>=4.4.1 in /usr/local/lib/python3.7/dist-packages (from newspaper3k) (4.6.3)\n",
            "Requirement already satisfied: requests>=2.10.0 in /usr/local/lib/python3.7/dist-packages (from newspaper3k) (2.23.0)\n",
            "Collecting cssselect>=0.9.2\n",
            "  Downloading cssselect-1.1.0-py2.py3-none-any.whl (16 kB)\n",
            "Requirement already satisfied: six in /usr/local/lib/python3.7/dist-packages (from feedfinder2>=0.0.4->newspaper3k) (1.15.0)\n",
            "Collecting sgmllib3k\n",
            "  Downloading sgmllib3k-1.0.0.tar.gz (5.8 kB)\n",
            "Requirement already satisfied: regex>=2021.8.3 in /usr/local/lib/python3.7/dist-packages (from nltk>=3.2.1->newspaper3k) (2022.6.2)\n",
            "Requirement already satisfied: tqdm in /usr/local/lib/python3.7/dist-packages (from nltk>=3.2.1->newspaper3k) (4.64.1)\n",
            "Requirement already satisfied: click in /usr/local/lib/python3.7/dist-packages (from nltk>=3.2.1->newspaper3k) (7.1.2)\n",
            "Requirement already satisfied: joblib in /usr/local/lib/python3.7/dist-packages (from nltk>=3.2.1->newspaper3k) (1.2.0)\n",
            "Requirement already satisfied: idna<3,>=2.5 in /usr/local/lib/python3.7/dist-packages (from requests>=2.10.0->newspaper3k) (2.10)\n",
            "Requirement already satisfied: urllib3!=1.25.0,!=1.25.1,<1.26,>=1.21.1 in /usr/local/lib/python3.7/dist-packages (from requests>=2.10.0->newspaper3k) (1.24.3)\n",
            "Requirement already satisfied: certifi>=2017.4.17 in /usr/local/lib/python3.7/dist-packages (from requests>=2.10.0->newspaper3k) (2022.9.24)\n",
            "Requirement already satisfied: chardet<4,>=3.0.2 in /usr/local/lib/python3.7/dist-packages (from requests>=2.10.0->newspaper3k) (3.0.4)\n",
            "Requirement already satisfied: filelock>=3.0.8 in /usr/local/lib/python3.7/dist-packages (from tldextract>=2.0.1->newspaper3k) (3.8.0)\n",
            "Collecting requests-file>=1.4\n",
            "  Downloading requests_file-1.5.1-py2.py3-none-any.whl (3.7 kB)\n",
            "Building wheels for collected packages: tinysegmenter, feedfinder2, jieba3k, sgmllib3k\n",
            "  Building wheel for tinysegmenter (setup.py) ... \u001b[?25l\u001b[?25hdone\n",
            "  Created wheel for tinysegmenter: filename=tinysegmenter-0.3-py3-none-any.whl size=13553 sha256=0c6984f19cfc317b1b7e23dee6d25d32c49adb7353f99f7df3604894a90fecc4\n",
            "  Stored in directory: /root/.cache/pip/wheels/df/67/41/faca10fa501ca010be41b49d40360c2959e1c4f09bcbfa37fa\n",
            "  Building wheel for feedfinder2 (setup.py) ... \u001b[?25l\u001b[?25hdone\n",
            "  Created wheel for feedfinder2: filename=feedfinder2-0.0.4-py3-none-any.whl size=3357 sha256=650ecb5234243f550516faf9ff7a8c8ea941f26e156b18a2e3becc57733501ea\n",
            "  Stored in directory: /root/.cache/pip/wheels/7f/d4/8f/6e2ca54744c9d7292d88ddb8d42876bcdab5e6d84a21c10346\n",
            "  Building wheel for jieba3k (setup.py) ... \u001b[?25l\u001b[?25hdone\n",
            "  Created wheel for jieba3k: filename=jieba3k-0.35.1-py3-none-any.whl size=7398404 sha256=b2118203264b26018afd6806bec3883f87136a90ab08d3d297a3bfa85b23d45b\n",
            "  Stored in directory: /root/.cache/pip/wheels/4c/91/46/3c208287b726df325a5979574324878b679116e4baae1af3c3\n",
            "  Building wheel for sgmllib3k (setup.py) ... \u001b[?25l\u001b[?25hdone\n",
            "  Created wheel for sgmllib3k: filename=sgmllib3k-1.0.0-py3-none-any.whl size=6066 sha256=53117259f1a96f434b86f8e41c4be6b201af62742f97e5e27056405b4f0b3b4e\n",
            "  Stored in directory: /root/.cache/pip/wheels/73/ad/a4/0dff4a6ef231fc0dfa12ffbac2a36cebfdddfe059f50e019aa\n",
            "Successfully built tinysegmenter feedfinder2 jieba3k sgmllib3k\n",
            "Installing collected packages: sgmllib3k, requests-file, tldextract, tinysegmenter, jieba3k, feedparser, feedfinder2, cssselect, newspaper3k\n",
            "Successfully installed cssselect-1.1.0 feedfinder2-0.0.4 feedparser-6.0.10 jieba3k-0.35.1 newspaper3k-0.2.8 requests-file-1.5.1 sgmllib3k-1.0.0 tinysegmenter-0.3 tldextract-3.4.0\n"
          ]
        }
      ],
      "source": [
        "!pip install newspaper3k"
      ]
    },
    {
      "cell_type": "code",
      "source": [
        "import newspaper\n",
        "from newspaper import Article"
      ],
      "metadata": {
        "id": "D6j8W3Zfd8BP"
      },
      "execution_count": 3,
      "outputs": []
    },
    {
      "cell_type": "code",
      "source": [
        "url = 'https://www.cnnindonesia.com/teknologi/20221011131457-190-859005/cara-bikin-sticker-wa-langsung-dari-whatsapp-web-dengan-mudah'"
      ],
      "metadata": {
        "id": "z3mj-_jXd_G0"
      },
      "execution_count": 4,
      "outputs": []
    },
    {
      "cell_type": "code",
      "source": [
        "article = Article(url)"
      ],
      "metadata": {
        "id": "OqEbJ4tfd_JN"
      },
      "execution_count": 5,
      "outputs": []
    },
    {
      "cell_type": "code",
      "source": [
        "article.download()\n",
        "article.parse()\n",
        "txt = article.text\n",
        "print(txt)"
      ],
      "metadata": {
        "colab": {
          "base_uri": "https://localhost:8080/"
        },
        "id": "w6TQksCfd_Ll",
        "outputId": "d6a522fc-de9c-4cda-986d-170f9d87b982"
      },
      "execution_count": 6,
      "outputs": [
        {
          "output_type": "stream",
          "name": "stdout",
          "text": [
            "--\n",
            "\n",
            "WhatsApp Web kini dibekali fitur untuk membuat stiker sendiri. Fitur tersebut memungkinkan pengguna membuat stiker langsung dari WhatsApp Web tanpa perlu mengunduh aplikasi tambahan.\n",
            "\n",
            "Pasalnya, selama ini pengguna harus menggunakan aplikasi pihak ketiga jika ingin membuat stiker WA sendiri.\n",
            "\n",
            "ADVERTISEMENT SCROLL TO RESUME CONTENT\n",
            "\n",
            "Dengan hadirnya fitur terbaru ini, Anda dapat dengan mudah membuat stiker tanpa harus mengunduh aplikasi tambahan sehingga tidak perlu khawatir dengan kapasitas memori yang terbatas.\n",
            "\n",
            "Fitur ini juga sudah tersedia untuk pengguna WhatsApp di Indonesia. Jika Anda tertarik mencobanya, simak langkah-langkahnya berikut.\n",
            "\n",
            "Cara Bikin Sticker WA Langsung dari WhatsApp Web\n",
            "\n",
            "Ilustrasi. Cara bikin sticker WA langsung dari WhatsApp (Foto: dok. Whatsapp) Ilustrasi. Cara bikin sticker WA langsung dari WhatsApp (Foto: dok. Whatsapp)\n",
            "\n",
            "Sebelumnya, pastikan dulu Anda sudah masuk ke WhatsApp versi web dengan membuka alamat web.whatsapp di browser.\n",
            "\n",
            "Jika sudah, Anda dapat mengikuti langkah-langkah membuat stiker WA berikut ini:\n",
            "\n",
            "Buka chatroom atau ruang obrolan yang ingin dikirimi stiker WhatsApp.\n",
            "\n",
            "Kemudian klik tombol \"attach\" yang disimbolkan dengan ikon klip kertas\n",
            "\n",
            "Pilih ikon stiker.\n",
            "\n",
            "Setelah itu, pilih gambar dari galeri komputer yang ingin diedit untuk menjadi stiker.\n",
            "\n",
            "Anda dapat mengedit gambar sesuai dengan keinginan.\n",
            "\n",
            "Gambar juga bisa dipotong, tambah teks, atau ditambah emoji.\n",
            "\n",
            "Jika sudah selesai diedit, klik tombol kirim atau anak panah ke kanan.\n",
            "\n",
            "Setelah jadi, pengguna dapat menyimpan atau menambahkan stiker tersebut ke favorit sebagai koleksi dan dapat dibagikan ke pengguna lain.\n",
            "\n",
            "Untuk diketahui, fitur ini tak hanya tersedia di WhatsApp versi web. Pengguna aplikasi WhatsApp desktop pun bisa langsung mencobanya dengan cara yang sama seperti di atas.\n",
            "\n",
            "Hanya saja, fitur membuat stiker langsung di aplikasi ini belum dihadirkan untuk versi mobile pada platform Android dan iOS.\n",
            "\n",
            "Itulah cara bikin sticker WA langsung dari WhatsApp Web dengan mudah dan praktis. Selamat mencoba.\n"
          ]
        }
      ]
    },
    {
      "cell_type": "code",
      "source": [
        "f = open('article.txt','w')\n",
        "f.write(txt)\n",
        "f.close()"
      ],
      "metadata": {
        "id": "EGdaF0Xld_Nw"
      },
      "execution_count": 7,
      "outputs": []
    }
  ]
}