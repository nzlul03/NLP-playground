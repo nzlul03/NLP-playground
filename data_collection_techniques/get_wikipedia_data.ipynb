{
  "nbformat": 4,
  "nbformat_minor": 0,
  "metadata": {
    "colab": {
      "provenance": [],
      "authorship_tag": "ABX9TyOz01X9B+Fe5hEuIbef9yII"
    },
    "kernelspec": {
      "name": "python3",
      "display_name": "Python 3"
    },
    "language_info": {
      "name": "python"
    }
  },
  "cells": [
    {
      "cell_type": "code",
      "execution_count": 1,
      "metadata": {
        "colab": {
          "base_uri": "https://localhost:8080/"
        },
        "id": "RJzizmaDbKsE",
        "outputId": "b2cf3be9-350a-4095-b9b8-22f8fb4d0792"
      },
      "outputs": [
        {
          "output_type": "stream",
          "name": "stdout",
          "text": [
            "Looking in indexes: https://pypi.org/simple, https://us-python.pkg.dev/colab-wheels/public/simple/\n",
            "Collecting wikipedia\n",
            "  Downloading wikipedia-1.4.0.tar.gz (27 kB)\n",
            "Requirement already satisfied: beautifulsoup4 in /usr/local/lib/python3.7/dist-packages (from wikipedia) (4.6.3)\n",
            "Requirement already satisfied: requests<3.0.0,>=2.0.0 in /usr/local/lib/python3.7/dist-packages (from wikipedia) (2.23.0)\n",
            "Requirement already satisfied: chardet<4,>=3.0.2 in /usr/local/lib/python3.7/dist-packages (from requests<3.0.0,>=2.0.0->wikipedia) (3.0.4)\n",
            "Requirement already satisfied: certifi>=2017.4.17 in /usr/local/lib/python3.7/dist-packages (from requests<3.0.0,>=2.0.0->wikipedia) (2022.9.24)\n",
            "Requirement already satisfied: urllib3!=1.25.0,!=1.25.1,<1.26,>=1.21.1 in /usr/local/lib/python3.7/dist-packages (from requests<3.0.0,>=2.0.0->wikipedia) (1.24.3)\n",
            "Requirement already satisfied: idna<3,>=2.5 in /usr/local/lib/python3.7/dist-packages (from requests<3.0.0,>=2.0.0->wikipedia) (2.10)\n",
            "Building wheels for collected packages: wikipedia\n",
            "  Building wheel for wikipedia (setup.py) ... \u001b[?25l\u001b[?25hdone\n",
            "  Created wheel for wikipedia: filename=wikipedia-1.4.0-py3-none-any.whl size=11695 sha256=860b300f40fc71d26dd736e11dc7a242283df801e2f7c052104d0408bd678175\n",
            "  Stored in directory: /root/.cache/pip/wheels/15/93/6d/5b2c68b8a64c7a7a04947b4ed6d89fb557dcc6bc27d1d7f3ba\n",
            "Successfully built wikipedia\n",
            "Installing collected packages: wikipedia\n",
            "Successfully installed wikipedia-1.4.0\n"
          ]
        }
      ],
      "source": [
        "!pip install wikipedia"
      ]
    },
    {
      "cell_type": "code",
      "source": [
        "import wikipedia\n",
        "import re"
      ],
      "metadata": {
        "id": "uebK2LOCcInU"
      },
      "execution_count": 2,
      "outputs": []
    },
    {
      "cell_type": "code",
      "source": [
        "#specify the title of Wikipedia page \n",
        "wiki = wikipedia.page('Little Women (2022 TV series)')\n",
        "\n",
        "#Extract the text from the page\n",
        "text = wiki.content\n",
        "\n",
        "# Clean text\n",
        "text = re.sub(r'==.*?==+', '', text)\n",
        "text = text.replace('\\n', '')\n",
        "print(text)"
      ],
      "metadata": {
        "colab": {
          "base_uri": "https://localhost:8080/"
        },
        "id": "M-LbdxmPcIyb",
        "outputId": "188b1a86-9d22-4b28-caeb-d434510d4738"
      },
      "execution_count": 3,
      "outputs": [
        {
          "output_type": "stream",
          "name": "stdout",
          "text": [
            "Little Women (Korean: 작은 아씨들; RR: Jag-eun Assideul) is a South Korean television series directed by Kim Hee-won, and starring Kim Go-eun, Nam Ji-hyun, and Park Ji-hu. Set in the modern day, it is loosely based on the 1868 novel of the same name by Louisa May Alcott. It aired from September 3 to October 9, 2022, on tvN's Saturdays and Sundays at 21:10 (KST) time slot. It is also available for streaming on Netflix in selected regions.The series depicts the story of three poor sisters who are close, their involvement in the case of 70 billion won which goes missing, and how they bravely face Korea's richest family who are their opponents.Kim Go-eun as Oh In-juThe eldest sister. She grew up in a terribly poor environment and is still poor. Ever since she was a young child, In-ju realized that money was the most important thing to protect herself and her family. Her dream is to live an ordinary life like other people. She gets involved in a case that could change her life.Park So-yi as young Oh In-juNam Ji-hyun as Oh In-kyungThe middle sister. She is an enthusiastic reporter at a news station. In-kyung believes in doing the right things. She also has always been poor, but money doesn't rule her life. She begins to dig into a mysterious case that she first faced when she first became a reporter.Park Ji-hu as Oh In-hyeThe youngest sister, who studies at a prestigious art high school due to her natural drawing skills, and sometimes feels that her sisters’ love for her is too much. Her sisters are her de-facto parents and are fiercely protective of her. People around Oh In-kyung Kang Hoon as Ha Jong-hoOh In-kyung's childhood friend,strong supporter and has feelings for her.Cho Seung-yeon as Jo Wan-gyuDirector of OBN Social Department.Gong Min-jeung as Jang Ma-riA reporter at YBC news agency. Family of three sisters Kim Mi-sook as Oh Hye-seokGreat-aunt of the three sisters.Park Ji-young as Ahn Hee-yeonMother of three sisters.TBA as Oh Soo-bok Wonryong's house Um Ki-joon as Park Jae-sangA rookie politician who gets involved with the three sisters.Uhm Ji-won as Won Sang-ahGeneral's daughter, politician's wife and Director of the Museum of Art. Their relationship with the three sisters begins when Sang-ah's daughter Hyorin becomes involved in Oh In-hye.Jeon Chae-eun as Park Hyo-rinPark Jae-sang and Won Sang-ah's daughter.Lee Do-yeop as Won Ki-seonSecurity Commander in the 1980s and Won Sang-ah's father.Lee Min-woo as Won Sang-wooWon Ki-seon's son and Won Sang-ah's older brother. He was a son who didn't matter to his father. Wonryong's group Wi Ha-joon as Choi Do-ilHe graduated from a prestigious university, and becomes involved with Oh In-ju. He is a mysterious character whose true allegiance is unclear, though he is protective of In-ju.Park Bo-kyung as Go Soo-imPark Jae-sang's right-hand assistant.Jang Gwang as Jang Sa-pyoungPrincipal of Wonryong School.Cho Yeon-jin as Hwang Bo-yeonSeong-yul as Soo-haGo Soo-im's right-hand man.Kim Jung-pal as Lee Yong-gwiA veteran of the Vietnam War.Kim Myung-soo as Choi Hee-jaeChoi Do-il's father was a former war veteran.Choo Ja-hyun as Jin Hwa-youngIn-ju's secret friend.Oh Jung-se as Director Shin / Shin Hyun-minA director who was suspected of having an affair with Hwa-young.Song Joong-ki as Park Joo-hyungAn employee of a luxury shoe store.Adrian Pang as Calvin NgThe manager of an unnamed hotel in Singapore.Joshua Tan as Hotel ReceptionistBridget Fernandez as Unnamed Hotel StaffEbi Shankara as Unnamed Cafe WaiterNa Chul as lawyerA lawyer in charge of the state who came to help Oh In-ju.In an interview with Tatler Asia on November 25, 2021, screenwriter Jeong Seo-kyung disclosed her involvement, \"I'm working with the director of Vincenzo for a Korean adaptation of Little Women. The leading actresses are Kim Go-eun and Nam Ji-hyun while the male lead is Wi Ha-joon from Squid Game. I actually read the book, Little Women, when I was young and I really loved it.\"On December 23, 2021, it was confirmed that tvN's series titled as Little Women directed by Kim Hee-won, written by Jeong Seo-kyung and produced by Studio Dragon, with Kim Go-eun, Nam Ji-hyun and Park Ji-hu as main leads. On October 19, 2021, MS Team Entertainment revealed that Wi Ha-joon was offered a role in the series. On the same day, it was reported that casting for the series was complete.On March 3, 2022, it was confirmed that actor Wi Ha-joon had tested positive for COVID-19. He was expected to be released from quarantine on the 8th, and the diagnosis was confirmed when he was released.Filming took place from June to July 2022; filming locations include various locations around Singapore.On September 5, 2022, the staff issued an apology for the poster's resemblance to a Japanese beauty brand.On September 8, 2022, the drama's poster maker Propaganda issued an official apology for the plagiarism of the poster similar to the exhibition poster of a Japanese cosmetics brand from 2016.On October 3, 2022, Vietnam's Department of Radio, Television, and Electronic Information requested that Little Women be removed from the Vietnamese version of Netflix due to historical falsification of the Vietnam War. According to the Department's director, Lê Quang Tự Do, the series breached the Vietnamese media and cinema laws due to the actors' inaccurate statements about the Vietnam War in episodes 3 and 8, which distorted Vietnamese history by glorifying South Korea's involvement in the Vietnam War, including war crimes committed by South Korean soldiers.On October 7, 2022, the drama staff apologized and promised to be more careful with both the social sensitivity and the production process in the future.Official website (in Korean)Little Women at Daum (in Korean)Little Women on Netflix Little Women at IMDb Little Women at HanCinema\n"
          ]
        }
      ]
    }
  ]
}