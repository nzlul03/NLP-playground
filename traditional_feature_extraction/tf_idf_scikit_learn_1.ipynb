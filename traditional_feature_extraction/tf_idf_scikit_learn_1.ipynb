{
  "nbformat": 4,
  "nbformat_minor": 0,
  "metadata": {
    "colab": {
      "provenance": [],
      "authorship_tag": "ABX9TyNFohrThwPrI08Bb45J5Upc"
    },
    "kernelspec": {
      "name": "python3",
      "display_name": "Python 3"
    },
    "language_info": {
      "name": "python"
    },
    "accelerator": "GPU"
  },
  "cells": [
    {
      "cell_type": "code",
      "execution_count": 1,
      "metadata": {
        "id": "zXaSDSRGhCO4"
      },
      "outputs": [],
      "source": [
        "import pandas as pd\n",
        "from sklearn.feature_extraction.text import TfidfTransformer\n",
        "from sklearn.feature_extraction.text import CountVectorizer\n",
        "import numpy as np"
      ]
    },
    {
      "cell_type": "code",
      "source": [
        "corpus = ['The series depicts the story of three poor sisters who are close',\n",
        "          'their involvement in the case of 70 billion won which goes missing',\n",
        "          'how they bravely face the richest family who are their opponents']"
      ],
      "metadata": {
        "id": "ferdqttYiWeX"
      },
      "execution_count": 2,
      "outputs": []
    },
    {
      "cell_type": "markdown",
      "source": [
        "# TF-IDF using CountVectorizer"
      ],
      "metadata": {
        "id": "VRL3QY9pjrhS"
      }
    },
    {
      "cell_type": "code",
      "source": [
        "cv = CountVectorizer()\n",
        "cv"
      ],
      "metadata": {
        "colab": {
          "base_uri": "https://localhost:8080/"
        },
        "id": "edMu_0jLiWgn",
        "outputId": "9303cf0c-f5fe-4c5e-85bb-9c0e7453c6ff"
      },
      "execution_count": 3,
      "outputs": [
        {
          "output_type": "execute_result",
          "data": {
            "text/plain": [
              "CountVectorizer()"
            ]
          },
          "metadata": {},
          "execution_count": 3
        }
      ]
    },
    {
      "cell_type": "code",
      "source": [
        "word_count_vect = cv.fit_transform(corpus)\n",
        "word_count_vect"
      ],
      "metadata": {
        "colab": {
          "base_uri": "https://localhost:8080/"
        },
        "id": "8Bj5VQjUiWjN",
        "outputId": "ce4f3b36-9368-44a4-8244-f9aa3e02a82a"
      },
      "execution_count": 7,
      "outputs": [
        {
          "output_type": "execute_result",
          "data": {
            "text/plain": [
              "<3x28 sparse matrix of type '<class 'numpy.int64'>'\n",
              "\twith 34 stored elements in Compressed Sparse Row format>"
            ]
          },
          "metadata": {},
          "execution_count": 7
        }
      ]
    },
    {
      "cell_type": "code",
      "source": [
        "print(word_count_vect)"
      ],
      "metadata": {
        "colab": {
          "base_uri": "https://localhost:8080/"
        },
        "id": "pIs-ZZX8iWlf",
        "outputId": "2da76edb-4591-4fdb-8929-5a256b1de77a"
      },
      "execution_count": 8,
      "outputs": [
        {
          "output_type": "stream",
          "name": "stdout",
          "text": [
            "  (0, 21)\t2\n",
            "  (0, 18)\t1\n",
            "  (0, 6)\t1\n",
            "  (0, 20)\t1\n",
            "  (0, 14)\t1\n",
            "  (0, 24)\t1\n",
            "  (0, 16)\t1\n",
            "  (0, 19)\t1\n",
            "  (0, 26)\t1\n",
            "  (0, 1)\t1\n",
            "  (0, 5)\t1\n",
            "  (1, 21)\t1\n",
            "  (1, 14)\t1\n",
            "  (1, 22)\t1\n",
            "  (1, 12)\t1\n",
            "  (1, 11)\t1\n",
            "  (1, 4)\t1\n",
            "  (1, 0)\t1\n",
            "  (1, 2)\t1\n",
            "  (1, 27)\t1\n",
            "  (1, 25)\t1\n",
            "  (1, 9)\t1\n",
            "  (1, 13)\t1\n",
            "  (2, 21)\t1\n",
            "  (2, 26)\t1\n",
            "  (2, 1)\t1\n",
            "  (2, 22)\t1\n",
            "  (2, 10)\t1\n",
            "  (2, 23)\t1\n",
            "  (2, 3)\t1\n",
            "  (2, 7)\t1\n",
            "  (2, 17)\t1\n",
            "  (2, 8)\t1\n",
            "  (2, 15)\t1\n"
          ]
        }
      ]
    },
    {
      "cell_type": "code",
      "source": [
        "print(word_count_vect.shape) #3 docs, 28 features"
      ],
      "metadata": {
        "colab": {
          "base_uri": "https://localhost:8080/"
        },
        "id": "yaGj-ky5iWn6",
        "outputId": "ba4189a4-49f4-4950-dd77-2755bdee2fd9"
      },
      "execution_count": 9,
      "outputs": [
        {
          "output_type": "stream",
          "name": "stdout",
          "text": [
            "(3, 28)\n"
          ]
        }
      ]
    },
    {
      "cell_type": "code",
      "source": [
        "# view dense representation\n",
        "cv_matrix = word_count_vect.toarray()\n",
        "cv_matrix"
      ],
      "metadata": {
        "colab": {
          "base_uri": "https://localhost:8080/"
        },
        "id": "agRHzCLHjYEn",
        "outputId": "94ba3235-addb-4bf5-cde4-09b22e93147b"
      },
      "execution_count": 10,
      "outputs": [
        {
          "output_type": "execute_result",
          "data": {
            "text/plain": [
              "array([[0, 1, 0, 0, 0, 1, 1, 0, 0, 0, 0, 0, 0, 0, 1, 0, 1, 0, 1, 1, 1, 2,\n",
              "        0, 0, 1, 0, 1, 0],\n",
              "       [1, 0, 1, 0, 1, 0, 0, 0, 0, 1, 0, 1, 1, 1, 1, 0, 0, 0, 0, 0, 0, 1,\n",
              "        1, 0, 0, 1, 0, 1],\n",
              "       [0, 1, 0, 1, 0, 0, 0, 1, 1, 0, 1, 0, 0, 0, 0, 1, 0, 1, 0, 0, 0, 1,\n",
              "        1, 1, 0, 0, 1, 0]])"
            ]
          },
          "metadata": {},
          "execution_count": 10
        }
      ]
    },
    {
      "cell_type": "code",
      "source": [
        "#get all unique words in the corpus\n",
        "vocab = cv.get_feature_names()\n",
        "vocab"
      ],
      "metadata": {
        "colab": {
          "base_uri": "https://localhost:8080/"
        },
        "id": "J8k6PyRDjfww",
        "outputId": "feaed896-9fbd-4805-ffc6-79c681a57d9f"
      },
      "execution_count": 11,
      "outputs": [
        {
          "output_type": "stream",
          "name": "stderr",
          "text": [
            "/usr/local/lib/python3.7/dist-packages/sklearn/utils/deprecation.py:87: FutureWarning: Function get_feature_names is deprecated; get_feature_names is deprecated in 1.0 and will be removed in 1.2. Please use get_feature_names_out instead.\n",
            "  warnings.warn(msg, category=FutureWarning)\n"
          ]
        },
        {
          "output_type": "execute_result",
          "data": {
            "text/plain": [
              "['70',\n",
              " 'are',\n",
              " 'billion',\n",
              " 'bravely',\n",
              " 'case',\n",
              " 'close',\n",
              " 'depicts',\n",
              " 'face',\n",
              " 'family',\n",
              " 'goes',\n",
              " 'how',\n",
              " 'in',\n",
              " 'involvement',\n",
              " 'missing',\n",
              " 'of',\n",
              " 'opponents',\n",
              " 'poor',\n",
              " 'richest',\n",
              " 'series',\n",
              " 'sisters',\n",
              " 'story',\n",
              " 'the',\n",
              " 'their',\n",
              " 'they',\n",
              " 'three',\n",
              " 'which',\n",
              " 'who',\n",
              " 'won']"
            ]
          },
          "metadata": {},
          "execution_count": 11
        }
      ]
    },
    {
      "cell_type": "code",
      "source": [
        "#bag of words model based document feature vectors\n",
        "pd.DataFrame(cv_matrix, columns=vocab)"
      ],
      "metadata": {
        "colab": {
          "base_uri": "https://localhost:8080/",
          "height": 237
        },
        "id": "ygR9tkVxji9H",
        "outputId": "679cf563-6779-4f89-85a7-0d1667f04b45"
      },
      "execution_count": 12,
      "outputs": [
        {
          "output_type": "execute_result",
          "data": {
            "text/plain": [
              "   70  are  billion  bravely  case  close  depicts  face  family  goes  ...  \\\n",
              "0   0    1        0        0     0      1        1     0       0     0  ...   \n",
              "1   1    0        1        0     1      0        0     0       0     1  ...   \n",
              "2   0    1        0        1     0      0        0     1       1     0  ...   \n",
              "\n",
              "   series  sisters  story  the  their  they  three  which  who  won  \n",
              "0       1        1      1    2      0     0      1      0    1    0  \n",
              "1       0        0      0    1      1     0      0      1    0    1  \n",
              "2       0        0      0    1      1     1      0      0    1    0  \n",
              "\n",
              "[3 rows x 28 columns]"
            ],
            "text/html": [
              "\n",
              "  <div id=\"df-a8620c07-dd1a-4703-8931-96e7be57901a\">\n",
              "    <div class=\"colab-df-container\">\n",
              "      <div>\n",
              "<style scoped>\n",
              "    .dataframe tbody tr th:only-of-type {\n",
              "        vertical-align: middle;\n",
              "    }\n",
              "\n",
              "    .dataframe tbody tr th {\n",
              "        vertical-align: top;\n",
              "    }\n",
              "\n",
              "    .dataframe thead th {\n",
              "        text-align: right;\n",
              "    }\n",
              "</style>\n",
              "<table border=\"1\" class=\"dataframe\">\n",
              "  <thead>\n",
              "    <tr style=\"text-align: right;\">\n",
              "      <th></th>\n",
              "      <th>70</th>\n",
              "      <th>are</th>\n",
              "      <th>billion</th>\n",
              "      <th>bravely</th>\n",
              "      <th>case</th>\n",
              "      <th>close</th>\n",
              "      <th>depicts</th>\n",
              "      <th>face</th>\n",
              "      <th>family</th>\n",
              "      <th>goes</th>\n",
              "      <th>...</th>\n",
              "      <th>series</th>\n",
              "      <th>sisters</th>\n",
              "      <th>story</th>\n",
              "      <th>the</th>\n",
              "      <th>their</th>\n",
              "      <th>they</th>\n",
              "      <th>three</th>\n",
              "      <th>which</th>\n",
              "      <th>who</th>\n",
              "      <th>won</th>\n",
              "    </tr>\n",
              "  </thead>\n",
              "  <tbody>\n",
              "    <tr>\n",
              "      <th>0</th>\n",
              "      <td>0</td>\n",
              "      <td>1</td>\n",
              "      <td>0</td>\n",
              "      <td>0</td>\n",
              "      <td>0</td>\n",
              "      <td>1</td>\n",
              "      <td>1</td>\n",
              "      <td>0</td>\n",
              "      <td>0</td>\n",
              "      <td>0</td>\n",
              "      <td>...</td>\n",
              "      <td>1</td>\n",
              "      <td>1</td>\n",
              "      <td>1</td>\n",
              "      <td>2</td>\n",
              "      <td>0</td>\n",
              "      <td>0</td>\n",
              "      <td>1</td>\n",
              "      <td>0</td>\n",
              "      <td>1</td>\n",
              "      <td>0</td>\n",
              "    </tr>\n",
              "    <tr>\n",
              "      <th>1</th>\n",
              "      <td>1</td>\n",
              "      <td>0</td>\n",
              "      <td>1</td>\n",
              "      <td>0</td>\n",
              "      <td>1</td>\n",
              "      <td>0</td>\n",
              "      <td>0</td>\n",
              "      <td>0</td>\n",
              "      <td>0</td>\n",
              "      <td>1</td>\n",
              "      <td>...</td>\n",
              "      <td>0</td>\n",
              "      <td>0</td>\n",
              "      <td>0</td>\n",
              "      <td>1</td>\n",
              "      <td>1</td>\n",
              "      <td>0</td>\n",
              "      <td>0</td>\n",
              "      <td>1</td>\n",
              "      <td>0</td>\n",
              "      <td>1</td>\n",
              "    </tr>\n",
              "    <tr>\n",
              "      <th>2</th>\n",
              "      <td>0</td>\n",
              "      <td>1</td>\n",
              "      <td>0</td>\n",
              "      <td>1</td>\n",
              "      <td>0</td>\n",
              "      <td>0</td>\n",
              "      <td>0</td>\n",
              "      <td>1</td>\n",
              "      <td>1</td>\n",
              "      <td>0</td>\n",
              "      <td>...</td>\n",
              "      <td>0</td>\n",
              "      <td>0</td>\n",
              "      <td>0</td>\n",
              "      <td>1</td>\n",
              "      <td>1</td>\n",
              "      <td>1</td>\n",
              "      <td>0</td>\n",
              "      <td>0</td>\n",
              "      <td>1</td>\n",
              "      <td>0</td>\n",
              "    </tr>\n",
              "  </tbody>\n",
              "</table>\n",
              "<p>3 rows × 28 columns</p>\n",
              "</div>\n",
              "      <button class=\"colab-df-convert\" onclick=\"convertToInteractive('df-a8620c07-dd1a-4703-8931-96e7be57901a')\"\n",
              "              title=\"Convert this dataframe to an interactive table.\"\n",
              "              style=\"display:none;\">\n",
              "        \n",
              "  <svg xmlns=\"http://www.w3.org/2000/svg\" height=\"24px\"viewBox=\"0 0 24 24\"\n",
              "       width=\"24px\">\n",
              "    <path d=\"M0 0h24v24H0V0z\" fill=\"none\"/>\n",
              "    <path d=\"M18.56 5.44l.94 2.06.94-2.06 2.06-.94-2.06-.94-.94-2.06-.94 2.06-2.06.94zm-11 1L8.5 8.5l.94-2.06 2.06-.94-2.06-.94L8.5 2.5l-.94 2.06-2.06.94zm10 10l.94 2.06.94-2.06 2.06-.94-2.06-.94-.94-2.06-.94 2.06-2.06.94z\"/><path d=\"M17.41 7.96l-1.37-1.37c-.4-.4-.92-.59-1.43-.59-.52 0-1.04.2-1.43.59L10.3 9.45l-7.72 7.72c-.78.78-.78 2.05 0 2.83L4 21.41c.39.39.9.59 1.41.59.51 0 1.02-.2 1.41-.59l7.78-7.78 2.81-2.81c.8-.78.8-2.07 0-2.86zM5.41 20L4 18.59l7.72-7.72 1.47 1.35L5.41 20z\"/>\n",
              "  </svg>\n",
              "      </button>\n",
              "      \n",
              "  <style>\n",
              "    .colab-df-container {\n",
              "      display:flex;\n",
              "      flex-wrap:wrap;\n",
              "      gap: 12px;\n",
              "    }\n",
              "\n",
              "    .colab-df-convert {\n",
              "      background-color: #E8F0FE;\n",
              "      border: none;\n",
              "      border-radius: 50%;\n",
              "      cursor: pointer;\n",
              "      display: none;\n",
              "      fill: #1967D2;\n",
              "      height: 32px;\n",
              "      padding: 0 0 0 0;\n",
              "      width: 32px;\n",
              "    }\n",
              "\n",
              "    .colab-df-convert:hover {\n",
              "      background-color: #E2EBFA;\n",
              "      box-shadow: 0px 1px 2px rgba(60, 64, 67, 0.3), 0px 1px 3px 1px rgba(60, 64, 67, 0.15);\n",
              "      fill: #174EA6;\n",
              "    }\n",
              "\n",
              "    [theme=dark] .colab-df-convert {\n",
              "      background-color: #3B4455;\n",
              "      fill: #D2E3FC;\n",
              "    }\n",
              "\n",
              "    [theme=dark] .colab-df-convert:hover {\n",
              "      background-color: #434B5C;\n",
              "      box-shadow: 0px 1px 3px 1px rgba(0, 0, 0, 0.15);\n",
              "      filter: drop-shadow(0px 1px 2px rgba(0, 0, 0, 0.3));\n",
              "      fill: #FFFFFF;\n",
              "    }\n",
              "  </style>\n",
              "\n",
              "      <script>\n",
              "        const buttonEl =\n",
              "          document.querySelector('#df-a8620c07-dd1a-4703-8931-96e7be57901a button.colab-df-convert');\n",
              "        buttonEl.style.display =\n",
              "          google.colab.kernel.accessAllowed ? 'block' : 'none';\n",
              "\n",
              "        async function convertToInteractive(key) {\n",
              "          const element = document.querySelector('#df-a8620c07-dd1a-4703-8931-96e7be57901a');\n",
              "          const dataTable =\n",
              "            await google.colab.kernel.invokeFunction('convertToInteractive',\n",
              "                                                     [key], {});\n",
              "          if (!dataTable) return;\n",
              "\n",
              "          const docLinkHtml = 'Like what you see? Visit the ' +\n",
              "            '<a target=\"_blank\" href=https://colab.research.google.com/notebooks/data_table.ipynb>data table notebook</a>'\n",
              "            + ' to learn more about interactive tables.';\n",
              "          element.innerHTML = '';\n",
              "          dataTable['output_type'] = 'display_data';\n",
              "          await google.colab.output.renderOutput(dataTable, element);\n",
              "          const docLink = document.createElement('div');\n",
              "          docLink.innerHTML = docLinkHtml;\n",
              "          element.appendChild(docLink);\n",
              "        }\n",
              "      </script>\n",
              "    </div>\n",
              "  </div>\n",
              "  "
            ]
          },
          "metadata": {},
          "execution_count": 12
        }
      ]
    },
    {
      "cell_type": "markdown",
      "source": [
        "# TF-IDF using TfidfTransformer"
      ],
      "metadata": {
        "id": "LRW2iSmWjpIm"
      }
    },
    {
      "cell_type": "code",
      "source": [
        "tf_idf = TfidfTransformer(use_idf = True)\n",
        "tf_idf_matrix = tf_idf.fit_transform(cv_matrix)\n",
        "tf_idf_matrix = tf_idf_matrix.toarray()\n",
        "tf_idf_matrix"
      ],
      "metadata": {
        "colab": {
          "base_uri": "https://localhost:8080/"
        },
        "id": "LWg_B98Qjp3o",
        "outputId": "0a497b2a-86b1-41b0-c4d1-37b5bd9172a0"
      },
      "execution_count": 13,
      "outputs": [
        {
          "output_type": "execute_result",
          "data": {
            "text/plain": [
              "array([[0.        , 0.23894521, 0.        , 0.        , 0.        ,\n",
              "        0.31418424, 0.31418424, 0.        , 0.        , 0.        ,\n",
              "        0.        , 0.        , 0.        , 0.        , 0.23894521,\n",
              "        0.        , 0.31418424, 0.        , 0.31418424, 0.31418424,\n",
              "        0.31418424, 0.37112454, 0.        , 0.        , 0.31418424,\n",
              "        0.        , 0.23894521, 0.        ],\n",
              "       [0.30852405, 0.        , 0.30852405, 0.        , 0.30852405,\n",
              "        0.        , 0.        , 0.        , 0.        , 0.30852405,\n",
              "        0.        , 0.30852405, 0.30852405, 0.30852405, 0.23464049,\n",
              "        0.        , 0.        , 0.        , 0.        , 0.        ,\n",
              "        0.        , 0.18221927, 0.23464049, 0.        , 0.        ,\n",
              "        0.30852405, 0.        , 0.30852405],\n",
              "       [0.        , 0.25233341, 0.        , 0.33178811, 0.        ,\n",
              "        0.        , 0.        , 0.33178811, 0.33178811, 0.        ,\n",
              "        0.33178811, 0.        , 0.        , 0.        , 0.        ,\n",
              "        0.33178811, 0.        , 0.33178811, 0.        , 0.        ,\n",
              "        0.        , 0.1959594 , 0.25233341, 0.33178811, 0.        ,\n",
              "        0.        , 0.25233341, 0.        ]])"
            ]
          },
          "metadata": {},
          "execution_count": 13
        }
      ]
    },
    {
      "cell_type": "code",
      "source": [
        "pd.DataFrame(np.round(tf_idf_matrix,4), columns=vocab)"
      ],
      "metadata": {
        "colab": {
          "base_uri": "https://localhost:8080/",
          "height": 237
        },
        "id": "v3xcnPiWj5Sc",
        "outputId": "b726fec3-5136-4ea6-8d70-752c649c5895"
      },
      "execution_count": 14,
      "outputs": [
        {
          "output_type": "execute_result",
          "data": {
            "text/plain": [
              "       70     are  billion  bravely    case   close  depicts    face  family  \\\n",
              "0  0.0000  0.2389   0.0000   0.0000  0.0000  0.3142   0.3142  0.0000  0.0000   \n",
              "1  0.3085  0.0000   0.3085   0.0000  0.3085  0.0000   0.0000  0.0000  0.0000   \n",
              "2  0.0000  0.2523   0.0000   0.3318  0.0000  0.0000   0.0000  0.3318  0.3318   \n",
              "\n",
              "     goes  ...  series  sisters   story     the   their    they   three  \\\n",
              "0  0.0000  ...  0.3142   0.3142  0.3142  0.3711  0.0000  0.0000  0.3142   \n",
              "1  0.3085  ...  0.0000   0.0000  0.0000  0.1822  0.2346  0.0000  0.0000   \n",
              "2  0.0000  ...  0.0000   0.0000  0.0000  0.1960  0.2523  0.3318  0.0000   \n",
              "\n",
              "    which     who     won  \n",
              "0  0.0000  0.2389  0.0000  \n",
              "1  0.3085  0.0000  0.3085  \n",
              "2  0.0000  0.2523  0.0000  \n",
              "\n",
              "[3 rows x 28 columns]"
            ],
            "text/html": [
              "\n",
              "  <div id=\"df-a009090e-0ae6-4d9d-9459-f088b968bbec\">\n",
              "    <div class=\"colab-df-container\">\n",
              "      <div>\n",
              "<style scoped>\n",
              "    .dataframe tbody tr th:only-of-type {\n",
              "        vertical-align: middle;\n",
              "    }\n",
              "\n",
              "    .dataframe tbody tr th {\n",
              "        vertical-align: top;\n",
              "    }\n",
              "\n",
              "    .dataframe thead th {\n",
              "        text-align: right;\n",
              "    }\n",
              "</style>\n",
              "<table border=\"1\" class=\"dataframe\">\n",
              "  <thead>\n",
              "    <tr style=\"text-align: right;\">\n",
              "      <th></th>\n",
              "      <th>70</th>\n",
              "      <th>are</th>\n",
              "      <th>billion</th>\n",
              "      <th>bravely</th>\n",
              "      <th>case</th>\n",
              "      <th>close</th>\n",
              "      <th>depicts</th>\n",
              "      <th>face</th>\n",
              "      <th>family</th>\n",
              "      <th>goes</th>\n",
              "      <th>...</th>\n",
              "      <th>series</th>\n",
              "      <th>sisters</th>\n",
              "      <th>story</th>\n",
              "      <th>the</th>\n",
              "      <th>their</th>\n",
              "      <th>they</th>\n",
              "      <th>three</th>\n",
              "      <th>which</th>\n",
              "      <th>who</th>\n",
              "      <th>won</th>\n",
              "    </tr>\n",
              "  </thead>\n",
              "  <tbody>\n",
              "    <tr>\n",
              "      <th>0</th>\n",
              "      <td>0.0000</td>\n",
              "      <td>0.2389</td>\n",
              "      <td>0.0000</td>\n",
              "      <td>0.0000</td>\n",
              "      <td>0.0000</td>\n",
              "      <td>0.3142</td>\n",
              "      <td>0.3142</td>\n",
              "      <td>0.0000</td>\n",
              "      <td>0.0000</td>\n",
              "      <td>0.0000</td>\n",
              "      <td>...</td>\n",
              "      <td>0.3142</td>\n",
              "      <td>0.3142</td>\n",
              "      <td>0.3142</td>\n",
              "      <td>0.3711</td>\n",
              "      <td>0.0000</td>\n",
              "      <td>0.0000</td>\n",
              "      <td>0.3142</td>\n",
              "      <td>0.0000</td>\n",
              "      <td>0.2389</td>\n",
              "      <td>0.0000</td>\n",
              "    </tr>\n",
              "    <tr>\n",
              "      <th>1</th>\n",
              "      <td>0.3085</td>\n",
              "      <td>0.0000</td>\n",
              "      <td>0.3085</td>\n",
              "      <td>0.0000</td>\n",
              "      <td>0.3085</td>\n",
              "      <td>0.0000</td>\n",
              "      <td>0.0000</td>\n",
              "      <td>0.0000</td>\n",
              "      <td>0.0000</td>\n",
              "      <td>0.3085</td>\n",
              "      <td>...</td>\n",
              "      <td>0.0000</td>\n",
              "      <td>0.0000</td>\n",
              "      <td>0.0000</td>\n",
              "      <td>0.1822</td>\n",
              "      <td>0.2346</td>\n",
              "      <td>0.0000</td>\n",
              "      <td>0.0000</td>\n",
              "      <td>0.3085</td>\n",
              "      <td>0.0000</td>\n",
              "      <td>0.3085</td>\n",
              "    </tr>\n",
              "    <tr>\n",
              "      <th>2</th>\n",
              "      <td>0.0000</td>\n",
              "      <td>0.2523</td>\n",
              "      <td>0.0000</td>\n",
              "      <td>0.3318</td>\n",
              "      <td>0.0000</td>\n",
              "      <td>0.0000</td>\n",
              "      <td>0.0000</td>\n",
              "      <td>0.3318</td>\n",
              "      <td>0.3318</td>\n",
              "      <td>0.0000</td>\n",
              "      <td>...</td>\n",
              "      <td>0.0000</td>\n",
              "      <td>0.0000</td>\n",
              "      <td>0.0000</td>\n",
              "      <td>0.1960</td>\n",
              "      <td>0.2523</td>\n",
              "      <td>0.3318</td>\n",
              "      <td>0.0000</td>\n",
              "      <td>0.0000</td>\n",
              "      <td>0.2523</td>\n",
              "      <td>0.0000</td>\n",
              "    </tr>\n",
              "  </tbody>\n",
              "</table>\n",
              "<p>3 rows × 28 columns</p>\n",
              "</div>\n",
              "      <button class=\"colab-df-convert\" onclick=\"convertToInteractive('df-a009090e-0ae6-4d9d-9459-f088b968bbec')\"\n",
              "              title=\"Convert this dataframe to an interactive table.\"\n",
              "              style=\"display:none;\">\n",
              "        \n",
              "  <svg xmlns=\"http://www.w3.org/2000/svg\" height=\"24px\"viewBox=\"0 0 24 24\"\n",
              "       width=\"24px\">\n",
              "    <path d=\"M0 0h24v24H0V0z\" fill=\"none\"/>\n",
              "    <path d=\"M18.56 5.44l.94 2.06.94-2.06 2.06-.94-2.06-.94-.94-2.06-.94 2.06-2.06.94zm-11 1L8.5 8.5l.94-2.06 2.06-.94-2.06-.94L8.5 2.5l-.94 2.06-2.06.94zm10 10l.94 2.06.94-2.06 2.06-.94-2.06-.94-.94-2.06-.94 2.06-2.06.94z\"/><path d=\"M17.41 7.96l-1.37-1.37c-.4-.4-.92-.59-1.43-.59-.52 0-1.04.2-1.43.59L10.3 9.45l-7.72 7.72c-.78.78-.78 2.05 0 2.83L4 21.41c.39.39.9.59 1.41.59.51 0 1.02-.2 1.41-.59l7.78-7.78 2.81-2.81c.8-.78.8-2.07 0-2.86zM5.41 20L4 18.59l7.72-7.72 1.47 1.35L5.41 20z\"/>\n",
              "  </svg>\n",
              "      </button>\n",
              "      \n",
              "  <style>\n",
              "    .colab-df-container {\n",
              "      display:flex;\n",
              "      flex-wrap:wrap;\n",
              "      gap: 12px;\n",
              "    }\n",
              "\n",
              "    .colab-df-convert {\n",
              "      background-color: #E8F0FE;\n",
              "      border: none;\n",
              "      border-radius: 50%;\n",
              "      cursor: pointer;\n",
              "      display: none;\n",
              "      fill: #1967D2;\n",
              "      height: 32px;\n",
              "      padding: 0 0 0 0;\n",
              "      width: 32px;\n",
              "    }\n",
              "\n",
              "    .colab-df-convert:hover {\n",
              "      background-color: #E2EBFA;\n",
              "      box-shadow: 0px 1px 2px rgba(60, 64, 67, 0.3), 0px 1px 3px 1px rgba(60, 64, 67, 0.15);\n",
              "      fill: #174EA6;\n",
              "    }\n",
              "\n",
              "    [theme=dark] .colab-df-convert {\n",
              "      background-color: #3B4455;\n",
              "      fill: #D2E3FC;\n",
              "    }\n",
              "\n",
              "    [theme=dark] .colab-df-convert:hover {\n",
              "      background-color: #434B5C;\n",
              "      box-shadow: 0px 1px 3px 1px rgba(0, 0, 0, 0.15);\n",
              "      filter: drop-shadow(0px 1px 2px rgba(0, 0, 0, 0.3));\n",
              "      fill: #FFFFFF;\n",
              "    }\n",
              "  </style>\n",
              "\n",
              "      <script>\n",
              "        const buttonEl =\n",
              "          document.querySelector('#df-a009090e-0ae6-4d9d-9459-f088b968bbec button.colab-df-convert');\n",
              "        buttonEl.style.display =\n",
              "          google.colab.kernel.accessAllowed ? 'block' : 'none';\n",
              "\n",
              "        async function convertToInteractive(key) {\n",
              "          const element = document.querySelector('#df-a009090e-0ae6-4d9d-9459-f088b968bbec');\n",
              "          const dataTable =\n",
              "            await google.colab.kernel.invokeFunction('convertToInteractive',\n",
              "                                                     [key], {});\n",
              "          if (!dataTable) return;\n",
              "\n",
              "          const docLinkHtml = 'Like what you see? Visit the ' +\n",
              "            '<a target=\"_blank\" href=https://colab.research.google.com/notebooks/data_table.ipynb>data table notebook</a>'\n",
              "            + ' to learn more about interactive tables.';\n",
              "          element.innerHTML = '';\n",
              "          dataTable['output_type'] = 'display_data';\n",
              "          await google.colab.output.renderOutput(dataTable, element);\n",
              "          const docLink = document.createElement('div');\n",
              "          docLink.innerHTML = docLinkHtml;\n",
              "          element.appendChild(docLink);\n",
              "        }\n",
              "      </script>\n",
              "    </div>\n",
              "  </div>\n",
              "  "
            ]
          },
          "metadata": {},
          "execution_count": 14
        }
      ]
    }
  ]
}