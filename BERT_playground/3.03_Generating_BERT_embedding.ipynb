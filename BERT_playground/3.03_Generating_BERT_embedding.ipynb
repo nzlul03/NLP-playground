{
  "nbformat": 4,
  "nbformat_minor": 0,
  "metadata": {
    "colab": {
      "provenance": [],
      "collapsed_sections": [
        "Cn2MT9Y7l92P",
        "C6WMpZFPmT0w",
        "WmV3wsOGszvj",
        "GABfj70Rv3aT"
      ],
      "authorship_tag": "ABX9TyN0RFL6GYdSsVa86RPOgyzO"
    },
    "kernelspec": {
      "name": "python3",
      "display_name": "Python 3"
    },
    "language_info": {
      "name": "python"
    },
    "accelerator": "GPU",
    "gpuClass": "standard",
    "widgets": {
      "application/vnd.jupyter.widget-state+json": {
        "bfcc1aa48b1446d3b212afa4a51f6d7c": {
          "model_module": "@jupyter-widgets/controls",
          "model_name": "HBoxModel",
          "model_module_version": "1.5.0",
          "state": {
            "_dom_classes": [],
            "_model_module": "@jupyter-widgets/controls",
            "_model_module_version": "1.5.0",
            "_model_name": "HBoxModel",
            "_view_count": null,
            "_view_module": "@jupyter-widgets/controls",
            "_view_module_version": "1.5.0",
            "_view_name": "HBoxView",
            "box_style": "",
            "children": [
              "IPY_MODEL_f790f3b570964acfb0c4d3eca08e7c24",
              "IPY_MODEL_12de2465404c4516a7ed585ca9611410",
              "IPY_MODEL_8f88f67bd1c041d391331003b380375c"
            ],
            "layout": "IPY_MODEL_1f4fd6c193ae4aba88d12bb43d5afef7"
          }
        },
        "f790f3b570964acfb0c4d3eca08e7c24": {
          "model_module": "@jupyter-widgets/controls",
          "model_name": "HTMLModel",
          "model_module_version": "1.5.0",
          "state": {
            "_dom_classes": [],
            "_model_module": "@jupyter-widgets/controls",
            "_model_module_version": "1.5.0",
            "_model_name": "HTMLModel",
            "_view_count": null,
            "_view_module": "@jupyter-widgets/controls",
            "_view_module_version": "1.5.0",
            "_view_name": "HTMLView",
            "description": "",
            "description_tooltip": null,
            "layout": "IPY_MODEL_d083f822d9b749548327186fa9d265e6",
            "placeholder": "​",
            "style": "IPY_MODEL_e2711a4fe02445248ffa140f106a6b3a",
            "value": "Downloading (…)lve/main/config.json: 100%"
          }
        },
        "12de2465404c4516a7ed585ca9611410": {
          "model_module": "@jupyter-widgets/controls",
          "model_name": "FloatProgressModel",
          "model_module_version": "1.5.0",
          "state": {
            "_dom_classes": [],
            "_model_module": "@jupyter-widgets/controls",
            "_model_module_version": "1.5.0",
            "_model_name": "FloatProgressModel",
            "_view_count": null,
            "_view_module": "@jupyter-widgets/controls",
            "_view_module_version": "1.5.0",
            "_view_name": "ProgressView",
            "bar_style": "success",
            "description": "",
            "description_tooltip": null,
            "layout": "IPY_MODEL_35623b5a70384807bd4796daef8a90c0",
            "max": 570,
            "min": 0,
            "orientation": "horizontal",
            "style": "IPY_MODEL_1efe0655822e422db12b31e5af3aa106",
            "value": 570
          }
        },
        "8f88f67bd1c041d391331003b380375c": {
          "model_module": "@jupyter-widgets/controls",
          "model_name": "HTMLModel",
          "model_module_version": "1.5.0",
          "state": {
            "_dom_classes": [],
            "_model_module": "@jupyter-widgets/controls",
            "_model_module_version": "1.5.0",
            "_model_name": "HTMLModel",
            "_view_count": null,
            "_view_module": "@jupyter-widgets/controls",
            "_view_module_version": "1.5.0",
            "_view_name": "HTMLView",
            "description": "",
            "description_tooltip": null,
            "layout": "IPY_MODEL_848180c8ad6e4415927a4dbfe55aeb46",
            "placeholder": "​",
            "style": "IPY_MODEL_f714471f29504fbf9f03d40f2533e6b8",
            "value": " 570/570 [00:00&lt;00:00, 21.1kB/s]"
          }
        },
        "1f4fd6c193ae4aba88d12bb43d5afef7": {
          "model_module": "@jupyter-widgets/base",
          "model_name": "LayoutModel",
          "model_module_version": "1.2.0",
          "state": {
            "_model_module": "@jupyter-widgets/base",
            "_model_module_version": "1.2.0",
            "_model_name": "LayoutModel",
            "_view_count": null,
            "_view_module": "@jupyter-widgets/base",
            "_view_module_version": "1.2.0",
            "_view_name": "LayoutView",
            "align_content": null,
            "align_items": null,
            "align_self": null,
            "border": null,
            "bottom": null,
            "display": null,
            "flex": null,
            "flex_flow": null,
            "grid_area": null,
            "grid_auto_columns": null,
            "grid_auto_flow": null,
            "grid_auto_rows": null,
            "grid_column": null,
            "grid_gap": null,
            "grid_row": null,
            "grid_template_areas": null,
            "grid_template_columns": null,
            "grid_template_rows": null,
            "height": null,
            "justify_content": null,
            "justify_items": null,
            "left": null,
            "margin": null,
            "max_height": null,
            "max_width": null,
            "min_height": null,
            "min_width": null,
            "object_fit": null,
            "object_position": null,
            "order": null,
            "overflow": null,
            "overflow_x": null,
            "overflow_y": null,
            "padding": null,
            "right": null,
            "top": null,
            "visibility": null,
            "width": null
          }
        },
        "d083f822d9b749548327186fa9d265e6": {
          "model_module": "@jupyter-widgets/base",
          "model_name": "LayoutModel",
          "model_module_version": "1.2.0",
          "state": {
            "_model_module": "@jupyter-widgets/base",
            "_model_module_version": "1.2.0",
            "_model_name": "LayoutModel",
            "_view_count": null,
            "_view_module": "@jupyter-widgets/base",
            "_view_module_version": "1.2.0",
            "_view_name": "LayoutView",
            "align_content": null,
            "align_items": null,
            "align_self": null,
            "border": null,
            "bottom": null,
            "display": null,
            "flex": null,
            "flex_flow": null,
            "grid_area": null,
            "grid_auto_columns": null,
            "grid_auto_flow": null,
            "grid_auto_rows": null,
            "grid_column": null,
            "grid_gap": null,
            "grid_row": null,
            "grid_template_areas": null,
            "grid_template_columns": null,
            "grid_template_rows": null,
            "height": null,
            "justify_content": null,
            "justify_items": null,
            "left": null,
            "margin": null,
            "max_height": null,
            "max_width": null,
            "min_height": null,
            "min_width": null,
            "object_fit": null,
            "object_position": null,
            "order": null,
            "overflow": null,
            "overflow_x": null,
            "overflow_y": null,
            "padding": null,
            "right": null,
            "top": null,
            "visibility": null,
            "width": null
          }
        },
        "e2711a4fe02445248ffa140f106a6b3a": {
          "model_module": "@jupyter-widgets/controls",
          "model_name": "DescriptionStyleModel",
          "model_module_version": "1.5.0",
          "state": {
            "_model_module": "@jupyter-widgets/controls",
            "_model_module_version": "1.5.0",
            "_model_name": "DescriptionStyleModel",
            "_view_count": null,
            "_view_module": "@jupyter-widgets/base",
            "_view_module_version": "1.2.0",
            "_view_name": "StyleView",
            "description_width": ""
          }
        },
        "35623b5a70384807bd4796daef8a90c0": {
          "model_module": "@jupyter-widgets/base",
          "model_name": "LayoutModel",
          "model_module_version": "1.2.0",
          "state": {
            "_model_module": "@jupyter-widgets/base",
            "_model_module_version": "1.2.0",
            "_model_name": "LayoutModel",
            "_view_count": null,
            "_view_module": "@jupyter-widgets/base",
            "_view_module_version": "1.2.0",
            "_view_name": "LayoutView",
            "align_content": null,
            "align_items": null,
            "align_self": null,
            "border": null,
            "bottom": null,
            "display": null,
            "flex": null,
            "flex_flow": null,
            "grid_area": null,
            "grid_auto_columns": null,
            "grid_auto_flow": null,
            "grid_auto_rows": null,
            "grid_column": null,
            "grid_gap": null,
            "grid_row": null,
            "grid_template_areas": null,
            "grid_template_columns": null,
            "grid_template_rows": null,
            "height": null,
            "justify_content": null,
            "justify_items": null,
            "left": null,
            "margin": null,
            "max_height": null,
            "max_width": null,
            "min_height": null,
            "min_width": null,
            "object_fit": null,
            "object_position": null,
            "order": null,
            "overflow": null,
            "overflow_x": null,
            "overflow_y": null,
            "padding": null,
            "right": null,
            "top": null,
            "visibility": null,
            "width": null
          }
        },
        "1efe0655822e422db12b31e5af3aa106": {
          "model_module": "@jupyter-widgets/controls",
          "model_name": "ProgressStyleModel",
          "model_module_version": "1.5.0",
          "state": {
            "_model_module": "@jupyter-widgets/controls",
            "_model_module_version": "1.5.0",
            "_model_name": "ProgressStyleModel",
            "_view_count": null,
            "_view_module": "@jupyter-widgets/base",
            "_view_module_version": "1.2.0",
            "_view_name": "StyleView",
            "bar_color": null,
            "description_width": ""
          }
        },
        "848180c8ad6e4415927a4dbfe55aeb46": {
          "model_module": "@jupyter-widgets/base",
          "model_name": "LayoutModel",
          "model_module_version": "1.2.0",
          "state": {
            "_model_module": "@jupyter-widgets/base",
            "_model_module_version": "1.2.0",
            "_model_name": "LayoutModel",
            "_view_count": null,
            "_view_module": "@jupyter-widgets/base",
            "_view_module_version": "1.2.0",
            "_view_name": "LayoutView",
            "align_content": null,
            "align_items": null,
            "align_self": null,
            "border": null,
            "bottom": null,
            "display": null,
            "flex": null,
            "flex_flow": null,
            "grid_area": null,
            "grid_auto_columns": null,
            "grid_auto_flow": null,
            "grid_auto_rows": null,
            "grid_column": null,
            "grid_gap": null,
            "grid_row": null,
            "grid_template_areas": null,
            "grid_template_columns": null,
            "grid_template_rows": null,
            "height": null,
            "justify_content": null,
            "justify_items": null,
            "left": null,
            "margin": null,
            "max_height": null,
            "max_width": null,
            "min_height": null,
            "min_width": null,
            "object_fit": null,
            "object_position": null,
            "order": null,
            "overflow": null,
            "overflow_x": null,
            "overflow_y": null,
            "padding": null,
            "right": null,
            "top": null,
            "visibility": null,
            "width": null
          }
        },
        "f714471f29504fbf9f03d40f2533e6b8": {
          "model_module": "@jupyter-widgets/controls",
          "model_name": "DescriptionStyleModel",
          "model_module_version": "1.5.0",
          "state": {
            "_model_module": "@jupyter-widgets/controls",
            "_model_module_version": "1.5.0",
            "_model_name": "DescriptionStyleModel",
            "_view_count": null,
            "_view_module": "@jupyter-widgets/base",
            "_view_module_version": "1.2.0",
            "_view_name": "StyleView",
            "description_width": ""
          }
        },
        "420cc399e006422a80ab7b53cbcf1ab1": {
          "model_module": "@jupyter-widgets/controls",
          "model_name": "HBoxModel",
          "model_module_version": "1.5.0",
          "state": {
            "_dom_classes": [],
            "_model_module": "@jupyter-widgets/controls",
            "_model_module_version": "1.5.0",
            "_model_name": "HBoxModel",
            "_view_count": null,
            "_view_module": "@jupyter-widgets/controls",
            "_view_module_version": "1.5.0",
            "_view_name": "HBoxView",
            "box_style": "",
            "children": [
              "IPY_MODEL_22f6f6e5513549048fc55375483f4f08",
              "IPY_MODEL_58ef0688f5894a1ba6cc0d4142a17bff",
              "IPY_MODEL_7ef65b585e2748c6b595cb1bbc95fcd3"
            ],
            "layout": "IPY_MODEL_76dda82db2ac487a9e45727bc6359d4c"
          }
        },
        "22f6f6e5513549048fc55375483f4f08": {
          "model_module": "@jupyter-widgets/controls",
          "model_name": "HTMLModel",
          "model_module_version": "1.5.0",
          "state": {
            "_dom_classes": [],
            "_model_module": "@jupyter-widgets/controls",
            "_model_module_version": "1.5.0",
            "_model_name": "HTMLModel",
            "_view_count": null,
            "_view_module": "@jupyter-widgets/controls",
            "_view_module_version": "1.5.0",
            "_view_name": "HTMLView",
            "description": "",
            "description_tooltip": null,
            "layout": "IPY_MODEL_481d408c922948729daa5cd9fc019957",
            "placeholder": "​",
            "style": "IPY_MODEL_f18548e18dab460eb00c02ca98bc9d31",
            "value": "Downloading (…)&quot;pytorch_model.bin&quot;;: 100%"
          }
        },
        "58ef0688f5894a1ba6cc0d4142a17bff": {
          "model_module": "@jupyter-widgets/controls",
          "model_name": "FloatProgressModel",
          "model_module_version": "1.5.0",
          "state": {
            "_dom_classes": [],
            "_model_module": "@jupyter-widgets/controls",
            "_model_module_version": "1.5.0",
            "_model_name": "FloatProgressModel",
            "_view_count": null,
            "_view_module": "@jupyter-widgets/controls",
            "_view_module_version": "1.5.0",
            "_view_name": "ProgressView",
            "bar_style": "success",
            "description": "",
            "description_tooltip": null,
            "layout": "IPY_MODEL_c0a786d837fe4755bfc7d014d6d560bb",
            "max": 440473133,
            "min": 0,
            "orientation": "horizontal",
            "style": "IPY_MODEL_298c6855736741e6b7e09027e24c8ce9",
            "value": 440473133
          }
        },
        "7ef65b585e2748c6b595cb1bbc95fcd3": {
          "model_module": "@jupyter-widgets/controls",
          "model_name": "HTMLModel",
          "model_module_version": "1.5.0",
          "state": {
            "_dom_classes": [],
            "_model_module": "@jupyter-widgets/controls",
            "_model_module_version": "1.5.0",
            "_model_name": "HTMLModel",
            "_view_count": null,
            "_view_module": "@jupyter-widgets/controls",
            "_view_module_version": "1.5.0",
            "_view_name": "HTMLView",
            "description": "",
            "description_tooltip": null,
            "layout": "IPY_MODEL_d89b6e061ad34493ba43978552257748",
            "placeholder": "​",
            "style": "IPY_MODEL_1b43a89e341e4bed84ce835ed54f1670",
            "value": " 440M/440M [00:01&lt;00:00, 337MB/s]"
          }
        },
        "76dda82db2ac487a9e45727bc6359d4c": {
          "model_module": "@jupyter-widgets/base",
          "model_name": "LayoutModel",
          "model_module_version": "1.2.0",
          "state": {
            "_model_module": "@jupyter-widgets/base",
            "_model_module_version": "1.2.0",
            "_model_name": "LayoutModel",
            "_view_count": null,
            "_view_module": "@jupyter-widgets/base",
            "_view_module_version": "1.2.0",
            "_view_name": "LayoutView",
            "align_content": null,
            "align_items": null,
            "align_self": null,
            "border": null,
            "bottom": null,
            "display": null,
            "flex": null,
            "flex_flow": null,
            "grid_area": null,
            "grid_auto_columns": null,
            "grid_auto_flow": null,
            "grid_auto_rows": null,
            "grid_column": null,
            "grid_gap": null,
            "grid_row": null,
            "grid_template_areas": null,
            "grid_template_columns": null,
            "grid_template_rows": null,
            "height": null,
            "justify_content": null,
            "justify_items": null,
            "left": null,
            "margin": null,
            "max_height": null,
            "max_width": null,
            "min_height": null,
            "min_width": null,
            "object_fit": null,
            "object_position": null,
            "order": null,
            "overflow": null,
            "overflow_x": null,
            "overflow_y": null,
            "padding": null,
            "right": null,
            "top": null,
            "visibility": null,
            "width": null
          }
        },
        "481d408c922948729daa5cd9fc019957": {
          "model_module": "@jupyter-widgets/base",
          "model_name": "LayoutModel",
          "model_module_version": "1.2.0",
          "state": {
            "_model_module": "@jupyter-widgets/base",
            "_model_module_version": "1.2.0",
            "_model_name": "LayoutModel",
            "_view_count": null,
            "_view_module": "@jupyter-widgets/base",
            "_view_module_version": "1.2.0",
            "_view_name": "LayoutView",
            "align_content": null,
            "align_items": null,
            "align_self": null,
            "border": null,
            "bottom": null,
            "display": null,
            "flex": null,
            "flex_flow": null,
            "grid_area": null,
            "grid_auto_columns": null,
            "grid_auto_flow": null,
            "grid_auto_rows": null,
            "grid_column": null,
            "grid_gap": null,
            "grid_row": null,
            "grid_template_areas": null,
            "grid_template_columns": null,
            "grid_template_rows": null,
            "height": null,
            "justify_content": null,
            "justify_items": null,
            "left": null,
            "margin": null,
            "max_height": null,
            "max_width": null,
            "min_height": null,
            "min_width": null,
            "object_fit": null,
            "object_position": null,
            "order": null,
            "overflow": null,
            "overflow_x": null,
            "overflow_y": null,
            "padding": null,
            "right": null,
            "top": null,
            "visibility": null,
            "width": null
          }
        },
        "f18548e18dab460eb00c02ca98bc9d31": {
          "model_module": "@jupyter-widgets/controls",
          "model_name": "DescriptionStyleModel",
          "model_module_version": "1.5.0",
          "state": {
            "_model_module": "@jupyter-widgets/controls",
            "_model_module_version": "1.5.0",
            "_model_name": "DescriptionStyleModel",
            "_view_count": null,
            "_view_module": "@jupyter-widgets/base",
            "_view_module_version": "1.2.0",
            "_view_name": "StyleView",
            "description_width": ""
          }
        },
        "c0a786d837fe4755bfc7d014d6d560bb": {
          "model_module": "@jupyter-widgets/base",
          "model_name": "LayoutModel",
          "model_module_version": "1.2.0",
          "state": {
            "_model_module": "@jupyter-widgets/base",
            "_model_module_version": "1.2.0",
            "_model_name": "LayoutModel",
            "_view_count": null,
            "_view_module": "@jupyter-widgets/base",
            "_view_module_version": "1.2.0",
            "_view_name": "LayoutView",
            "align_content": null,
            "align_items": null,
            "align_self": null,
            "border": null,
            "bottom": null,
            "display": null,
            "flex": null,
            "flex_flow": null,
            "grid_area": null,
            "grid_auto_columns": null,
            "grid_auto_flow": null,
            "grid_auto_rows": null,
            "grid_column": null,
            "grid_gap": null,
            "grid_row": null,
            "grid_template_areas": null,
            "grid_template_columns": null,
            "grid_template_rows": null,
            "height": null,
            "justify_content": null,
            "justify_items": null,
            "left": null,
            "margin": null,
            "max_height": null,
            "max_width": null,
            "min_height": null,
            "min_width": null,
            "object_fit": null,
            "object_position": null,
            "order": null,
            "overflow": null,
            "overflow_x": null,
            "overflow_y": null,
            "padding": null,
            "right": null,
            "top": null,
            "visibility": null,
            "width": null
          }
        },
        "298c6855736741e6b7e09027e24c8ce9": {
          "model_module": "@jupyter-widgets/controls",
          "model_name": "ProgressStyleModel",
          "model_module_version": "1.5.0",
          "state": {
            "_model_module": "@jupyter-widgets/controls",
            "_model_module_version": "1.5.0",
            "_model_name": "ProgressStyleModel",
            "_view_count": null,
            "_view_module": "@jupyter-widgets/base",
            "_view_module_version": "1.2.0",
            "_view_name": "StyleView",
            "bar_color": null,
            "description_width": ""
          }
        },
        "d89b6e061ad34493ba43978552257748": {
          "model_module": "@jupyter-widgets/base",
          "model_name": "LayoutModel",
          "model_module_version": "1.2.0",
          "state": {
            "_model_module": "@jupyter-widgets/base",
            "_model_module_version": "1.2.0",
            "_model_name": "LayoutModel",
            "_view_count": null,
            "_view_module": "@jupyter-widgets/base",
            "_view_module_version": "1.2.0",
            "_view_name": "LayoutView",
            "align_content": null,
            "align_items": null,
            "align_self": null,
            "border": null,
            "bottom": null,
            "display": null,
            "flex": null,
            "flex_flow": null,
            "grid_area": null,
            "grid_auto_columns": null,
            "grid_auto_flow": null,
            "grid_auto_rows": null,
            "grid_column": null,
            "grid_gap": null,
            "grid_row": null,
            "grid_template_areas": null,
            "grid_template_columns": null,
            "grid_template_rows": null,
            "height": null,
            "justify_content": null,
            "justify_items": null,
            "left": null,
            "margin": null,
            "max_height": null,
            "max_width": null,
            "min_height": null,
            "min_width": null,
            "object_fit": null,
            "object_position": null,
            "order": null,
            "overflow": null,
            "overflow_x": null,
            "overflow_y": null,
            "padding": null,
            "right": null,
            "top": null,
            "visibility": null,
            "width": null
          }
        },
        "1b43a89e341e4bed84ce835ed54f1670": {
          "model_module": "@jupyter-widgets/controls",
          "model_name": "DescriptionStyleModel",
          "model_module_version": "1.5.0",
          "state": {
            "_model_module": "@jupyter-widgets/controls",
            "_model_module_version": "1.5.0",
            "_model_name": "DescriptionStyleModel",
            "_view_count": null,
            "_view_module": "@jupyter-widgets/base",
            "_view_module_version": "1.2.0",
            "_view_name": "StyleView",
            "description_width": ""
          }
        },
        "83dd704e697a41c687c7a0ffd33354a1": {
          "model_module": "@jupyter-widgets/controls",
          "model_name": "HBoxModel",
          "model_module_version": "1.5.0",
          "state": {
            "_dom_classes": [],
            "_model_module": "@jupyter-widgets/controls",
            "_model_module_version": "1.5.0",
            "_model_name": "HBoxModel",
            "_view_count": null,
            "_view_module": "@jupyter-widgets/controls",
            "_view_module_version": "1.5.0",
            "_view_name": "HBoxView",
            "box_style": "",
            "children": [
              "IPY_MODEL_a632978165494f889cb6ab184132501e",
              "IPY_MODEL_3ebcbf5812be400ca7d0950c160081f9",
              "IPY_MODEL_49da7e59a8a149d58edd5b50d63935ac"
            ],
            "layout": "IPY_MODEL_43ba21d90c834c498526ec741b14dceb"
          }
        },
        "a632978165494f889cb6ab184132501e": {
          "model_module": "@jupyter-widgets/controls",
          "model_name": "HTMLModel",
          "model_module_version": "1.5.0",
          "state": {
            "_dom_classes": [],
            "_model_module": "@jupyter-widgets/controls",
            "_model_module_version": "1.5.0",
            "_model_name": "HTMLModel",
            "_view_count": null,
            "_view_module": "@jupyter-widgets/controls",
            "_view_module_version": "1.5.0",
            "_view_name": "HTMLView",
            "description": "",
            "description_tooltip": null,
            "layout": "IPY_MODEL_3b209d01bcfb4c1da4d5ad05d420de6c",
            "placeholder": "​",
            "style": "IPY_MODEL_d2d553bfc02f449e8b333d6125434938",
            "value": "Downloading (…)solve/main/vocab.txt: 100%"
          }
        },
        "3ebcbf5812be400ca7d0950c160081f9": {
          "model_module": "@jupyter-widgets/controls",
          "model_name": "FloatProgressModel",
          "model_module_version": "1.5.0",
          "state": {
            "_dom_classes": [],
            "_model_module": "@jupyter-widgets/controls",
            "_model_module_version": "1.5.0",
            "_model_name": "FloatProgressModel",
            "_view_count": null,
            "_view_module": "@jupyter-widgets/controls",
            "_view_module_version": "1.5.0",
            "_view_name": "ProgressView",
            "bar_style": "success",
            "description": "",
            "description_tooltip": null,
            "layout": "IPY_MODEL_f92f1d400a4145b7aa96e9e7f346c636",
            "max": 231508,
            "min": 0,
            "orientation": "horizontal",
            "style": "IPY_MODEL_9d2760b46f8f49f8ac9cc5c73fcc7052",
            "value": 231508
          }
        },
        "49da7e59a8a149d58edd5b50d63935ac": {
          "model_module": "@jupyter-widgets/controls",
          "model_name": "HTMLModel",
          "model_module_version": "1.5.0",
          "state": {
            "_dom_classes": [],
            "_model_module": "@jupyter-widgets/controls",
            "_model_module_version": "1.5.0",
            "_model_name": "HTMLModel",
            "_view_count": null,
            "_view_module": "@jupyter-widgets/controls",
            "_view_module_version": "1.5.0",
            "_view_name": "HTMLView",
            "description": "",
            "description_tooltip": null,
            "layout": "IPY_MODEL_29bd8cfa8a464986a1f6844808f68737",
            "placeholder": "​",
            "style": "IPY_MODEL_48c569547e874060b109ab2c873c8db5",
            "value": " 232k/232k [00:00&lt;00:00, 691kB/s]"
          }
        },
        "43ba21d90c834c498526ec741b14dceb": {
          "model_module": "@jupyter-widgets/base",
          "model_name": "LayoutModel",
          "model_module_version": "1.2.0",
          "state": {
            "_model_module": "@jupyter-widgets/base",
            "_model_module_version": "1.2.0",
            "_model_name": "LayoutModel",
            "_view_count": null,
            "_view_module": "@jupyter-widgets/base",
            "_view_module_version": "1.2.0",
            "_view_name": "LayoutView",
            "align_content": null,
            "align_items": null,
            "align_self": null,
            "border": null,
            "bottom": null,
            "display": null,
            "flex": null,
            "flex_flow": null,
            "grid_area": null,
            "grid_auto_columns": null,
            "grid_auto_flow": null,
            "grid_auto_rows": null,
            "grid_column": null,
            "grid_gap": null,
            "grid_row": null,
            "grid_template_areas": null,
            "grid_template_columns": null,
            "grid_template_rows": null,
            "height": null,
            "justify_content": null,
            "justify_items": null,
            "left": null,
            "margin": null,
            "max_height": null,
            "max_width": null,
            "min_height": null,
            "min_width": null,
            "object_fit": null,
            "object_position": null,
            "order": null,
            "overflow": null,
            "overflow_x": null,
            "overflow_y": null,
            "padding": null,
            "right": null,
            "top": null,
            "visibility": null,
            "width": null
          }
        },
        "3b209d01bcfb4c1da4d5ad05d420de6c": {
          "model_module": "@jupyter-widgets/base",
          "model_name": "LayoutModel",
          "model_module_version": "1.2.0",
          "state": {
            "_model_module": "@jupyter-widgets/base",
            "_model_module_version": "1.2.0",
            "_model_name": "LayoutModel",
            "_view_count": null,
            "_view_module": "@jupyter-widgets/base",
            "_view_module_version": "1.2.0",
            "_view_name": "LayoutView",
            "align_content": null,
            "align_items": null,
            "align_self": null,
            "border": null,
            "bottom": null,
            "display": null,
            "flex": null,
            "flex_flow": null,
            "grid_area": null,
            "grid_auto_columns": null,
            "grid_auto_flow": null,
            "grid_auto_rows": null,
            "grid_column": null,
            "grid_gap": null,
            "grid_row": null,
            "grid_template_areas": null,
            "grid_template_columns": null,
            "grid_template_rows": null,
            "height": null,
            "justify_content": null,
            "justify_items": null,
            "left": null,
            "margin": null,
            "max_height": null,
            "max_width": null,
            "min_height": null,
            "min_width": null,
            "object_fit": null,
            "object_position": null,
            "order": null,
            "overflow": null,
            "overflow_x": null,
            "overflow_y": null,
            "padding": null,
            "right": null,
            "top": null,
            "visibility": null,
            "width": null
          }
        },
        "d2d553bfc02f449e8b333d6125434938": {
          "model_module": "@jupyter-widgets/controls",
          "model_name": "DescriptionStyleModel",
          "model_module_version": "1.5.0",
          "state": {
            "_model_module": "@jupyter-widgets/controls",
            "_model_module_version": "1.5.0",
            "_model_name": "DescriptionStyleModel",
            "_view_count": null,
            "_view_module": "@jupyter-widgets/base",
            "_view_module_version": "1.2.0",
            "_view_name": "StyleView",
            "description_width": ""
          }
        },
        "f92f1d400a4145b7aa96e9e7f346c636": {
          "model_module": "@jupyter-widgets/base",
          "model_name": "LayoutModel",
          "model_module_version": "1.2.0",
          "state": {
            "_model_module": "@jupyter-widgets/base",
            "_model_module_version": "1.2.0",
            "_model_name": "LayoutModel",
            "_view_count": null,
            "_view_module": "@jupyter-widgets/base",
            "_view_module_version": "1.2.0",
            "_view_name": "LayoutView",
            "align_content": null,
            "align_items": null,
            "align_self": null,
            "border": null,
            "bottom": null,
            "display": null,
            "flex": null,
            "flex_flow": null,
            "grid_area": null,
            "grid_auto_columns": null,
            "grid_auto_flow": null,
            "grid_auto_rows": null,
            "grid_column": null,
            "grid_gap": null,
            "grid_row": null,
            "grid_template_areas": null,
            "grid_template_columns": null,
            "grid_template_rows": null,
            "height": null,
            "justify_content": null,
            "justify_items": null,
            "left": null,
            "margin": null,
            "max_height": null,
            "max_width": null,
            "min_height": null,
            "min_width": null,
            "object_fit": null,
            "object_position": null,
            "order": null,
            "overflow": null,
            "overflow_x": null,
            "overflow_y": null,
            "padding": null,
            "right": null,
            "top": null,
            "visibility": null,
            "width": null
          }
        },
        "9d2760b46f8f49f8ac9cc5c73fcc7052": {
          "model_module": "@jupyter-widgets/controls",
          "model_name": "ProgressStyleModel",
          "model_module_version": "1.5.0",
          "state": {
            "_model_module": "@jupyter-widgets/controls",
            "_model_module_version": "1.5.0",
            "_model_name": "ProgressStyleModel",
            "_view_count": null,
            "_view_module": "@jupyter-widgets/base",
            "_view_module_version": "1.2.0",
            "_view_name": "StyleView",
            "bar_color": null,
            "description_width": ""
          }
        },
        "29bd8cfa8a464986a1f6844808f68737": {
          "model_module": "@jupyter-widgets/base",
          "model_name": "LayoutModel",
          "model_module_version": "1.2.0",
          "state": {
            "_model_module": "@jupyter-widgets/base",
            "_model_module_version": "1.2.0",
            "_model_name": "LayoutModel",
            "_view_count": null,
            "_view_module": "@jupyter-widgets/base",
            "_view_module_version": "1.2.0",
            "_view_name": "LayoutView",
            "align_content": null,
            "align_items": null,
            "align_self": null,
            "border": null,
            "bottom": null,
            "display": null,
            "flex": null,
            "flex_flow": null,
            "grid_area": null,
            "grid_auto_columns": null,
            "grid_auto_flow": null,
            "grid_auto_rows": null,
            "grid_column": null,
            "grid_gap": null,
            "grid_row": null,
            "grid_template_areas": null,
            "grid_template_columns": null,
            "grid_template_rows": null,
            "height": null,
            "justify_content": null,
            "justify_items": null,
            "left": null,
            "margin": null,
            "max_height": null,
            "max_width": null,
            "min_height": null,
            "min_width": null,
            "object_fit": null,
            "object_position": null,
            "order": null,
            "overflow": null,
            "overflow_x": null,
            "overflow_y": null,
            "padding": null,
            "right": null,
            "top": null,
            "visibility": null,
            "width": null
          }
        },
        "48c569547e874060b109ab2c873c8db5": {
          "model_module": "@jupyter-widgets/controls",
          "model_name": "DescriptionStyleModel",
          "model_module_version": "1.5.0",
          "state": {
            "_model_module": "@jupyter-widgets/controls",
            "_model_module_version": "1.5.0",
            "_model_name": "DescriptionStyleModel",
            "_view_count": null,
            "_view_module": "@jupyter-widgets/base",
            "_view_module_version": "1.2.0",
            "_view_name": "StyleView",
            "description_width": ""
          }
        },
        "a1e30cc2e4364ee688b3e089e724b24e": {
          "model_module": "@jupyter-widgets/controls",
          "model_name": "HBoxModel",
          "model_module_version": "1.5.0",
          "state": {
            "_dom_classes": [],
            "_model_module": "@jupyter-widgets/controls",
            "_model_module_version": "1.5.0",
            "_model_name": "HBoxModel",
            "_view_count": null,
            "_view_module": "@jupyter-widgets/controls",
            "_view_module_version": "1.5.0",
            "_view_name": "HBoxView",
            "box_style": "",
            "children": [
              "IPY_MODEL_efb0b6365c4547fb8df15631bf37b0dc",
              "IPY_MODEL_3548fcde268f446caa6e5bb76f241bfb",
              "IPY_MODEL_0ca9c538f3cd41c0be4d7f32e4a4fb07"
            ],
            "layout": "IPY_MODEL_045bbd2ecfef41f8945e5fa56a4b5c29"
          }
        },
        "efb0b6365c4547fb8df15631bf37b0dc": {
          "model_module": "@jupyter-widgets/controls",
          "model_name": "HTMLModel",
          "model_module_version": "1.5.0",
          "state": {
            "_dom_classes": [],
            "_model_module": "@jupyter-widgets/controls",
            "_model_module_version": "1.5.0",
            "_model_name": "HTMLModel",
            "_view_count": null,
            "_view_module": "@jupyter-widgets/controls",
            "_view_module_version": "1.5.0",
            "_view_name": "HTMLView",
            "description": "",
            "description_tooltip": null,
            "layout": "IPY_MODEL_d7f983f9c1ca44189f2c00326b7bdfa5",
            "placeholder": "​",
            "style": "IPY_MODEL_dd4f915a5b0641249e35bdafc7e50e3a",
            "value": "Downloading (…)okenizer_config.json: 100%"
          }
        },
        "3548fcde268f446caa6e5bb76f241bfb": {
          "model_module": "@jupyter-widgets/controls",
          "model_name": "FloatProgressModel",
          "model_module_version": "1.5.0",
          "state": {
            "_dom_classes": [],
            "_model_module": "@jupyter-widgets/controls",
            "_model_module_version": "1.5.0",
            "_model_name": "FloatProgressModel",
            "_view_count": null,
            "_view_module": "@jupyter-widgets/controls",
            "_view_module_version": "1.5.0",
            "_view_name": "ProgressView",
            "bar_style": "success",
            "description": "",
            "description_tooltip": null,
            "layout": "IPY_MODEL_9e024e64b3fa42c0a4a778df4945203c",
            "max": 28,
            "min": 0,
            "orientation": "horizontal",
            "style": "IPY_MODEL_9cebcbfbed7441a59a06c5a2c7f4a160",
            "value": 28
          }
        },
        "0ca9c538f3cd41c0be4d7f32e4a4fb07": {
          "model_module": "@jupyter-widgets/controls",
          "model_name": "HTMLModel",
          "model_module_version": "1.5.0",
          "state": {
            "_dom_classes": [],
            "_model_module": "@jupyter-widgets/controls",
            "_model_module_version": "1.5.0",
            "_model_name": "HTMLModel",
            "_view_count": null,
            "_view_module": "@jupyter-widgets/controls",
            "_view_module_version": "1.5.0",
            "_view_name": "HTMLView",
            "description": "",
            "description_tooltip": null,
            "layout": "IPY_MODEL_295d7f908d214d7784a6b4d735bc3c5b",
            "placeholder": "​",
            "style": "IPY_MODEL_42c3d15d6d324346a92b13dd94b7ec1e",
            "value": " 28.0/28.0 [00:00&lt;00:00, 1.35kB/s]"
          }
        },
        "045bbd2ecfef41f8945e5fa56a4b5c29": {
          "model_module": "@jupyter-widgets/base",
          "model_name": "LayoutModel",
          "model_module_version": "1.2.0",
          "state": {
            "_model_module": "@jupyter-widgets/base",
            "_model_module_version": "1.2.0",
            "_model_name": "LayoutModel",
            "_view_count": null,
            "_view_module": "@jupyter-widgets/base",
            "_view_module_version": "1.2.0",
            "_view_name": "LayoutView",
            "align_content": null,
            "align_items": null,
            "align_self": null,
            "border": null,
            "bottom": null,
            "display": null,
            "flex": null,
            "flex_flow": null,
            "grid_area": null,
            "grid_auto_columns": null,
            "grid_auto_flow": null,
            "grid_auto_rows": null,
            "grid_column": null,
            "grid_gap": null,
            "grid_row": null,
            "grid_template_areas": null,
            "grid_template_columns": null,
            "grid_template_rows": null,
            "height": null,
            "justify_content": null,
            "justify_items": null,
            "left": null,
            "margin": null,
            "max_height": null,
            "max_width": null,
            "min_height": null,
            "min_width": null,
            "object_fit": null,
            "object_position": null,
            "order": null,
            "overflow": null,
            "overflow_x": null,
            "overflow_y": null,
            "padding": null,
            "right": null,
            "top": null,
            "visibility": null,
            "width": null
          }
        },
        "d7f983f9c1ca44189f2c00326b7bdfa5": {
          "model_module": "@jupyter-widgets/base",
          "model_name": "LayoutModel",
          "model_module_version": "1.2.0",
          "state": {
            "_model_module": "@jupyter-widgets/base",
            "_model_module_version": "1.2.0",
            "_model_name": "LayoutModel",
            "_view_count": null,
            "_view_module": "@jupyter-widgets/base",
            "_view_module_version": "1.2.0",
            "_view_name": "LayoutView",
            "align_content": null,
            "align_items": null,
            "align_self": null,
            "border": null,
            "bottom": null,
            "display": null,
            "flex": null,
            "flex_flow": null,
            "grid_area": null,
            "grid_auto_columns": null,
            "grid_auto_flow": null,
            "grid_auto_rows": null,
            "grid_column": null,
            "grid_gap": null,
            "grid_row": null,
            "grid_template_areas": null,
            "grid_template_columns": null,
            "grid_template_rows": null,
            "height": null,
            "justify_content": null,
            "justify_items": null,
            "left": null,
            "margin": null,
            "max_height": null,
            "max_width": null,
            "min_height": null,
            "min_width": null,
            "object_fit": null,
            "object_position": null,
            "order": null,
            "overflow": null,
            "overflow_x": null,
            "overflow_y": null,
            "padding": null,
            "right": null,
            "top": null,
            "visibility": null,
            "width": null
          }
        },
        "dd4f915a5b0641249e35bdafc7e50e3a": {
          "model_module": "@jupyter-widgets/controls",
          "model_name": "DescriptionStyleModel",
          "model_module_version": "1.5.0",
          "state": {
            "_model_module": "@jupyter-widgets/controls",
            "_model_module_version": "1.5.0",
            "_model_name": "DescriptionStyleModel",
            "_view_count": null,
            "_view_module": "@jupyter-widgets/base",
            "_view_module_version": "1.2.0",
            "_view_name": "StyleView",
            "description_width": ""
          }
        },
        "9e024e64b3fa42c0a4a778df4945203c": {
          "model_module": "@jupyter-widgets/base",
          "model_name": "LayoutModel",
          "model_module_version": "1.2.0",
          "state": {
            "_model_module": "@jupyter-widgets/base",
            "_model_module_version": "1.2.0",
            "_model_name": "LayoutModel",
            "_view_count": null,
            "_view_module": "@jupyter-widgets/base",
            "_view_module_version": "1.2.0",
            "_view_name": "LayoutView",
            "align_content": null,
            "align_items": null,
            "align_self": null,
            "border": null,
            "bottom": null,
            "display": null,
            "flex": null,
            "flex_flow": null,
            "grid_area": null,
            "grid_auto_columns": null,
            "grid_auto_flow": null,
            "grid_auto_rows": null,
            "grid_column": null,
            "grid_gap": null,
            "grid_row": null,
            "grid_template_areas": null,
            "grid_template_columns": null,
            "grid_template_rows": null,
            "height": null,
            "justify_content": null,
            "justify_items": null,
            "left": null,
            "margin": null,
            "max_height": null,
            "max_width": null,
            "min_height": null,
            "min_width": null,
            "object_fit": null,
            "object_position": null,
            "order": null,
            "overflow": null,
            "overflow_x": null,
            "overflow_y": null,
            "padding": null,
            "right": null,
            "top": null,
            "visibility": null,
            "width": null
          }
        },
        "9cebcbfbed7441a59a06c5a2c7f4a160": {
          "model_module": "@jupyter-widgets/controls",
          "model_name": "ProgressStyleModel",
          "model_module_version": "1.5.0",
          "state": {
            "_model_module": "@jupyter-widgets/controls",
            "_model_module_version": "1.5.0",
            "_model_name": "ProgressStyleModel",
            "_view_count": null,
            "_view_module": "@jupyter-widgets/base",
            "_view_module_version": "1.2.0",
            "_view_name": "StyleView",
            "bar_color": null,
            "description_width": ""
          }
        },
        "295d7f908d214d7784a6b4d735bc3c5b": {
          "model_module": "@jupyter-widgets/base",
          "model_name": "LayoutModel",
          "model_module_version": "1.2.0",
          "state": {
            "_model_module": "@jupyter-widgets/base",
            "_model_module_version": "1.2.0",
            "_model_name": "LayoutModel",
            "_view_count": null,
            "_view_module": "@jupyter-widgets/base",
            "_view_module_version": "1.2.0",
            "_view_name": "LayoutView",
            "align_content": null,
            "align_items": null,
            "align_self": null,
            "border": null,
            "bottom": null,
            "display": null,
            "flex": null,
            "flex_flow": null,
            "grid_area": null,
            "grid_auto_columns": null,
            "grid_auto_flow": null,
            "grid_auto_rows": null,
            "grid_column": null,
            "grid_gap": null,
            "grid_row": null,
            "grid_template_areas": null,
            "grid_template_columns": null,
            "grid_template_rows": null,
            "height": null,
            "justify_content": null,
            "justify_items": null,
            "left": null,
            "margin": null,
            "max_height": null,
            "max_width": null,
            "min_height": null,
            "min_width": null,
            "object_fit": null,
            "object_position": null,
            "order": null,
            "overflow": null,
            "overflow_x": null,
            "overflow_y": null,
            "padding": null,
            "right": null,
            "top": null,
            "visibility": null,
            "width": null
          }
        },
        "42c3d15d6d324346a92b13dd94b7ec1e": {
          "model_module": "@jupyter-widgets/controls",
          "model_name": "DescriptionStyleModel",
          "model_module_version": "1.5.0",
          "state": {
            "_model_module": "@jupyter-widgets/controls",
            "_model_module_version": "1.5.0",
            "_model_name": "DescriptionStyleModel",
            "_view_count": null,
            "_view_module": "@jupyter-widgets/base",
            "_view_module_version": "1.2.0",
            "_view_name": "StyleView",
            "description_width": ""
          }
        }
      }
    }
  },
  "cells": [
    {
      "cell_type": "markdown",
      "source": [
        "# Hugging Face Transformers"
      ],
      "metadata": {
        "id": "Cn2MT9Y7l92P"
      }
    },
    {
      "cell_type": "markdown",
      "source": [
        "Hugging Face is an organization that is on a path to solve and democratize AI through natural language. Their open-source library 'transformers' is very popular among the NLP community. It is very useful and powerful for several NLP and NLU tasks. It includes thousands of pre-trained models in about 100+ languages. One of the many advantages of the transformer library is that it is compatible with both PyTorch and TensorFlow."
      ],
      "metadata": {
        "id": "Ru4WBJuJmCne"
      }
    },
    {
      "cell_type": "code",
      "execution_count": 1,
      "metadata": {
        "colab": {
          "base_uri": "https://localhost:8080/"
        },
        "id": "Mk8ctAUBl4yH",
        "outputId": "6885f2d5-b1f1-4198-bfde-13b461c05882"
      },
      "outputs": [
        {
          "output_type": "stream",
          "name": "stdout",
          "text": [
            "Looking in indexes: https://pypi.org/simple, https://us-python.pkg.dev/colab-wheels/public/simple/\n",
            "Collecting transformers\n",
            "  Downloading transformers-4.26.1-py3-none-any.whl (6.3 MB)\n",
            "\u001b[2K     \u001b[90m━━━━━━━━━━━━━━━━━━━━━━━━━━━━━━━━━━━━━━━━\u001b[0m \u001b[32m6.3/6.3 MB\u001b[0m \u001b[31m53.5 MB/s\u001b[0m eta \u001b[36m0:00:00\u001b[0m\n",
            "\u001b[?25hCollecting tokenizers!=0.11.3,<0.14,>=0.11.1\n",
            "  Downloading tokenizers-0.13.2-cp38-cp38-manylinux_2_17_x86_64.manylinux2014_x86_64.whl (7.6 MB)\n",
            "\u001b[2K     \u001b[90m━━━━━━━━━━━━━━━━━━━━━━━━━━━━━━━━━━━━━━━━\u001b[0m \u001b[32m7.6/7.6 MB\u001b[0m \u001b[31m69.5 MB/s\u001b[0m eta \u001b[36m0:00:00\u001b[0m\n",
            "\u001b[?25hCollecting huggingface-hub<1.0,>=0.11.0\n",
            "  Downloading huggingface_hub-0.12.0-py3-none-any.whl (190 kB)\n",
            "\u001b[2K     \u001b[90m━━━━━━━━━━━━━━━━━━━━━━━━━━━━━━━━━━━━━━\u001b[0m \u001b[32m190.3/190.3 KB\u001b[0m \u001b[31m13.6 MB/s\u001b[0m eta \u001b[36m0:00:00\u001b[0m\n",
            "\u001b[?25hRequirement already satisfied: requests in /usr/local/lib/python3.8/dist-packages (from transformers) (2.25.1)\n",
            "Requirement already satisfied: tqdm>=4.27 in /usr/local/lib/python3.8/dist-packages (from transformers) (4.64.1)\n",
            "Requirement already satisfied: numpy>=1.17 in /usr/local/lib/python3.8/dist-packages (from transformers) (1.21.6)\n",
            "Requirement already satisfied: filelock in /usr/local/lib/python3.8/dist-packages (from transformers) (3.9.0)\n",
            "Requirement already satisfied: packaging>=20.0 in /usr/local/lib/python3.8/dist-packages (from transformers) (23.0)\n",
            "Requirement already satisfied: regex!=2019.12.17 in /usr/local/lib/python3.8/dist-packages (from transformers) (2022.6.2)\n",
            "Requirement already satisfied: pyyaml>=5.1 in /usr/local/lib/python3.8/dist-packages (from transformers) (6.0)\n",
            "Requirement already satisfied: typing-extensions>=3.7.4.3 in /usr/local/lib/python3.8/dist-packages (from huggingface-hub<1.0,>=0.11.0->transformers) (4.4.0)\n",
            "Requirement already satisfied: chardet<5,>=3.0.2 in /usr/local/lib/python3.8/dist-packages (from requests->transformers) (4.0.0)\n",
            "Requirement already satisfied: urllib3<1.27,>=1.21.1 in /usr/local/lib/python3.8/dist-packages (from requests->transformers) (1.24.3)\n",
            "Requirement already satisfied: certifi>=2017.4.17 in /usr/local/lib/python3.8/dist-packages (from requests->transformers) (2022.12.7)\n",
            "Requirement already satisfied: idna<3,>=2.5 in /usr/local/lib/python3.8/dist-packages (from requests->transformers) (2.10)\n",
            "Installing collected packages: tokenizers, huggingface-hub, transformers\n",
            "Successfully installed huggingface-hub-0.12.0 tokenizers-0.13.2 transformers-4.26.1\n"
          ]
        }
      ],
      "source": [
        "!pip install transformers"
      ]
    },
    {
      "cell_type": "markdown",
      "source": [
        "# Generating BERT embedding"
      ],
      "metadata": {
        "id": "C6WMpZFPmT0w"
      }
    },
    {
      "cell_type": "markdown",
      "source": [
        "In this section, we will learn how to extract embeddings from the pre-trained BERT. \n",
        "\n",
        "Consider the sentence 'I love Paris'. Let's see how to obtain the contextualized word embedding of all the words in the sentence using the pre-trained BERT model with Hugging Face's transformer library.\n",
        "\n",
        "First, let's import the necessary modules:"
      ],
      "metadata": {
        "id": "0hrb1-wymYns"
      }
    },
    {
      "cell_type": "code",
      "source": [
        "from transformers import BertModel, BertTokenizer\n",
        "import torch"
      ],
      "metadata": {
        "id": "U860XX2hmIUc"
      },
      "execution_count": 2,
      "outputs": []
    },
    {
      "cell_type": "markdown",
      "source": [
        "Next, we download the pre-trained BERT model. We can check all the available pre-trained BERT models here: \n",
        "- https://huggingface.co/transformers/pre-trained_models.html.\n",
        "\n",
        "We use the 'bert-base-uncased' model. As the name suggests, it is the BERT-base model with 12 encoders and it is trained with uncased tokens. Since we are using the BERT-base, the representation size will be 768."
      ],
      "metadata": {
        "id": "38ZBGW9jsbNn"
      }
    },
    {
      "cell_type": "markdown",
      "source": [
        "Download and load the pre-trained bert-base-uncased model:"
      ],
      "metadata": {
        "id": "Z8tptiLbslxM"
      }
    },
    {
      "cell_type": "code",
      "source": [
        "model = BertModel.from_pretrained('bert-base-uncased')"
      ],
      "metadata": {
        "id": "12I4Fe1IsV9h",
        "colab": {
          "base_uri": "https://localhost:8080/",
          "height": 212,
          "referenced_widgets": [
            "bfcc1aa48b1446d3b212afa4a51f6d7c",
            "f790f3b570964acfb0c4d3eca08e7c24",
            "12de2465404c4516a7ed585ca9611410",
            "8f88f67bd1c041d391331003b380375c",
            "1f4fd6c193ae4aba88d12bb43d5afef7",
            "d083f822d9b749548327186fa9d265e6",
            "e2711a4fe02445248ffa140f106a6b3a",
            "35623b5a70384807bd4796daef8a90c0",
            "1efe0655822e422db12b31e5af3aa106",
            "848180c8ad6e4415927a4dbfe55aeb46",
            "f714471f29504fbf9f03d40f2533e6b8",
            "420cc399e006422a80ab7b53cbcf1ab1",
            "22f6f6e5513549048fc55375483f4f08",
            "58ef0688f5894a1ba6cc0d4142a17bff",
            "7ef65b585e2748c6b595cb1bbc95fcd3",
            "76dda82db2ac487a9e45727bc6359d4c",
            "481d408c922948729daa5cd9fc019957",
            "f18548e18dab460eb00c02ca98bc9d31",
            "c0a786d837fe4755bfc7d014d6d560bb",
            "298c6855736741e6b7e09027e24c8ce9",
            "d89b6e061ad34493ba43978552257748",
            "1b43a89e341e4bed84ce835ed54f1670"
          ]
        },
        "outputId": "e9746f8a-9cf5-48be-88ef-efb3000fddb9"
      },
      "execution_count": 3,
      "outputs": [
        {
          "output_type": "display_data",
          "data": {
            "text/plain": [
              "Downloading (…)lve/main/config.json:   0%|          | 0.00/570 [00:00<?, ?B/s]"
            ],
            "application/vnd.jupyter.widget-view+json": {
              "version_major": 2,
              "version_minor": 0,
              "model_id": "bfcc1aa48b1446d3b212afa4a51f6d7c"
            }
          },
          "metadata": {}
        },
        {
          "output_type": "display_data",
          "data": {
            "text/plain": [
              "Downloading (…)\"pytorch_model.bin\";:   0%|          | 0.00/440M [00:00<?, ?B/s]"
            ],
            "application/vnd.jupyter.widget-view+json": {
              "version_major": 2,
              "version_minor": 0,
              "model_id": "420cc399e006422a80ab7b53cbcf1ab1"
            }
          },
          "metadata": {}
        },
        {
          "output_type": "stream",
          "name": "stderr",
          "text": [
            "Some weights of the model checkpoint at bert-base-uncased were not used when initializing BertModel: ['cls.predictions.decoder.weight', 'cls.predictions.bias', 'cls.seq_relationship.bias', 'cls.predictions.transform.dense.weight', 'cls.predictions.transform.LayerNorm.bias', 'cls.predictions.transform.dense.bias', 'cls.seq_relationship.weight', 'cls.predictions.transform.LayerNorm.weight']\n",
            "- This IS expected if you are initializing BertModel from the checkpoint of a model trained on another task or with another architecture (e.g. initializing a BertForSequenceClassification model from a BertForPreTraining model).\n",
            "- This IS NOT expected if you are initializing BertModel from the checkpoint of a model that you expect to be exactly identical (initializing a BertForSequenceClassification model from a BertForSequenceClassification model).\n"
          ]
        }
      ]
    },
    {
      "cell_type": "markdown",
      "source": [
        "Next, we download and load the tokenizer which is used for pretraining the bert-base-uncased model:"
      ],
      "metadata": {
        "id": "xQ2dyiU9sr29"
      }
    },
    {
      "cell_type": "code",
      "source": [
        "tokenizer = BertTokenizer.from_pretrained('bert-base-uncased')"
      ],
      "metadata": {
        "id": "16qnE1MqmIWh",
        "colab": {
          "base_uri": "https://localhost:8080/",
          "height": 137,
          "referenced_widgets": [
            "83dd704e697a41c687c7a0ffd33354a1",
            "a632978165494f889cb6ab184132501e",
            "3ebcbf5812be400ca7d0950c160081f9",
            "49da7e59a8a149d58edd5b50d63935ac",
            "43ba21d90c834c498526ec741b14dceb",
            "3b209d01bcfb4c1da4d5ad05d420de6c",
            "d2d553bfc02f449e8b333d6125434938",
            "f92f1d400a4145b7aa96e9e7f346c636",
            "9d2760b46f8f49f8ac9cc5c73fcc7052",
            "29bd8cfa8a464986a1f6844808f68737",
            "48c569547e874060b109ab2c873c8db5",
            "a1e30cc2e4364ee688b3e089e724b24e",
            "efb0b6365c4547fb8df15631bf37b0dc",
            "3548fcde268f446caa6e5bb76f241bfb",
            "0ca9c538f3cd41c0be4d7f32e4a4fb07",
            "045bbd2ecfef41f8945e5fa56a4b5c29",
            "d7f983f9c1ca44189f2c00326b7bdfa5",
            "dd4f915a5b0641249e35bdafc7e50e3a",
            "9e024e64b3fa42c0a4a778df4945203c",
            "9cebcbfbed7441a59a06c5a2c7f4a160",
            "295d7f908d214d7784a6b4d735bc3c5b",
            "42c3d15d6d324346a92b13dd94b7ec1e"
          ]
        },
        "outputId": "be1c7bc1-35a0-4c7a-fa16-fee2cd680bd2"
      },
      "execution_count": 4,
      "outputs": [
        {
          "output_type": "display_data",
          "data": {
            "text/plain": [
              "Downloading (…)solve/main/vocab.txt:   0%|          | 0.00/232k [00:00<?, ?B/s]"
            ],
            "application/vnd.jupyter.widget-view+json": {
              "version_major": 2,
              "version_minor": 0,
              "model_id": "83dd704e697a41c687c7a0ffd33354a1"
            }
          },
          "metadata": {}
        },
        {
          "output_type": "display_data",
          "data": {
            "text/plain": [
              "Downloading (…)okenizer_config.json:   0%|          | 0.00/28.0 [00:00<?, ?B/s]"
            ],
            "application/vnd.jupyter.widget-view+json": {
              "version_major": 2,
              "version_minor": 0,
              "model_id": "a1e30cc2e4364ee688b3e089e724b24e"
            }
          },
          "metadata": {}
        }
      ]
    },
    {
      "cell_type": "markdown",
      "source": [
        "Now, let's see how to preprocess the input before feeding it to the BERT."
      ],
      "metadata": {
        "id": "XsXyt7KdsxCI"
      }
    },
    {
      "cell_type": "markdown",
      "source": [
        "#Preprocessing the input"
      ],
      "metadata": {
        "id": "WmV3wsOGszvj"
      }
    },
    {
      "cell_type": "markdown",
      "source": [
        "Define the sentence:"
      ],
      "metadata": {
        "id": "5N1RG2q5s1-1"
      }
    },
    {
      "cell_type": "code",
      "source": [
        "sentence = 'I love Paris'"
      ],
      "metadata": {
        "id": "8drrfjE1mIZE"
      },
      "execution_count": 5,
      "outputs": []
    },
    {
      "cell_type": "markdown",
      "source": [
        "Tokenize the sentence and obtain the tokens:"
      ],
      "metadata": {
        "id": "OxDrF4RLs917"
      }
    },
    {
      "cell_type": "code",
      "source": [
        "tokens = tokenizer.tokenize(sentence)"
      ],
      "metadata": {
        "id": "i3mroeHas7lI"
      },
      "execution_count": 6,
      "outputs": []
    },
    {
      "cell_type": "markdown",
      "source": [
        "Let's print the tokens:"
      ],
      "metadata": {
        "id": "r-NLRSDqtGFN"
      }
    },
    {
      "cell_type": "code",
      "source": [
        "print(tokens)"
      ],
      "metadata": {
        "id": "PHrwaARcs7nY",
        "colab": {
          "base_uri": "https://localhost:8080/"
        },
        "outputId": "87c0d843-48c1-41e8-e445-438e685ea82f"
      },
      "execution_count": 7,
      "outputs": [
        {
          "output_type": "stream",
          "name": "stdout",
          "text": [
            "['i', 'love', 'paris']\n"
          ]
        }
      ]
    },
    {
      "cell_type": "markdown",
      "source": [
        "Now, we will add the `[CLS]` token at the beginning and `[SEP]` token at the end of the tokens list:"
      ],
      "metadata": {
        "id": "aPp4h6SDtKKe"
      }
    },
    {
      "cell_type": "code",
      "source": [
        "tokens = ['[CLS]'] + tokens + ['[SEP]']"
      ],
      "metadata": {
        "id": "8YxGtZx9s7pu"
      },
      "execution_count": 8,
      "outputs": []
    },
    {
      "cell_type": "code",
      "source": [
        "print(tokens)"
      ],
      "metadata": {
        "id": "BMGwaeTxs7sF",
        "colab": {
          "base_uri": "https://localhost:8080/"
        },
        "outputId": "61a2af68-233d-4048-a6ce-0ddb35821d41"
      },
      "execution_count": 9,
      "outputs": [
        {
          "output_type": "stream",
          "name": "stdout",
          "text": [
            "['[CLS]', 'i', 'love', 'paris', '[SEP]']\n"
          ]
        }
      ]
    },
    {
      "cell_type": "markdown",
      "source": [
        "As we can observe, we have [CLS] token at the beginning and sep token at the end of our tokens list. We can also observe that length of our tokens is 5.\n",
        "\n",
        "Say, we need to keep the length of our tokens list to 7, then, in that case, we will add two [PAD] tokens at the end as shown in the following:"
      ],
      "metadata": {
        "id": "HEZBBmnntf-N"
      }
    },
    {
      "cell_type": "code",
      "source": [
        "tokens = tokens + ['[PAD]'] + ['[PAD]'] "
      ],
      "metadata": {
        "id": "1KCXMYAFs7uG"
      },
      "execution_count": 10,
      "outputs": []
    },
    {
      "cell_type": "code",
      "source": [
        "print(tokens)"
      ],
      "metadata": {
        "id": "Y5vf0ZsptiyS",
        "colab": {
          "base_uri": "https://localhost:8080/"
        },
        "outputId": "91eb0ebf-01ef-4688-a8f6-dcb26e3b444f"
      },
      "execution_count": 11,
      "outputs": [
        {
          "output_type": "stream",
          "name": "stdout",
          "text": [
            "['[CLS]', 'i', 'love', 'paris', '[SEP]', '[PAD]', '[PAD]']\n"
          ]
        }
      ]
    },
    {
      "cell_type": "markdown",
      "source": [
        "Next, we create the attention mask. We set the attention mask value to 1 if the token is not a [PAD] token else we will set the attention mask to 0 as shown below:"
      ],
      "metadata": {
        "id": "lq26h4cMt6RT"
      }
    },
    {
      "cell_type": "code",
      "source": [
        "attention_mask = [1 if i!= '[PAD]' else 0 for i in tokens]"
      ],
      "metadata": {
        "id": "2nwrRh63ti0l"
      },
      "execution_count": 12,
      "outputs": []
    },
    {
      "cell_type": "code",
      "source": [
        "print(attention_mask)"
      ],
      "metadata": {
        "id": "eARnxjCati4w",
        "colab": {
          "base_uri": "https://localhost:8080/"
        },
        "outputId": "efd204c6-0b0c-4941-d898-fb3f5a03138d"
      },
      "execution_count": 13,
      "outputs": [
        {
          "output_type": "stream",
          "name": "stdout",
          "text": [
            "[1, 1, 1, 1, 1, 0, 0]\n"
          ]
        }
      ]
    },
    {
      "cell_type": "markdown",
      "source": [
        "As we can observe, we have attention mask values 0 at the position where have [PAD] token and 1 at other positions.\n",
        "\n",
        "Next, we convert all the tokens to their token_ids as shown below:"
      ],
      "metadata": {
        "id": "I9j1CpOVvHtV"
      }
    },
    {
      "cell_type": "code",
      "source": [
        "token_ids = tokenizer.convert_tokens_to_ids(tokens)"
      ],
      "metadata": {
        "id": "mV_Yr7rOs7xN"
      },
      "execution_count": 14,
      "outputs": []
    },
    {
      "cell_type": "code",
      "source": [
        "print(token_ids)"
      ],
      "metadata": {
        "id": "voyDODVWvLoY",
        "colab": {
          "base_uri": "https://localhost:8080/"
        },
        "outputId": "22a5d969-37a3-4266-9350-ae3967014be8"
      },
      "execution_count": 15,
      "outputs": [
        {
          "output_type": "stream",
          "name": "stdout",
          "text": [
            "[101, 1045, 2293, 3000, 102, 0, 0]\n"
          ]
        }
      ]
    },
    {
      "cell_type": "markdown",
      "source": [
        "From the above output, we can observe that each token is mapped to a unique token id.\n",
        "\n",
        "**Now, we convert the token_ids and attention_mask to tensors as shown below:**"
      ],
      "metadata": {
        "id": "K-5V4ITYvV6D"
      }
    },
    {
      "cell_type": "code",
      "source": [
        "print(token_ids)"
      ],
      "metadata": {
        "id": "Y5u8rDYLvux_",
        "colab": {
          "base_uri": "https://localhost:8080/"
        },
        "outputId": "5aa7f244-7ad5-4634-de2f-dc5b9d488e2c"
      },
      "execution_count": 16,
      "outputs": [
        {
          "output_type": "stream",
          "name": "stdout",
          "text": [
            "[101, 1045, 2293, 3000, 102, 0, 0]\n"
          ]
        }
      ]
    },
    {
      "cell_type": "code",
      "source": [
        "print(attention_mask)"
      ],
      "metadata": {
        "id": "UriMuNkYvxpA",
        "colab": {
          "base_uri": "https://localhost:8080/"
        },
        "outputId": "8b7efdb1-7e10-44e3-af95-374c130b5f48"
      },
      "execution_count": 17,
      "outputs": [
        {
          "output_type": "stream",
          "name": "stdout",
          "text": [
            "[1, 1, 1, 1, 1, 0, 0]\n"
          ]
        }
      ]
    },
    {
      "cell_type": "code",
      "source": [
        "token_ids = torch.tensor(token_ids).unsqueeze(0)\n",
        "attention_mask = torch.tensor(attention_mask).unsqueeze(0)"
      ],
      "metadata": {
        "id": "Nn3Hke0YvLtE"
      },
      "execution_count": 18,
      "outputs": []
    },
    {
      "cell_type": "markdown",
      "source": [
        "That's it. Next, we feed the token_ids and attention_mask to the pre-trained BERT model and get the embedding."
      ],
      "metadata": {
        "id": "6K9VT3lQvsAr"
      }
    },
    {
      "cell_type": "markdown",
      "source": [
        "# Getting the embedding"
      ],
      "metadata": {
        "id": "GABfj70Rv3aT"
      }
    },
    {
      "cell_type": "markdown",
      "source": [
        "As shown in the following code, we feed the `token_ids` and `attention_mask` to the model and get the embeddings.\n",
        "\n",
        "Note that the model returns the output as a tuple with two values. \n",
        "- The first value indicates the hidden state representation, hidden_rep and it consists of the representation of all the tokens obtained from the final encoder (encoder 12), and\n",
        "- The second value, cls_head consists of the representation of the `[CLS]` token"
      ],
      "metadata": {
        "id": "n3xRupcdv5lh"
      }
    },
    {
      "cell_type": "code",
      "source": [
        "hidden_rep, cls_head = model(token_ids, attention_mask = attention_mask)"
      ],
      "metadata": {
        "id": "BwjeYtSOvcjc"
      },
      "execution_count": 30,
      "outputs": []
    },
    {
      "cell_type": "markdown",
      "source": [
        "In the preceding code, hidden_rep contains the embedding(representation) of all the tokens in our input. Let's print the shape of hidden_rep tensor:"
      ],
      "metadata": {
        "id": "S_sR_NGYwako"
      }
    },
    {
      "cell_type": "code",
      "source": [
        "hidden_rep"
      ],
      "metadata": {
        "id": "ka9QJVh1vclg",
        "colab": {
          "base_uri": "https://localhost:8080/",
          "height": 36
        },
        "outputId": "3c2333cf-d62a-4bfc-b1e6-0f0de6657deb"
      },
      "execution_count": 31,
      "outputs": [
        {
          "output_type": "execute_result",
          "data": {
            "text/plain": [
              "'last_hidden_state'"
            ],
            "application/vnd.google.colaboratory.intrinsic+json": {
              "type": "string"
            }
          },
          "metadata": {},
          "execution_count": 31
        }
      ]
    },
    {
      "cell_type": "code",
      "source": [
        "print(hidden_rep)"
      ],
      "metadata": {
        "id": "_oPCZBkUw0mF",
        "colab": {
          "base_uri": "https://localhost:8080/"
        },
        "outputId": "f810e935-b8de-4339-e52a-4410b330cb8f"
      },
      "execution_count": 32,
      "outputs": [
        {
          "output_type": "stream",
          "name": "stdout",
          "text": [
            "last_hidden_state\n"
          ]
        }
      ]
    },
    {
      "cell_type": "markdown",
      "source": [
        "![image.png](data:image/png;base64,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)"
      ],
      "metadata": {
        "id": "Bby0ry58yO8B"
      }
    },
    {
      "cell_type": "markdown",
      "source": [
        "The size [1,7,768] indicates the[batch_size, sequence_length, hidden_size].\n",
        "\n",
        "Our batch size is 1, the sequence length is the token length, since we have 7 tokens, the sequence length is 7, and the hidden size is the representation (embedding) size and it is 768 for the BERT-base model.\n",
        "\n",
        "We can obtain the representation of each token as:\n",
        "\n",
        "- hidden_rep[0][0] gives the representation of the first token which is [CLS]\n",
        "- hidden_rep[0][1] gives the representation of the second token which is 'I'\n",
        "- hidden_rep[0][2] gives the representation of the third token which is 'love'\n",
        "\n",
        "In this way, we can obtain the contextual representation of all the tokens. This is basically the contextualized word embeddings of all the words in the given sentence.\n",
        "\n",
        "Now, let's take a look at the cls_head. It contains the representation of the `[CLS]` token. Let's print the shape of cls_head :"
      ],
      "metadata": {
        "id": "PHQcfcr_yeK3"
      }
    },
    {
      "cell_type": "markdown",
      "source": [
        "![image.png](data:image/png;base64,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)"
      ],
      "metadata": {
        "id": "gyWAvvM0yzzE"
      }
    },
    {
      "cell_type": "markdown",
      "source": [
        "The above code will print:\n",
        "\n",
        "- torch.Size([1, 768])\n",
        "\n",
        "- The size [1,768] indicates the[batch_size, hidden_size].\n",
        "\n",
        "**We learned that `cls_head` holds the aggregate representation of the sentence, so we can use the `cls_head` as the representation of the given sentence 'I love Paris'.**\n",
        "\n",
        "We learned how to extract embeddings from the pre-trained BERT. But these are the embeddings obtained only from the topmost encoder layer of BERT which is encoder 12. Can we also extract the embeddings from all the encoder layers of BERT? Yes! We will find out how to do that in the next section."
      ],
      "metadata": {
        "id": "J6FS1Grny1ja"
      }
    },
    {
      "cell_type": "markdown",
      "source": [
        "Sources: https://github.com/PacktPublishing/Getting-Started-with-Google-BERT"
      ],
      "metadata": {
        "id": "R1hNT3cqmD7b"
      }
    }
  ]
}