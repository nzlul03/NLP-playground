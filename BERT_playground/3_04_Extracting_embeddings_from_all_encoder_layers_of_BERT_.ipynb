{
  "nbformat": 4,
  "nbformat_minor": 0,
  "metadata": {
    "colab": {
      "provenance": [],
      "authorship_tag": "ABX9TyNLPAGpxX6NNn6lmdAG+a7v"
    },
    "kernelspec": {
      "name": "python3",
      "display_name": "Python 3"
    },
    "language_info": {
      "name": "python"
    },
    "widgets": {
      "application/vnd.jupyter.widget-state+json": {
        "708e72023ab74d5aa68d5128339de1fa": {
          "model_module": "@jupyter-widgets/controls",
          "model_name": "HBoxModel",
          "model_module_version": "1.5.0",
          "state": {
            "_dom_classes": [],
            "_model_module": "@jupyter-widgets/controls",
            "_model_module_version": "1.5.0",
            "_model_name": "HBoxModel",
            "_view_count": null,
            "_view_module": "@jupyter-widgets/controls",
            "_view_module_version": "1.5.0",
            "_view_name": "HBoxView",
            "box_style": "",
            "children": [
              "IPY_MODEL_f5768068d305419bbc95964cee88e7c8",
              "IPY_MODEL_d40303cee0d84ecd85ef694c6754433a",
              "IPY_MODEL_673207b458e341c0bdc58c3fd5b72ea8"
            ],
            "layout": "IPY_MODEL_8d481ca3ac0f42cc89d869514616c82c"
          }
        },
        "f5768068d305419bbc95964cee88e7c8": {
          "model_module": "@jupyter-widgets/controls",
          "model_name": "HTMLModel",
          "model_module_version": "1.5.0",
          "state": {
            "_dom_classes": [],
            "_model_module": "@jupyter-widgets/controls",
            "_model_module_version": "1.5.0",
            "_model_name": "HTMLModel",
            "_view_count": null,
            "_view_module": "@jupyter-widgets/controls",
            "_view_module_version": "1.5.0",
            "_view_name": "HTMLView",
            "description": "",
            "description_tooltip": null,
            "layout": "IPY_MODEL_1d0f3fd648244d45967b1fa1cc5c838d",
            "placeholder": "​",
            "style": "IPY_MODEL_191a470a4e7c4a1c893e4b7e8f0d5664",
            "value": "Downloading (…)lve/main/config.json: 100%"
          }
        },
        "d40303cee0d84ecd85ef694c6754433a": {
          "model_module": "@jupyter-widgets/controls",
          "model_name": "FloatProgressModel",
          "model_module_version": "1.5.0",
          "state": {
            "_dom_classes": [],
            "_model_module": "@jupyter-widgets/controls",
            "_model_module_version": "1.5.0",
            "_model_name": "FloatProgressModel",
            "_view_count": null,
            "_view_module": "@jupyter-widgets/controls",
            "_view_module_version": "1.5.0",
            "_view_name": "ProgressView",
            "bar_style": "success",
            "description": "",
            "description_tooltip": null,
            "layout": "IPY_MODEL_59db9ee194f54b1fb156136112c5a3d3",
            "max": 570,
            "min": 0,
            "orientation": "horizontal",
            "style": "IPY_MODEL_d93210d537db401b8859e0e0e0b31904",
            "value": 570
          }
        },
        "673207b458e341c0bdc58c3fd5b72ea8": {
          "model_module": "@jupyter-widgets/controls",
          "model_name": "HTMLModel",
          "model_module_version": "1.5.0",
          "state": {
            "_dom_classes": [],
            "_model_module": "@jupyter-widgets/controls",
            "_model_module_version": "1.5.0",
            "_model_name": "HTMLModel",
            "_view_count": null,
            "_view_module": "@jupyter-widgets/controls",
            "_view_module_version": "1.5.0",
            "_view_name": "HTMLView",
            "description": "",
            "description_tooltip": null,
            "layout": "IPY_MODEL_40dc702476584cf4b9d7f55a5eb592bc",
            "placeholder": "​",
            "style": "IPY_MODEL_f6998eaa78574a7b970e8b5502bf33f5",
            "value": " 570/570 [00:00&lt;00:00, 7.19kB/s]"
          }
        },
        "8d481ca3ac0f42cc89d869514616c82c": {
          "model_module": "@jupyter-widgets/base",
          "model_name": "LayoutModel",
          "model_module_version": "1.2.0",
          "state": {
            "_model_module": "@jupyter-widgets/base",
            "_model_module_version": "1.2.0",
            "_model_name": "LayoutModel",
            "_view_count": null,
            "_view_module": "@jupyter-widgets/base",
            "_view_module_version": "1.2.0",
            "_view_name": "LayoutView",
            "align_content": null,
            "align_items": null,
            "align_self": null,
            "border": null,
            "bottom": null,
            "display": null,
            "flex": null,
            "flex_flow": null,
            "grid_area": null,
            "grid_auto_columns": null,
            "grid_auto_flow": null,
            "grid_auto_rows": null,
            "grid_column": null,
            "grid_gap": null,
            "grid_row": null,
            "grid_template_areas": null,
            "grid_template_columns": null,
            "grid_template_rows": null,
            "height": null,
            "justify_content": null,
            "justify_items": null,
            "left": null,
            "margin": null,
            "max_height": null,
            "max_width": null,
            "min_height": null,
            "min_width": null,
            "object_fit": null,
            "object_position": null,
            "order": null,
            "overflow": null,
            "overflow_x": null,
            "overflow_y": null,
            "padding": null,
            "right": null,
            "top": null,
            "visibility": null,
            "width": null
          }
        },
        "1d0f3fd648244d45967b1fa1cc5c838d": {
          "model_module": "@jupyter-widgets/base",
          "model_name": "LayoutModel",
          "model_module_version": "1.2.0",
          "state": {
            "_model_module": "@jupyter-widgets/base",
            "_model_module_version": "1.2.0",
            "_model_name": "LayoutModel",
            "_view_count": null,
            "_view_module": "@jupyter-widgets/base",
            "_view_module_version": "1.2.0",
            "_view_name": "LayoutView",
            "align_content": null,
            "align_items": null,
            "align_self": null,
            "border": null,
            "bottom": null,
            "display": null,
            "flex": null,
            "flex_flow": null,
            "grid_area": null,
            "grid_auto_columns": null,
            "grid_auto_flow": null,
            "grid_auto_rows": null,
            "grid_column": null,
            "grid_gap": null,
            "grid_row": null,
            "grid_template_areas": null,
            "grid_template_columns": null,
            "grid_template_rows": null,
            "height": null,
            "justify_content": null,
            "justify_items": null,
            "left": null,
            "margin": null,
            "max_height": null,
            "max_width": null,
            "min_height": null,
            "min_width": null,
            "object_fit": null,
            "object_position": null,
            "order": null,
            "overflow": null,
            "overflow_x": null,
            "overflow_y": null,
            "padding": null,
            "right": null,
            "top": null,
            "visibility": null,
            "width": null
          }
        },
        "191a470a4e7c4a1c893e4b7e8f0d5664": {
          "model_module": "@jupyter-widgets/controls",
          "model_name": "DescriptionStyleModel",
          "model_module_version": "1.5.0",
          "state": {
            "_model_module": "@jupyter-widgets/controls",
            "_model_module_version": "1.5.0",
            "_model_name": "DescriptionStyleModel",
            "_view_count": null,
            "_view_module": "@jupyter-widgets/base",
            "_view_module_version": "1.2.0",
            "_view_name": "StyleView",
            "description_width": ""
          }
        },
        "59db9ee194f54b1fb156136112c5a3d3": {
          "model_module": "@jupyter-widgets/base",
          "model_name": "LayoutModel",
          "model_module_version": "1.2.0",
          "state": {
            "_model_module": "@jupyter-widgets/base",
            "_model_module_version": "1.2.0",
            "_model_name": "LayoutModel",
            "_view_count": null,
            "_view_module": "@jupyter-widgets/base",
            "_view_module_version": "1.2.0",
            "_view_name": "LayoutView",
            "align_content": null,
            "align_items": null,
            "align_self": null,
            "border": null,
            "bottom": null,
            "display": null,
            "flex": null,
            "flex_flow": null,
            "grid_area": null,
            "grid_auto_columns": null,
            "grid_auto_flow": null,
            "grid_auto_rows": null,
            "grid_column": null,
            "grid_gap": null,
            "grid_row": null,
            "grid_template_areas": null,
            "grid_template_columns": null,
            "grid_template_rows": null,
            "height": null,
            "justify_content": null,
            "justify_items": null,
            "left": null,
            "margin": null,
            "max_height": null,
            "max_width": null,
            "min_height": null,
            "min_width": null,
            "object_fit": null,
            "object_position": null,
            "order": null,
            "overflow": null,
            "overflow_x": null,
            "overflow_y": null,
            "padding": null,
            "right": null,
            "top": null,
            "visibility": null,
            "width": null
          }
        },
        "d93210d537db401b8859e0e0e0b31904": {
          "model_module": "@jupyter-widgets/controls",
          "model_name": "ProgressStyleModel",
          "model_module_version": "1.5.0",
          "state": {
            "_model_module": "@jupyter-widgets/controls",
            "_model_module_version": "1.5.0",
            "_model_name": "ProgressStyleModel",
            "_view_count": null,
            "_view_module": "@jupyter-widgets/base",
            "_view_module_version": "1.2.0",
            "_view_name": "StyleView",
            "bar_color": null,
            "description_width": ""
          }
        },
        "40dc702476584cf4b9d7f55a5eb592bc": {
          "model_module": "@jupyter-widgets/base",
          "model_name": "LayoutModel",
          "model_module_version": "1.2.0",
          "state": {
            "_model_module": "@jupyter-widgets/base",
            "_model_module_version": "1.2.0",
            "_model_name": "LayoutModel",
            "_view_count": null,
            "_view_module": "@jupyter-widgets/base",
            "_view_module_version": "1.2.0",
            "_view_name": "LayoutView",
            "align_content": null,
            "align_items": null,
            "align_self": null,
            "border": null,
            "bottom": null,
            "display": null,
            "flex": null,
            "flex_flow": null,
            "grid_area": null,
            "grid_auto_columns": null,
            "grid_auto_flow": null,
            "grid_auto_rows": null,
            "grid_column": null,
            "grid_gap": null,
            "grid_row": null,
            "grid_template_areas": null,
            "grid_template_columns": null,
            "grid_template_rows": null,
            "height": null,
            "justify_content": null,
            "justify_items": null,
            "left": null,
            "margin": null,
            "max_height": null,
            "max_width": null,
            "min_height": null,
            "min_width": null,
            "object_fit": null,
            "object_position": null,
            "order": null,
            "overflow": null,
            "overflow_x": null,
            "overflow_y": null,
            "padding": null,
            "right": null,
            "top": null,
            "visibility": null,
            "width": null
          }
        },
        "f6998eaa78574a7b970e8b5502bf33f5": {
          "model_module": "@jupyter-widgets/controls",
          "model_name": "DescriptionStyleModel",
          "model_module_version": "1.5.0",
          "state": {
            "_model_module": "@jupyter-widgets/controls",
            "_model_module_version": "1.5.0",
            "_model_name": "DescriptionStyleModel",
            "_view_count": null,
            "_view_module": "@jupyter-widgets/base",
            "_view_module_version": "1.2.0",
            "_view_name": "StyleView",
            "description_width": ""
          }
        },
        "bd8a1baf091f4238b1d1d3e55cc23097": {
          "model_module": "@jupyter-widgets/controls",
          "model_name": "HBoxModel",
          "model_module_version": "1.5.0",
          "state": {
            "_dom_classes": [],
            "_model_module": "@jupyter-widgets/controls",
            "_model_module_version": "1.5.0",
            "_model_name": "HBoxModel",
            "_view_count": null,
            "_view_module": "@jupyter-widgets/controls",
            "_view_module_version": "1.5.0",
            "_view_name": "HBoxView",
            "box_style": "",
            "children": [
              "IPY_MODEL_6bda785eed5a488aaecc5a4befd8507a",
              "IPY_MODEL_9de33967b0be443c95e9cdedc38ab838",
              "IPY_MODEL_2f76fa2dab6f4a4aadb940d81870bd73"
            ],
            "layout": "IPY_MODEL_54d547703b7842e7bbf46fcd70a03683"
          }
        },
        "6bda785eed5a488aaecc5a4befd8507a": {
          "model_module": "@jupyter-widgets/controls",
          "model_name": "HTMLModel",
          "model_module_version": "1.5.0",
          "state": {
            "_dom_classes": [],
            "_model_module": "@jupyter-widgets/controls",
            "_model_module_version": "1.5.0",
            "_model_name": "HTMLModel",
            "_view_count": null,
            "_view_module": "@jupyter-widgets/controls",
            "_view_module_version": "1.5.0",
            "_view_name": "HTMLView",
            "description": "",
            "description_tooltip": null,
            "layout": "IPY_MODEL_50a19d532b194c9b9fd104a25d260318",
            "placeholder": "​",
            "style": "IPY_MODEL_b3f68d7e1bc54ff3a0f2bffc12ad76c5",
            "value": "Downloading (…)&quot;pytorch_model.bin&quot;;: 100%"
          }
        },
        "9de33967b0be443c95e9cdedc38ab838": {
          "model_module": "@jupyter-widgets/controls",
          "model_name": "FloatProgressModel",
          "model_module_version": "1.5.0",
          "state": {
            "_dom_classes": [],
            "_model_module": "@jupyter-widgets/controls",
            "_model_module_version": "1.5.0",
            "_model_name": "FloatProgressModel",
            "_view_count": null,
            "_view_module": "@jupyter-widgets/controls",
            "_view_module_version": "1.5.0",
            "_view_name": "ProgressView",
            "bar_style": "success",
            "description": "",
            "description_tooltip": null,
            "layout": "IPY_MODEL_0ce65e199a374bee84a41792ebaf147c",
            "max": 440473133,
            "min": 0,
            "orientation": "horizontal",
            "style": "IPY_MODEL_044e9540f28744ecb20c289a0539c06c",
            "value": 440473133
          }
        },
        "2f76fa2dab6f4a4aadb940d81870bd73": {
          "model_module": "@jupyter-widgets/controls",
          "model_name": "HTMLModel",
          "model_module_version": "1.5.0",
          "state": {
            "_dom_classes": [],
            "_model_module": "@jupyter-widgets/controls",
            "_model_module_version": "1.5.0",
            "_model_name": "HTMLModel",
            "_view_count": null,
            "_view_module": "@jupyter-widgets/controls",
            "_view_module_version": "1.5.0",
            "_view_name": "HTMLView",
            "description": "",
            "description_tooltip": null,
            "layout": "IPY_MODEL_cb7abe27b17a4495a20a6eaa77b34248",
            "placeholder": "​",
            "style": "IPY_MODEL_6e849f7f6dca47248ff8fb825edd6227",
            "value": " 440M/440M [00:03&lt;00:00, 141MB/s]"
          }
        },
        "54d547703b7842e7bbf46fcd70a03683": {
          "model_module": "@jupyter-widgets/base",
          "model_name": "LayoutModel",
          "model_module_version": "1.2.0",
          "state": {
            "_model_module": "@jupyter-widgets/base",
            "_model_module_version": "1.2.0",
            "_model_name": "LayoutModel",
            "_view_count": null,
            "_view_module": "@jupyter-widgets/base",
            "_view_module_version": "1.2.0",
            "_view_name": "LayoutView",
            "align_content": null,
            "align_items": null,
            "align_self": null,
            "border": null,
            "bottom": null,
            "display": null,
            "flex": null,
            "flex_flow": null,
            "grid_area": null,
            "grid_auto_columns": null,
            "grid_auto_flow": null,
            "grid_auto_rows": null,
            "grid_column": null,
            "grid_gap": null,
            "grid_row": null,
            "grid_template_areas": null,
            "grid_template_columns": null,
            "grid_template_rows": null,
            "height": null,
            "justify_content": null,
            "justify_items": null,
            "left": null,
            "margin": null,
            "max_height": null,
            "max_width": null,
            "min_height": null,
            "min_width": null,
            "object_fit": null,
            "object_position": null,
            "order": null,
            "overflow": null,
            "overflow_x": null,
            "overflow_y": null,
            "padding": null,
            "right": null,
            "top": null,
            "visibility": null,
            "width": null
          }
        },
        "50a19d532b194c9b9fd104a25d260318": {
          "model_module": "@jupyter-widgets/base",
          "model_name": "LayoutModel",
          "model_module_version": "1.2.0",
          "state": {
            "_model_module": "@jupyter-widgets/base",
            "_model_module_version": "1.2.0",
            "_model_name": "LayoutModel",
            "_view_count": null,
            "_view_module": "@jupyter-widgets/base",
            "_view_module_version": "1.2.0",
            "_view_name": "LayoutView",
            "align_content": null,
            "align_items": null,
            "align_self": null,
            "border": null,
            "bottom": null,
            "display": null,
            "flex": null,
            "flex_flow": null,
            "grid_area": null,
            "grid_auto_columns": null,
            "grid_auto_flow": null,
            "grid_auto_rows": null,
            "grid_column": null,
            "grid_gap": null,
            "grid_row": null,
            "grid_template_areas": null,
            "grid_template_columns": null,
            "grid_template_rows": null,
            "height": null,
            "justify_content": null,
            "justify_items": null,
            "left": null,
            "margin": null,
            "max_height": null,
            "max_width": null,
            "min_height": null,
            "min_width": null,
            "object_fit": null,
            "object_position": null,
            "order": null,
            "overflow": null,
            "overflow_x": null,
            "overflow_y": null,
            "padding": null,
            "right": null,
            "top": null,
            "visibility": null,
            "width": null
          }
        },
        "b3f68d7e1bc54ff3a0f2bffc12ad76c5": {
          "model_module": "@jupyter-widgets/controls",
          "model_name": "DescriptionStyleModel",
          "model_module_version": "1.5.0",
          "state": {
            "_model_module": "@jupyter-widgets/controls",
            "_model_module_version": "1.5.0",
            "_model_name": "DescriptionStyleModel",
            "_view_count": null,
            "_view_module": "@jupyter-widgets/base",
            "_view_module_version": "1.2.0",
            "_view_name": "StyleView",
            "description_width": ""
          }
        },
        "0ce65e199a374bee84a41792ebaf147c": {
          "model_module": "@jupyter-widgets/base",
          "model_name": "LayoutModel",
          "model_module_version": "1.2.0",
          "state": {
            "_model_module": "@jupyter-widgets/base",
            "_model_module_version": "1.2.0",
            "_model_name": "LayoutModel",
            "_view_count": null,
            "_view_module": "@jupyter-widgets/base",
            "_view_module_version": "1.2.0",
            "_view_name": "LayoutView",
            "align_content": null,
            "align_items": null,
            "align_self": null,
            "border": null,
            "bottom": null,
            "display": null,
            "flex": null,
            "flex_flow": null,
            "grid_area": null,
            "grid_auto_columns": null,
            "grid_auto_flow": null,
            "grid_auto_rows": null,
            "grid_column": null,
            "grid_gap": null,
            "grid_row": null,
            "grid_template_areas": null,
            "grid_template_columns": null,
            "grid_template_rows": null,
            "height": null,
            "justify_content": null,
            "justify_items": null,
            "left": null,
            "margin": null,
            "max_height": null,
            "max_width": null,
            "min_height": null,
            "min_width": null,
            "object_fit": null,
            "object_position": null,
            "order": null,
            "overflow": null,
            "overflow_x": null,
            "overflow_y": null,
            "padding": null,
            "right": null,
            "top": null,
            "visibility": null,
            "width": null
          }
        },
        "044e9540f28744ecb20c289a0539c06c": {
          "model_module": "@jupyter-widgets/controls",
          "model_name": "ProgressStyleModel",
          "model_module_version": "1.5.0",
          "state": {
            "_model_module": "@jupyter-widgets/controls",
            "_model_module_version": "1.5.0",
            "_model_name": "ProgressStyleModel",
            "_view_count": null,
            "_view_module": "@jupyter-widgets/base",
            "_view_module_version": "1.2.0",
            "_view_name": "StyleView",
            "bar_color": null,
            "description_width": ""
          }
        },
        "cb7abe27b17a4495a20a6eaa77b34248": {
          "model_module": "@jupyter-widgets/base",
          "model_name": "LayoutModel",
          "model_module_version": "1.2.0",
          "state": {
            "_model_module": "@jupyter-widgets/base",
            "_model_module_version": "1.2.0",
            "_model_name": "LayoutModel",
            "_view_count": null,
            "_view_module": "@jupyter-widgets/base",
            "_view_module_version": "1.2.0",
            "_view_name": "LayoutView",
            "align_content": null,
            "align_items": null,
            "align_self": null,
            "border": null,
            "bottom": null,
            "display": null,
            "flex": null,
            "flex_flow": null,
            "grid_area": null,
            "grid_auto_columns": null,
            "grid_auto_flow": null,
            "grid_auto_rows": null,
            "grid_column": null,
            "grid_gap": null,
            "grid_row": null,
            "grid_template_areas": null,
            "grid_template_columns": null,
            "grid_template_rows": null,
            "height": null,
            "justify_content": null,
            "justify_items": null,
            "left": null,
            "margin": null,
            "max_height": null,
            "max_width": null,
            "min_height": null,
            "min_width": null,
            "object_fit": null,
            "object_position": null,
            "order": null,
            "overflow": null,
            "overflow_x": null,
            "overflow_y": null,
            "padding": null,
            "right": null,
            "top": null,
            "visibility": null,
            "width": null
          }
        },
        "6e849f7f6dca47248ff8fb825edd6227": {
          "model_module": "@jupyter-widgets/controls",
          "model_name": "DescriptionStyleModel",
          "model_module_version": "1.5.0",
          "state": {
            "_model_module": "@jupyter-widgets/controls",
            "_model_module_version": "1.5.0",
            "_model_name": "DescriptionStyleModel",
            "_view_count": null,
            "_view_module": "@jupyter-widgets/base",
            "_view_module_version": "1.2.0",
            "_view_name": "StyleView",
            "description_width": ""
          }
        },
        "10dac253fc5a4b1d8a453e3302653189": {
          "model_module": "@jupyter-widgets/controls",
          "model_name": "HBoxModel",
          "model_module_version": "1.5.0",
          "state": {
            "_dom_classes": [],
            "_model_module": "@jupyter-widgets/controls",
            "_model_module_version": "1.5.0",
            "_model_name": "HBoxModel",
            "_view_count": null,
            "_view_module": "@jupyter-widgets/controls",
            "_view_module_version": "1.5.0",
            "_view_name": "HBoxView",
            "box_style": "",
            "children": [
              "IPY_MODEL_5d81c8a43ce442ee991829ee4a62f4ad",
              "IPY_MODEL_4f54f05d407a4218bd2c49cc17a075d5",
              "IPY_MODEL_a8480b474f2049ae9ca06551fa5da1cb"
            ],
            "layout": "IPY_MODEL_0164e72c5b5645bc859939c7c99af9bc"
          }
        },
        "5d81c8a43ce442ee991829ee4a62f4ad": {
          "model_module": "@jupyter-widgets/controls",
          "model_name": "HTMLModel",
          "model_module_version": "1.5.0",
          "state": {
            "_dom_classes": [],
            "_model_module": "@jupyter-widgets/controls",
            "_model_module_version": "1.5.0",
            "_model_name": "HTMLModel",
            "_view_count": null,
            "_view_module": "@jupyter-widgets/controls",
            "_view_module_version": "1.5.0",
            "_view_name": "HTMLView",
            "description": "",
            "description_tooltip": null,
            "layout": "IPY_MODEL_7ea1ec41396f405fbf1230c2cd4d2e9b",
            "placeholder": "​",
            "style": "IPY_MODEL_799f9c46bf034e348f02c82346827e4a",
            "value": "Downloading (…)solve/main/vocab.txt: 100%"
          }
        },
        "4f54f05d407a4218bd2c49cc17a075d5": {
          "model_module": "@jupyter-widgets/controls",
          "model_name": "FloatProgressModel",
          "model_module_version": "1.5.0",
          "state": {
            "_dom_classes": [],
            "_model_module": "@jupyter-widgets/controls",
            "_model_module_version": "1.5.0",
            "_model_name": "FloatProgressModel",
            "_view_count": null,
            "_view_module": "@jupyter-widgets/controls",
            "_view_module_version": "1.5.0",
            "_view_name": "ProgressView",
            "bar_style": "success",
            "description": "",
            "description_tooltip": null,
            "layout": "IPY_MODEL_65c655462ba14e458d03d24b79d6ada8",
            "max": 231508,
            "min": 0,
            "orientation": "horizontal",
            "style": "IPY_MODEL_325bc68a5fad429c924aa07f1ee1884a",
            "value": 231508
          }
        },
        "a8480b474f2049ae9ca06551fa5da1cb": {
          "model_module": "@jupyter-widgets/controls",
          "model_name": "HTMLModel",
          "model_module_version": "1.5.0",
          "state": {
            "_dom_classes": [],
            "_model_module": "@jupyter-widgets/controls",
            "_model_module_version": "1.5.0",
            "_model_name": "HTMLModel",
            "_view_count": null,
            "_view_module": "@jupyter-widgets/controls",
            "_view_module_version": "1.5.0",
            "_view_name": "HTMLView",
            "description": "",
            "description_tooltip": null,
            "layout": "IPY_MODEL_f435905d0dde4fd3b9f7df98d8497135",
            "placeholder": "​",
            "style": "IPY_MODEL_2437761c220e41cfa5bd34744f20c328",
            "value": " 232k/232k [00:00&lt;00:00, 1.55MB/s]"
          }
        },
        "0164e72c5b5645bc859939c7c99af9bc": {
          "model_module": "@jupyter-widgets/base",
          "model_name": "LayoutModel",
          "model_module_version": "1.2.0",
          "state": {
            "_model_module": "@jupyter-widgets/base",
            "_model_module_version": "1.2.0",
            "_model_name": "LayoutModel",
            "_view_count": null,
            "_view_module": "@jupyter-widgets/base",
            "_view_module_version": "1.2.0",
            "_view_name": "LayoutView",
            "align_content": null,
            "align_items": null,
            "align_self": null,
            "border": null,
            "bottom": null,
            "display": null,
            "flex": null,
            "flex_flow": null,
            "grid_area": null,
            "grid_auto_columns": null,
            "grid_auto_flow": null,
            "grid_auto_rows": null,
            "grid_column": null,
            "grid_gap": null,
            "grid_row": null,
            "grid_template_areas": null,
            "grid_template_columns": null,
            "grid_template_rows": null,
            "height": null,
            "justify_content": null,
            "justify_items": null,
            "left": null,
            "margin": null,
            "max_height": null,
            "max_width": null,
            "min_height": null,
            "min_width": null,
            "object_fit": null,
            "object_position": null,
            "order": null,
            "overflow": null,
            "overflow_x": null,
            "overflow_y": null,
            "padding": null,
            "right": null,
            "top": null,
            "visibility": null,
            "width": null
          }
        },
        "7ea1ec41396f405fbf1230c2cd4d2e9b": {
          "model_module": "@jupyter-widgets/base",
          "model_name": "LayoutModel",
          "model_module_version": "1.2.0",
          "state": {
            "_model_module": "@jupyter-widgets/base",
            "_model_module_version": "1.2.0",
            "_model_name": "LayoutModel",
            "_view_count": null,
            "_view_module": "@jupyter-widgets/base",
            "_view_module_version": "1.2.0",
            "_view_name": "LayoutView",
            "align_content": null,
            "align_items": null,
            "align_self": null,
            "border": null,
            "bottom": null,
            "display": null,
            "flex": null,
            "flex_flow": null,
            "grid_area": null,
            "grid_auto_columns": null,
            "grid_auto_flow": null,
            "grid_auto_rows": null,
            "grid_column": null,
            "grid_gap": null,
            "grid_row": null,
            "grid_template_areas": null,
            "grid_template_columns": null,
            "grid_template_rows": null,
            "height": null,
            "justify_content": null,
            "justify_items": null,
            "left": null,
            "margin": null,
            "max_height": null,
            "max_width": null,
            "min_height": null,
            "min_width": null,
            "object_fit": null,
            "object_position": null,
            "order": null,
            "overflow": null,
            "overflow_x": null,
            "overflow_y": null,
            "padding": null,
            "right": null,
            "top": null,
            "visibility": null,
            "width": null
          }
        },
        "799f9c46bf034e348f02c82346827e4a": {
          "model_module": "@jupyter-widgets/controls",
          "model_name": "DescriptionStyleModel",
          "model_module_version": "1.5.0",
          "state": {
            "_model_module": "@jupyter-widgets/controls",
            "_model_module_version": "1.5.0",
            "_model_name": "DescriptionStyleModel",
            "_view_count": null,
            "_view_module": "@jupyter-widgets/base",
            "_view_module_version": "1.2.0",
            "_view_name": "StyleView",
            "description_width": ""
          }
        },
        "65c655462ba14e458d03d24b79d6ada8": {
          "model_module": "@jupyter-widgets/base",
          "model_name": "LayoutModel",
          "model_module_version": "1.2.0",
          "state": {
            "_model_module": "@jupyter-widgets/base",
            "_model_module_version": "1.2.0",
            "_model_name": "LayoutModel",
            "_view_count": null,
            "_view_module": "@jupyter-widgets/base",
            "_view_module_version": "1.2.0",
            "_view_name": "LayoutView",
            "align_content": null,
            "align_items": null,
            "align_self": null,
            "border": null,
            "bottom": null,
            "display": null,
            "flex": null,
            "flex_flow": null,
            "grid_area": null,
            "grid_auto_columns": null,
            "grid_auto_flow": null,
            "grid_auto_rows": null,
            "grid_column": null,
            "grid_gap": null,
            "grid_row": null,
            "grid_template_areas": null,
            "grid_template_columns": null,
            "grid_template_rows": null,
            "height": null,
            "justify_content": null,
            "justify_items": null,
            "left": null,
            "margin": null,
            "max_height": null,
            "max_width": null,
            "min_height": null,
            "min_width": null,
            "object_fit": null,
            "object_position": null,
            "order": null,
            "overflow": null,
            "overflow_x": null,
            "overflow_y": null,
            "padding": null,
            "right": null,
            "top": null,
            "visibility": null,
            "width": null
          }
        },
        "325bc68a5fad429c924aa07f1ee1884a": {
          "model_module": "@jupyter-widgets/controls",
          "model_name": "ProgressStyleModel",
          "model_module_version": "1.5.0",
          "state": {
            "_model_module": "@jupyter-widgets/controls",
            "_model_module_version": "1.5.0",
            "_model_name": "ProgressStyleModel",
            "_view_count": null,
            "_view_module": "@jupyter-widgets/base",
            "_view_module_version": "1.2.0",
            "_view_name": "StyleView",
            "bar_color": null,
            "description_width": ""
          }
        },
        "f435905d0dde4fd3b9f7df98d8497135": {
          "model_module": "@jupyter-widgets/base",
          "model_name": "LayoutModel",
          "model_module_version": "1.2.0",
          "state": {
            "_model_module": "@jupyter-widgets/base",
            "_model_module_version": "1.2.0",
            "_model_name": "LayoutModel",
            "_view_count": null,
            "_view_module": "@jupyter-widgets/base",
            "_view_module_version": "1.2.0",
            "_view_name": "LayoutView",
            "align_content": null,
            "align_items": null,
            "align_self": null,
            "border": null,
            "bottom": null,
            "display": null,
            "flex": null,
            "flex_flow": null,
            "grid_area": null,
            "grid_auto_columns": null,
            "grid_auto_flow": null,
            "grid_auto_rows": null,
            "grid_column": null,
            "grid_gap": null,
            "grid_row": null,
            "grid_template_areas": null,
            "grid_template_columns": null,
            "grid_template_rows": null,
            "height": null,
            "justify_content": null,
            "justify_items": null,
            "left": null,
            "margin": null,
            "max_height": null,
            "max_width": null,
            "min_height": null,
            "min_width": null,
            "object_fit": null,
            "object_position": null,
            "order": null,
            "overflow": null,
            "overflow_x": null,
            "overflow_y": null,
            "padding": null,
            "right": null,
            "top": null,
            "visibility": null,
            "width": null
          }
        },
        "2437761c220e41cfa5bd34744f20c328": {
          "model_module": "@jupyter-widgets/controls",
          "model_name": "DescriptionStyleModel",
          "model_module_version": "1.5.0",
          "state": {
            "_model_module": "@jupyter-widgets/controls",
            "_model_module_version": "1.5.0",
            "_model_name": "DescriptionStyleModel",
            "_view_count": null,
            "_view_module": "@jupyter-widgets/base",
            "_view_module_version": "1.2.0",
            "_view_name": "StyleView",
            "description_width": ""
          }
        },
        "f27f62f80d9940f39941330d25fa7f60": {
          "model_module": "@jupyter-widgets/controls",
          "model_name": "HBoxModel",
          "model_module_version": "1.5.0",
          "state": {
            "_dom_classes": [],
            "_model_module": "@jupyter-widgets/controls",
            "_model_module_version": "1.5.0",
            "_model_name": "HBoxModel",
            "_view_count": null,
            "_view_module": "@jupyter-widgets/controls",
            "_view_module_version": "1.5.0",
            "_view_name": "HBoxView",
            "box_style": "",
            "children": [
              "IPY_MODEL_9107870c850e462eaf013d694249e3e6",
              "IPY_MODEL_a68596babc164625be37b42d5a94cbac",
              "IPY_MODEL_84b8f48e06674a0cbaca3ee97591d182"
            ],
            "layout": "IPY_MODEL_f0812cb6d6c3471391b7b8c9764b768f"
          }
        },
        "9107870c850e462eaf013d694249e3e6": {
          "model_module": "@jupyter-widgets/controls",
          "model_name": "HTMLModel",
          "model_module_version": "1.5.0",
          "state": {
            "_dom_classes": [],
            "_model_module": "@jupyter-widgets/controls",
            "_model_module_version": "1.5.0",
            "_model_name": "HTMLModel",
            "_view_count": null,
            "_view_module": "@jupyter-widgets/controls",
            "_view_module_version": "1.5.0",
            "_view_name": "HTMLView",
            "description": "",
            "description_tooltip": null,
            "layout": "IPY_MODEL_e42137014f7f4dffaa495989868d45a9",
            "placeholder": "​",
            "style": "IPY_MODEL_8c58fb7179cb444d85a86a7dab0565c8",
            "value": "Downloading (…)okenizer_config.json: 100%"
          }
        },
        "a68596babc164625be37b42d5a94cbac": {
          "model_module": "@jupyter-widgets/controls",
          "model_name": "FloatProgressModel",
          "model_module_version": "1.5.0",
          "state": {
            "_dom_classes": [],
            "_model_module": "@jupyter-widgets/controls",
            "_model_module_version": "1.5.0",
            "_model_name": "FloatProgressModel",
            "_view_count": null,
            "_view_module": "@jupyter-widgets/controls",
            "_view_module_version": "1.5.0",
            "_view_name": "ProgressView",
            "bar_style": "success",
            "description": "",
            "description_tooltip": null,
            "layout": "IPY_MODEL_d91c144ba0884b259e6b84091f1d71bc",
            "max": 28,
            "min": 0,
            "orientation": "horizontal",
            "style": "IPY_MODEL_562884e841224278a3143d586325d4eb",
            "value": 28
          }
        },
        "84b8f48e06674a0cbaca3ee97591d182": {
          "model_module": "@jupyter-widgets/controls",
          "model_name": "HTMLModel",
          "model_module_version": "1.5.0",
          "state": {
            "_dom_classes": [],
            "_model_module": "@jupyter-widgets/controls",
            "_model_module_version": "1.5.0",
            "_model_name": "HTMLModel",
            "_view_count": null,
            "_view_module": "@jupyter-widgets/controls",
            "_view_module_version": "1.5.0",
            "_view_name": "HTMLView",
            "description": "",
            "description_tooltip": null,
            "layout": "IPY_MODEL_79f927d9427540f39996b7c863ab3dc2",
            "placeholder": "​",
            "style": "IPY_MODEL_08c5d7c22ef04e848c0216f8f2641aea",
            "value": " 28.0/28.0 [00:00&lt;00:00, 360B/s]"
          }
        },
        "f0812cb6d6c3471391b7b8c9764b768f": {
          "model_module": "@jupyter-widgets/base",
          "model_name": "LayoutModel",
          "model_module_version": "1.2.0",
          "state": {
            "_model_module": "@jupyter-widgets/base",
            "_model_module_version": "1.2.0",
            "_model_name": "LayoutModel",
            "_view_count": null,
            "_view_module": "@jupyter-widgets/base",
            "_view_module_version": "1.2.0",
            "_view_name": "LayoutView",
            "align_content": null,
            "align_items": null,
            "align_self": null,
            "border": null,
            "bottom": null,
            "display": null,
            "flex": null,
            "flex_flow": null,
            "grid_area": null,
            "grid_auto_columns": null,
            "grid_auto_flow": null,
            "grid_auto_rows": null,
            "grid_column": null,
            "grid_gap": null,
            "grid_row": null,
            "grid_template_areas": null,
            "grid_template_columns": null,
            "grid_template_rows": null,
            "height": null,
            "justify_content": null,
            "justify_items": null,
            "left": null,
            "margin": null,
            "max_height": null,
            "max_width": null,
            "min_height": null,
            "min_width": null,
            "object_fit": null,
            "object_position": null,
            "order": null,
            "overflow": null,
            "overflow_x": null,
            "overflow_y": null,
            "padding": null,
            "right": null,
            "top": null,
            "visibility": null,
            "width": null
          }
        },
        "e42137014f7f4dffaa495989868d45a9": {
          "model_module": "@jupyter-widgets/base",
          "model_name": "LayoutModel",
          "model_module_version": "1.2.0",
          "state": {
            "_model_module": "@jupyter-widgets/base",
            "_model_module_version": "1.2.0",
            "_model_name": "LayoutModel",
            "_view_count": null,
            "_view_module": "@jupyter-widgets/base",
            "_view_module_version": "1.2.0",
            "_view_name": "LayoutView",
            "align_content": null,
            "align_items": null,
            "align_self": null,
            "border": null,
            "bottom": null,
            "display": null,
            "flex": null,
            "flex_flow": null,
            "grid_area": null,
            "grid_auto_columns": null,
            "grid_auto_flow": null,
            "grid_auto_rows": null,
            "grid_column": null,
            "grid_gap": null,
            "grid_row": null,
            "grid_template_areas": null,
            "grid_template_columns": null,
            "grid_template_rows": null,
            "height": null,
            "justify_content": null,
            "justify_items": null,
            "left": null,
            "margin": null,
            "max_height": null,
            "max_width": null,
            "min_height": null,
            "min_width": null,
            "object_fit": null,
            "object_position": null,
            "order": null,
            "overflow": null,
            "overflow_x": null,
            "overflow_y": null,
            "padding": null,
            "right": null,
            "top": null,
            "visibility": null,
            "width": null
          }
        },
        "8c58fb7179cb444d85a86a7dab0565c8": {
          "model_module": "@jupyter-widgets/controls",
          "model_name": "DescriptionStyleModel",
          "model_module_version": "1.5.0",
          "state": {
            "_model_module": "@jupyter-widgets/controls",
            "_model_module_version": "1.5.0",
            "_model_name": "DescriptionStyleModel",
            "_view_count": null,
            "_view_module": "@jupyter-widgets/base",
            "_view_module_version": "1.2.0",
            "_view_name": "StyleView",
            "description_width": ""
          }
        },
        "d91c144ba0884b259e6b84091f1d71bc": {
          "model_module": "@jupyter-widgets/base",
          "model_name": "LayoutModel",
          "model_module_version": "1.2.0",
          "state": {
            "_model_module": "@jupyter-widgets/base",
            "_model_module_version": "1.2.0",
            "_model_name": "LayoutModel",
            "_view_count": null,
            "_view_module": "@jupyter-widgets/base",
            "_view_module_version": "1.2.0",
            "_view_name": "LayoutView",
            "align_content": null,
            "align_items": null,
            "align_self": null,
            "border": null,
            "bottom": null,
            "display": null,
            "flex": null,
            "flex_flow": null,
            "grid_area": null,
            "grid_auto_columns": null,
            "grid_auto_flow": null,
            "grid_auto_rows": null,
            "grid_column": null,
            "grid_gap": null,
            "grid_row": null,
            "grid_template_areas": null,
            "grid_template_columns": null,
            "grid_template_rows": null,
            "height": null,
            "justify_content": null,
            "justify_items": null,
            "left": null,
            "margin": null,
            "max_height": null,
            "max_width": null,
            "min_height": null,
            "min_width": null,
            "object_fit": null,
            "object_position": null,
            "order": null,
            "overflow": null,
            "overflow_x": null,
            "overflow_y": null,
            "padding": null,
            "right": null,
            "top": null,
            "visibility": null,
            "width": null
          }
        },
        "562884e841224278a3143d586325d4eb": {
          "model_module": "@jupyter-widgets/controls",
          "model_name": "ProgressStyleModel",
          "model_module_version": "1.5.0",
          "state": {
            "_model_module": "@jupyter-widgets/controls",
            "_model_module_version": "1.5.0",
            "_model_name": "ProgressStyleModel",
            "_view_count": null,
            "_view_module": "@jupyter-widgets/base",
            "_view_module_version": "1.2.0",
            "_view_name": "StyleView",
            "bar_color": null,
            "description_width": ""
          }
        },
        "79f927d9427540f39996b7c863ab3dc2": {
          "model_module": "@jupyter-widgets/base",
          "model_name": "LayoutModel",
          "model_module_version": "1.2.0",
          "state": {
            "_model_module": "@jupyter-widgets/base",
            "_model_module_version": "1.2.0",
            "_model_name": "LayoutModel",
            "_view_count": null,
            "_view_module": "@jupyter-widgets/base",
            "_view_module_version": "1.2.0",
            "_view_name": "LayoutView",
            "align_content": null,
            "align_items": null,
            "align_self": null,
            "border": null,
            "bottom": null,
            "display": null,
            "flex": null,
            "flex_flow": null,
            "grid_area": null,
            "grid_auto_columns": null,
            "grid_auto_flow": null,
            "grid_auto_rows": null,
            "grid_column": null,
            "grid_gap": null,
            "grid_row": null,
            "grid_template_areas": null,
            "grid_template_columns": null,
            "grid_template_rows": null,
            "height": null,
            "justify_content": null,
            "justify_items": null,
            "left": null,
            "margin": null,
            "max_height": null,
            "max_width": null,
            "min_height": null,
            "min_width": null,
            "object_fit": null,
            "object_position": null,
            "order": null,
            "overflow": null,
            "overflow_x": null,
            "overflow_y": null,
            "padding": null,
            "right": null,
            "top": null,
            "visibility": null,
            "width": null
          }
        },
        "08c5d7c22ef04e848c0216f8f2641aea": {
          "model_module": "@jupyter-widgets/controls",
          "model_name": "DescriptionStyleModel",
          "model_module_version": "1.5.0",
          "state": {
            "_model_module": "@jupyter-widgets/controls",
            "_model_module_version": "1.5.0",
            "_model_name": "DescriptionStyleModel",
            "_view_count": null,
            "_view_module": "@jupyter-widgets/base",
            "_view_module_version": "1.2.0",
            "_view_name": "StyleView",
            "description_width": ""
          }
        }
      }
    }
  },
  "cells": [
    {
      "cell_type": "markdown",
      "source": [
        "#Extracting embeddings from all encoder layers of BERT"
      ],
      "metadata": {
        "id": "3ivGsELhzrIP"
      }
    },
    {
      "cell_type": "markdown",
      "source": [
        "We learned how to extract the embedding from the pre-trained BERT in the previous section. We learned that they are the embeddings obtained from the final encoder layer. Now the question is should we consider the embedding obtained only from the final encoder layer (final hidden state), or should we also consider the embedding obtained from all the encoder layers (all hidden states)? \n",
        "\n",
        "Let's explore more about this.\n",
        "\n",
        "\n",
        "Let us represent the input embedding layer by $h_{0}$ and the first encoder layer (first hidden layer) by $h_{1}$, second encoder layer (second hidden layer) by $h_{2}$  and so on to the final twelfth encoder layer by $h_{12}$ as shown in the following figure:"
      ],
      "metadata": {
        "id": "fhaUjsYN0t5b"
      }
    },
    {
      "cell_type": "markdown",
      "source": [
        "Instead of taking the embeddings (representation) only from the final encoder layer, the researchers of the BERT have experimented with taking embeddings from different encoder layers.\n",
        "\n",
        "For instance, for a named-entity recognition task, the researchers have used the pre-trained BERT for extracting features. Instead of using the embedding only from the final encoder layer (final hidden layer) as a feature, they have experimented using embedding from other encoder layers (other hidden layers) as a feature."
      ],
      "metadata": {
        "id": "nPYurFjJ1XTT"
      }
    },
    {
      "cell_type": "markdown",
      "source": [
        "As we can observe from the preceding table, concatenating the embeddings of the last 4 encoder layers (last 4 hidden layers) gives us a greater F1 score of 96.1% in the NER task. Thus, instead of taking the embeddings only from the final encoder layer (final hidden layer), we can also use embeddings from the other encoder layers.\n",
        "\n",
        "Now, we will learn how to extract the embeddings from all the encoder layers using the transformers library"
      ],
      "metadata": {
        "id": "lyoBS9u61k43"
      }
    },
    {
      "cell_type": "markdown",
      "source": [
        "#Extracting the embeddings"
      ],
      "metadata": {
        "id": "eUze5_uU2FXm"
      }
    },
    {
      "cell_type": "code",
      "execution_count": 1,
      "metadata": {
        "colab": {
          "base_uri": "https://localhost:8080/"
        },
        "id": "BQukfEJczbob",
        "outputId": "1a8d2dd8-978a-491c-b4ec-9bec664b1e89"
      },
      "outputs": [
        {
          "output_type": "stream",
          "name": "stdout",
          "text": [
            "Looking in indexes: https://pypi.org/simple, https://us-python.pkg.dev/colab-wheels/public/simple/\n",
            "Collecting transformers\n",
            "  Downloading transformers-4.26.1-py3-none-any.whl (6.3 MB)\n",
            "\u001b[2K     \u001b[90m━━━━━━━━━━━━━━━━━━━━━━━━━━━━━━━━━━━━━━━━\u001b[0m \u001b[32m6.3/6.3 MB\u001b[0m \u001b[31m37.0 MB/s\u001b[0m eta \u001b[36m0:00:00\u001b[0m\n",
            "\u001b[?25hRequirement already satisfied: packaging>=20.0 in /usr/local/lib/python3.8/dist-packages (from transformers) (23.0)\n",
            "Requirement already satisfied: pyyaml>=5.1 in /usr/local/lib/python3.8/dist-packages (from transformers) (6.0)\n",
            "Requirement already satisfied: numpy>=1.17 in /usr/local/lib/python3.8/dist-packages (from transformers) (1.21.6)\n",
            "Requirement already satisfied: tqdm>=4.27 in /usr/local/lib/python3.8/dist-packages (from transformers) (4.64.1)\n",
            "Requirement already satisfied: requests in /usr/local/lib/python3.8/dist-packages (from transformers) (2.25.1)\n",
            "Requirement already satisfied: regex!=2019.12.17 in /usr/local/lib/python3.8/dist-packages (from transformers) (2022.6.2)\n",
            "Collecting tokenizers!=0.11.3,<0.14,>=0.11.1\n",
            "  Downloading tokenizers-0.13.2-cp38-cp38-manylinux_2_17_x86_64.manylinux2014_x86_64.whl (7.6 MB)\n",
            "\u001b[2K     \u001b[90m━━━━━━━━━━━━━━━━━━━━━━━━━━━━━━━━━━━━━━━━\u001b[0m \u001b[32m7.6/7.6 MB\u001b[0m \u001b[31m43.6 MB/s\u001b[0m eta \u001b[36m0:00:00\u001b[0m\n",
            "\u001b[?25hCollecting huggingface-hub<1.0,>=0.11.0\n",
            "  Downloading huggingface_hub-0.12.0-py3-none-any.whl (190 kB)\n",
            "\u001b[2K     \u001b[90m━━━━━━━━━━━━━━━━━━━━━━━━━━━━━━━━━━━━━━\u001b[0m \u001b[32m190.3/190.3 KB\u001b[0m \u001b[31m14.1 MB/s\u001b[0m eta \u001b[36m0:00:00\u001b[0m\n",
            "\u001b[?25hRequirement already satisfied: filelock in /usr/local/lib/python3.8/dist-packages (from transformers) (3.9.0)\n",
            "Requirement already satisfied: typing-extensions>=3.7.4.3 in /usr/local/lib/python3.8/dist-packages (from huggingface-hub<1.0,>=0.11.0->transformers) (4.4.0)\n",
            "Requirement already satisfied: chardet<5,>=3.0.2 in /usr/local/lib/python3.8/dist-packages (from requests->transformers) (4.0.0)\n",
            "Requirement already satisfied: idna<3,>=2.5 in /usr/local/lib/python3.8/dist-packages (from requests->transformers) (2.10)\n",
            "Requirement already satisfied: certifi>=2017.4.17 in /usr/local/lib/python3.8/dist-packages (from requests->transformers) (2022.12.7)\n",
            "Requirement already satisfied: urllib3<1.27,>=1.21.1 in /usr/local/lib/python3.8/dist-packages (from requests->transformers) (1.24.3)\n",
            "Installing collected packages: tokenizers, huggingface-hub, transformers\n",
            "Successfully installed huggingface-hub-0.12.0 tokenizers-0.13.2 transformers-4.26.1\n"
          ]
        }
      ],
      "source": [
        "!pip install transformers"
      ]
    },
    {
      "cell_type": "code",
      "source": [
        "from transformers import BertModel, BertTokenizer\n",
        "import torch"
      ],
      "metadata": {
        "id": "6ZXlLYGZ2HbI"
      },
      "execution_count": 2,
      "outputs": []
    },
    {
      "cell_type": "markdown",
      "source": [
        "Next, download the pre-trained BERT model and tokenizer. As we can notice while downloading the pre-trained BERT model. \n",
        "\n",
        "We need to set `output_hidden_states = True`. By setting this to true helps us to obtain embeddings from all the encoder layers:"
      ],
      "metadata": {
        "id": "uXPJrFgY2KGb"
      }
    },
    {
      "cell_type": "code",
      "source": [
        "model = BertModel.from_pretrained('bert-base-uncased',\n",
        "                                  output_hidden_states = True)\n",
        "tokenizer = BertTokenizer.from_pretrained('bert-base-uncased')"
      ],
      "metadata": {
        "colab": {
          "base_uri": "https://localhost:8080/",
          "height": 332,
          "referenced_widgets": [
            "708e72023ab74d5aa68d5128339de1fa",
            "f5768068d305419bbc95964cee88e7c8",
            "d40303cee0d84ecd85ef694c6754433a",
            "673207b458e341c0bdc58c3fd5b72ea8",
            "8d481ca3ac0f42cc89d869514616c82c",
            "1d0f3fd648244d45967b1fa1cc5c838d",
            "191a470a4e7c4a1c893e4b7e8f0d5664",
            "59db9ee194f54b1fb156136112c5a3d3",
            "d93210d537db401b8859e0e0e0b31904",
            "40dc702476584cf4b9d7f55a5eb592bc",
            "f6998eaa78574a7b970e8b5502bf33f5",
            "bd8a1baf091f4238b1d1d3e55cc23097",
            "6bda785eed5a488aaecc5a4befd8507a",
            "9de33967b0be443c95e9cdedc38ab838",
            "2f76fa2dab6f4a4aadb940d81870bd73",
            "54d547703b7842e7bbf46fcd70a03683",
            "50a19d532b194c9b9fd104a25d260318",
            "b3f68d7e1bc54ff3a0f2bffc12ad76c5",
            "0ce65e199a374bee84a41792ebaf147c",
            "044e9540f28744ecb20c289a0539c06c",
            "cb7abe27b17a4495a20a6eaa77b34248",
            "6e849f7f6dca47248ff8fb825edd6227",
            "10dac253fc5a4b1d8a453e3302653189",
            "5d81c8a43ce442ee991829ee4a62f4ad",
            "4f54f05d407a4218bd2c49cc17a075d5",
            "a8480b474f2049ae9ca06551fa5da1cb",
            "0164e72c5b5645bc859939c7c99af9bc",
            "7ea1ec41396f405fbf1230c2cd4d2e9b",
            "799f9c46bf034e348f02c82346827e4a",
            "65c655462ba14e458d03d24b79d6ada8",
            "325bc68a5fad429c924aa07f1ee1884a",
            "f435905d0dde4fd3b9f7df98d8497135",
            "2437761c220e41cfa5bd34744f20c328",
            "f27f62f80d9940f39941330d25fa7f60",
            "9107870c850e462eaf013d694249e3e6",
            "a68596babc164625be37b42d5a94cbac",
            "84b8f48e06674a0cbaca3ee97591d182",
            "f0812cb6d6c3471391b7b8c9764b768f",
            "e42137014f7f4dffaa495989868d45a9",
            "8c58fb7179cb444d85a86a7dab0565c8",
            "d91c144ba0884b259e6b84091f1d71bc",
            "562884e841224278a3143d586325d4eb",
            "79f927d9427540f39996b7c863ab3dc2",
            "08c5d7c22ef04e848c0216f8f2641aea"
          ]
        },
        "id": "X-TCqtt72Kv0",
        "outputId": "4e52d0d2-751f-47ff-fab4-38c8765d5390"
      },
      "execution_count": 3,
      "outputs": [
        {
          "output_type": "display_data",
          "data": {
            "text/plain": [
              "Downloading (…)lve/main/config.json:   0%|          | 0.00/570 [00:00<?, ?B/s]"
            ],
            "application/vnd.jupyter.widget-view+json": {
              "version_major": 2,
              "version_minor": 0,
              "model_id": "708e72023ab74d5aa68d5128339de1fa"
            }
          },
          "metadata": {}
        },
        {
          "output_type": "display_data",
          "data": {
            "text/plain": [
              "Downloading (…)\"pytorch_model.bin\";:   0%|          | 0.00/440M [00:00<?, ?B/s]"
            ],
            "application/vnd.jupyter.widget-view+json": {
              "version_major": 2,
              "version_minor": 0,
              "model_id": "bd8a1baf091f4238b1d1d3e55cc23097"
            }
          },
          "metadata": {}
        },
        {
          "output_type": "stream",
          "name": "stderr",
          "text": [
            "Some weights of the model checkpoint at bert-base-uncased were not used when initializing BertModel: ['cls.predictions.bias', 'cls.seq_relationship.bias', 'cls.predictions.transform.LayerNorm.bias', 'cls.predictions.decoder.weight', 'cls.predictions.transform.dense.bias', 'cls.predictions.transform.dense.weight', 'cls.predictions.transform.LayerNorm.weight', 'cls.seq_relationship.weight']\n",
            "- This IS expected if you are initializing BertModel from the checkpoint of a model trained on another task or with another architecture (e.g. initializing a BertForSequenceClassification model from a BertForPreTraining model).\n",
            "- This IS NOT expected if you are initializing BertModel from the checkpoint of a model that you expect to be exactly identical (initializing a BertForSequenceClassification model from a BertForSequenceClassification model).\n"
          ]
        },
        {
          "output_type": "display_data",
          "data": {
            "text/plain": [
              "Downloading (…)solve/main/vocab.txt:   0%|          | 0.00/232k [00:00<?, ?B/s]"
            ],
            "application/vnd.jupyter.widget-view+json": {
              "version_major": 2,
              "version_minor": 0,
              "model_id": "10dac253fc5a4b1d8a453e3302653189"
            }
          },
          "metadata": {}
        },
        {
          "output_type": "display_data",
          "data": {
            "text/plain": [
              "Downloading (…)okenizer_config.json:   0%|          | 0.00/28.0 [00:00<?, ?B/s]"
            ],
            "application/vnd.jupyter.widget-view+json": {
              "version_major": 2,
              "version_minor": 0,
              "model_id": "f27f62f80d9940f39941330d25fa7f60"
            }
          },
          "metadata": {}
        }
      ]
    },
    {
      "cell_type": "markdown",
      "source": [
        "# Preprocess the Input"
      ],
      "metadata": {
        "id": "fngkjvIs3pKl"
      }
    },
    {
      "cell_type": "markdown",
      "source": [
        "Let's consider the same sentence we saw in the previous section. First, we tokenize the sentence and add [CLS] token at the beginning and [SEP] token at the end:"
      ],
      "metadata": {
        "id": "a3JhJ56t3vVW"
      }
    },
    {
      "cell_type": "code",
      "source": [
        "sentence = 'I love Paris'\n",
        "tokens = tokenizer.tokenize(sentence)\n",
        "tokens = ['[CLS]'] + tokens + ['[SEP]']"
      ],
      "metadata": {
        "id": "RlXk49fv3u2p"
      },
      "execution_count": 4,
      "outputs": []
    },
    {
      "cell_type": "markdown",
      "source": [
        "Suppose, we need to keep the token length to 7. So, we add the [PAD] tokens and also define the attention mask:"
      ],
      "metadata": {
        "id": "ErjNawwt38W5"
      }
    },
    {
      "cell_type": "code",
      "source": [
        "tokens = tokens + ['[PAD]'] + ['[PAD]']\n",
        "attention_mask = [1 if i!= '[PAD]' else 0 for i in tokens]"
      ],
      "metadata": {
        "id": "u2_-gwv93LX3"
      },
      "execution_count": 5,
      "outputs": []
    },
    {
      "cell_type": "markdown",
      "source": [
        "Next, we convert the tokens to their token_ids:"
      ],
      "metadata": {
        "id": "3XtYhNcZ3-OU"
      }
    },
    {
      "cell_type": "code",
      "source": [
        "token_ids = tokenizer.convert_tokens_to_ids(tokens)"
      ],
      "metadata": {
        "id": "dj5KdOUr3-Ud"
      },
      "execution_count": 6,
      "outputs": []
    },
    {
      "cell_type": "markdown",
      "source": [
        "Now, we convert the token_ids and attention_mask to tensor:"
      ],
      "metadata": {
        "id": "KQVjAGRW3-bV"
      }
    },
    {
      "cell_type": "code",
      "source": [
        "token_ids = torch.tensor(token_ids).unsqueeze(0)\n",
        "attention_mask = torch.tensor(attention_mask).unsqueeze(0)"
      ],
      "metadata": {
        "id": "pxmZ5J_g3-it"
      },
      "execution_count": 7,
      "outputs": []
    },
    {
      "cell_type": "markdown",
      "source": [
        "# Getting the Embedding"
      ],
      "metadata": {
        "id": "evJrwn6n4FBv"
      }
    },
    {
      "cell_type": "markdown",
      "source": [
        "Since we set `output_hidden_states = True` while defining the model for getting the embeddings from all the encoder layers, now the model returns an output tuple with three values as shown below:"
      ],
      "metadata": {
        "id": "pX8GKl8z4H0l"
      }
    },
    {
      "cell_type": "code",
      "source": [
        "last_hidden_state, pooler_output, hidden_states = model(token_ids,\n",
        "                                                        attention_mask = attention_mask)"
      ],
      "metadata": {
        "id": "Q95ZYSTF4MQE"
      },
      "execution_count": 8,
      "outputs": []
    },
    {
      "cell_type": "markdown",
      "source": [
        "- The first value `last_hidden_state` contains the representation of all the tokens obtained only from the final encoder layer (encoder 12). - Next, `pooler_output` indicates the representation of the `[CLS]` token from the final encoder layer which is further processed by a linear and tanh activation function. \n",
        "- `hidden_states` contains the representation of all the tokens obtained from all the final encoder layers. Now, let us take a look into each of these values and understand them in more detail.\n",
        "\n",
        "First, let us look at `last_hidden_state`. As we learned, it holds the representation of all the tokens obtained only from the final encoder layer (encoder 12). Let us print the shape of the last_hidden_state:"
      ],
      "metadata": {
        "id": "lu3fUxOR4fiv"
      }
    },
    {
      "cell_type": "markdown",
      "source": [
        "![image.png](data:image/png;base64,iVBORw0KGgoAAAANSUhEUgAAANAAAABbCAYAAAAC0wtvAAAAAXNSR0IArs4c6QAAAARnQU1BAACxjwv8YQUAAAAJcEhZcwAADsMAAA7DAcdvqGQAAAs8SURBVHhe7ZxPSFzJFsZP3lpo0kJ0NooLzTCBCW6Ms7DBB4EXGYmbuElL3KrEhYxhILiSwLwYXBiMWzOajbNJcOgMZGHoLF7iRhJweKPwRDejARsa3M8751bd21W3b7e3u/r6jO/7QU363upbt/6c75xT1YyXLl++/BcBAOrCE9DQ0JC+BADUQiCgt2/f6lsAgLj8Tf8LAKgDCAgAByAgAByAgABwAAICwAEICAAHICAAHICAAHAAAgLAAQgIAAcgIAAcgIAAcAACAsABCAgAByAgAByAgABwwElA0883aGNDlfX5YX33PDBM8+sbtPxAX1Zkmpal/+vz/EQ1Tmnvzjytbyxza8CNuOt2fnAS0Ny9furv76fcgb7RaB4sxzBuEIU4t/qd2pdnyP8r/s9TuDkaZQfQPzhFa/oOALXQkL+JIN4uc7xEg1MhM5QIcqtdXxDtv+6n0cf6QgjVn2zpNiQlGu+mJn2/xD7l+kfZ7E9DPOgYpd/liG4NkHqD/ezw/DqNdes3HOSo/164VUnv/GcVVv9DfS/rm1V/QlvPBmnqF3Ul7x6hFco3j9FAm7pXNjdVUePzu2++2xqXiTXG0NiMOllLv08mwdoIVcYWh3AfS2M/fd3Kxn6yRUuBA5RxXaPtZwXK+PZj1Qv22K1x1UGCEYg7em3bS/G88nqf2m+Z+wSuv9XMk6/ruQQD+WWKBvUz3gT4bcQST4n2WxkqeO0v0dZJO2WMlGZtatBrc2nrRN8xkUUaoGaeXPVeeV5XCSJws+/PttiMDML1r4+pe9zeIzV1j3lOx+9De1/8VHV4foS6C2z0Xt+klObFH5ek1WIcwXcMBzH9nI0seDZH+20DQbqm0nI1XjFs//lgbWKMrSr8/Ej3MYui1HbYcVRbt+H5AaKf/We5nrppxEpV22lgPE35yPrwuubomNfBJVVNUECcHple/fE2+5Jm+uqOvvZoos7v4ppN7ey/9j3jGr3fPaGm5sDnVufBAE/7Fq1U8EzT33cTba1U9LrD33Xa9Y9zniFcMxeKvb5vlGv/2qWTprQV7U6l7Vp8ow0xd890RHO0zWJrbo23DrHGdirVv19t3damRo15j1pXiYj++EL1d3qp01rXOcqJ87pW//FPonsg85RuI5QOeQJjz03sAVT9xTnFam9u8iJMaexmuuWORJncAXta3X7NhwWSggV9i07ZKuE8NskuvGxEP1/rIZFEwODdG9Hpapj0V+odHWlqauqmsVqfr0JiApI8d6BN8lc/3HKqoOsC/FSNy9JWMxvExRGRlT7pEn+Pczr+CaifhsQWkZeCtVvpWa2nqHHG9vdL/6F/chnX1xaPR4PncgU26Ngi4rSf9zZkvD86BQ9R+LO0B7K2BLqU7X/jk+wp3EkhEM3083AEslk7PNafDPYKnNp0Uq+V9p0BofdOP7e97P4xpwWdvXrR1aKafmxue5+99AjNn0m/96kQYUN2H8OcUGFPf+RoVB6B1ujPAkebiNQm3th+oq/1p/ZLP+lP0Ug/a+X4sLQfG6kWQXT9/rYWiGwjOALZeyY3HAQkpxkqDMoC+GHd94RrU3mvs364zBxv2REolEZseBvT0CEBR6gVyfLG/e81KkLJZlK16YVw3kR77T/XrYfeK5t900uvTa14m1M1NtnwhqKreFhvc62eT6rvqrC4C6X9lI/dRy7G2PIHTaW+9RVoKyICzd1Thwv+e4IIF2tsP9K/9af9v37UnxSSmZSek/k/plzsnxH0nsVP/8bTtFsWgYyxsWM7tk435WcLFbHNPrgcIuBP+4ILhDh1cWi1Hau7kGwKB8AF54uMQJV+7FOEf3j7srjIY0ues49ASOEAcAApHAAOQEAAOAABAeAABASAAxAQAA5AQAA4AAEB4AAEBIADEBAADkBAADgAAQHgAAQEgAMQEAAOQEAAOAABAeAABASAA8H/UAcAqB1PQPozAKBGkMIB4AAEBIADEBAADkBAADgAAQHgAAQEgAMQEAAOQEAAOAABAeAABASAAxAQAA5AQAA4AAEB4AAEBIAD51tAT99TYe8lTejLZFig94VCwu+ZoJd7BXr/VF/6jL2kPXm3LmX1oAJ6zSrOm9S/5/8mTywBLXwo0N6rZM04KaTv/kR75cNZTKvNwodZynxepd77+obFDq2m05TmElWv+r9HL8f0jUYQEm5QGuREyuZcl7ChW98LrUu4DfvZSer15myG8kV9y2KSVt61UDZx53vBU7iJV3uUvZKnGW2gXrkxqWt99GJ0DNGivtNQOIpmO1kkZe89DeVlew7zFGkjLiwNUYc5J1xWd/n+54OGzMHkDbvt9EMZQ5EOf9df0BE5S6ul7xjz462bWfdih7ru1hZRFm930OrnDP2QsOOvKiAZiKg/20mU6psteQTTW4S9meVJSqlLyaOEvan6TvB8ROi9qvshJX4knKCb36ao+OlNRaPwx+eVssgU7pcqtie0U4nyvnEb33fRzotelmltLHwYpMOHHJV+0zcSZYF6OouUX661l/GY+Md1Su2u09CSvvF0xIvI5c5McbWV1+3wD33F/H5YlxOZXM4T9Y3UJLxaqSogUbF4APFOxXczEd6CDehRho5e6PvpVdrpzJYZUtfdAg0equdXd1OUGfWHJEaq0pug7XTI2FIZyrauqzr2RKnYE7JIbz4VPeFXEp0/vpl3UcuzSEMdfp/Uu2nXTMOk71lqCeZllY74XZbAxm7S9dQObUambtWZvNFRMriEmXg1SF2mgTeUBRrpI0ucCz1dLJC2ivuYyU1ZZ38ueZ4fZFiAmzU7IVp6Qx+LXdRjOb3G4pTCeRNfzNNKYCCcDomRf3uTh23AhtdxW8UBmRy60qbqxROxgVVNb7j9Gb/+/ibvGFqoLeZ+wBMIpw/kR8+6c2J2FHfJ7qeIg/L0RI9Lxr7CQuzqMeT9TSuliodk+NJzSLmBN5JycU5Q2xXJaFpp03BOXXeNzOR+r+eQiB1voTBL1z+xk6pmIxVZpIPPRC1t9a16HNz3QDHy5p1NY/AyOXq/MdHWwgJJ2MCCfJ83nJSh2TpOZxY+ZInCaZiIg6PjrOFFZ/tSulLhje+co5zgR3qTWPRJ2euvsdLa+yuUL6ao9Rt9LaevBZXC+pG9Xuf3xyFnIa1X9VXjcReQH000tRjN4sGR/nQWcEr2WDaz8SOYhxwC8IY28gRNoqPvRf1ieMqzHV89aAP/NZkDlPIMRTgtKqh9Y/HdEx215JCHtwbsrEbqSMXK9lMNJpaAPBWH0zJm8bePVLQGVuOCSErGz7udlMheRCLA6Ue93maWjuggrreVA5Jw6uYTp++y+U21UnL+L/7Yo4g2cAMvEnD7dR39V7YFtccx9rI6lTf3ilbUeNpDLCnjFC8uKl08OkjCPShiCWjx9hOd/uh0xZ9QSY94j9Hi5apS1KY6+veOKJR38UK033bDfgCzT8ikzPYd0WpwSOEbn069OrPqe4Gx6M0rL13WaKNUH9X30Cmd3sQO1uEgghPCR9KHFGUeSfthoaiDEja3UvoTF3YOP5zm7Lw9JxPKMuIgaW9FcXIaPyO/0/jzJk4qWBc5vFGHUcG83m2h/MM6DlUcDnHigj+smDTixS0DMZAI96iV1qPq4uK1X6eBnYo4GX1KWtcmPmlU/1p/rfwjtJz++gdYSeC+BwLVYW+7ustRrK40qBo6wiYkHhUBz7N4quP9GHvFPCVNBkSgM6GCp/QikKRoip0X0Z4UhBHnwSmiviqfN6nvoU2XyB4TCAgAB5DCAeAABASAAxAQAA5AQAA4AAEB4AAEBIADEBAADkBAADgAAQHgAAQEgAMQEAAOQEAA1A3RfwEtDVNOlZxvDAAAAABJRU5ErkJggg==)"
      ],
      "metadata": {
        "id": "6dLsLiLg4zzN"
      }
    },
    {
      "cell_type": "code",
      "source": [
        "len(last_hidden_state)"
      ],
      "metadata": {
        "colab": {
          "base_uri": "https://localhost:8080/"
        },
        "id": "H0O1GGEO5VKm",
        "outputId": "fe431857-1981-4042-f041-bd1b8c5bc286"
      },
      "execution_count": 11,
      "outputs": [
        {
          "output_type": "execute_result",
          "data": {
            "text/plain": [
              "17"
            ]
          },
          "metadata": {},
          "execution_count": 11
        }
      ]
    },
    {
      "cell_type": "markdown",
      "source": [
        "The size [1,7,768] indicates the [batch_size, sequence_length, hidden_size].\n",
        "\n",
        "Our batch size is 1, the sequence length is the token length and since we have 7 tokens the sequence length is 7, and the hidden size is the representation (embedding) size and it is 768 for the BERT-base model.\n",
        "\n",
        "We can obtain the embedding of each token as:\n",
        "\n",
        "- last_hidden[0][0] gives the representation of the first token which is [CLS]\n",
        "- last_hidden[0][1] gives the representation of the second token which is 'I'\n",
        "- last_hidden[0][2] gives the representation of the third token which is 'love'\n",
        "Similarly, we can obtain the representation of all the tokens from the final encoder layer.\n",
        "\n",
        "Next, we have `pooler_output` which contains the representation of the [CLS] token from the final encoder layer which is further processed by a linear and tanh activation function. Let us print the shape of the `pooler_output`:"
      ],
      "metadata": {
        "id": "lj1FTBKD400J"
      }
    },
    {
      "cell_type": "markdown",
      "source": [
        "![image.png](data:image/png;base64,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)"
      ],
      "metadata": {
        "id": "jg7MnOnH5FSJ"
      }
    },
    {
      "cell_type": "markdown",
      "source": [
        "The size [1,768] indicates the [batch_size, hidden_size].\n",
        "\n",
        "We learned that `[CLS]` token holds the aggregate representation of the sentence. Thus, we can use the `pooler_output` as the representation of the given sentence 'I love Paris'.\n",
        "\n",
        "Finally, we have `hidden_states` and it contains the representation of all the tokens obtained from all the final encoder layers. It is a tuple containing 13 values holding the representation of all encoder layers (hidden layers) starting from the input embedding layer to the final encoder layer ."
      ],
      "metadata": {
        "id": "1wOssWUt5JRc"
      }
    },
    {
      "cell_type": "code",
      "source": [
        "len(hidden_states)"
      ],
      "metadata": {
        "colab": {
          "base_uri": "https://localhost:8080/"
        },
        "id": "9D2kptSW4MUg",
        "outputId": "916d1fea-b171-4859-8b64-0f6f305877ce"
      },
      "execution_count": 13,
      "outputs": [
        {
          "output_type": "execute_result",
          "data": {
            "text/plain": [
              "13"
            ]
          },
          "metadata": {},
          "execution_count": 13
        }
      ]
    },
    {
      "cell_type": "markdown",
      "source": [
        "As we can notice, it contains 13 values holding the representation of all layers. Thus:\n",
        "\n",
        "- hidden_states[0] contains the representation of all the tokens obtained from the input embedding layer\n",
        "- hidden_states[1] contains the representation of all the tokens obtained from the first encoder layer\n",
        "- hidden_states[2] contains the representation of all the tokens obtained from the second encoder layer\n",
        "\n",
        "Similarly, hidden_states[12] contains the representation of all the tokens obtained from the final encoder layer Let's explore this more. First, let's print the shape of the hidden_states[0] which contains the representation of all the tokens obtained from the input embedding layer :"
      ],
      "metadata": {
        "id": "J5mcnEs05iq5"
      }
    },
    {
      "cell_type": "markdown",
      "source": [
        "![image.png](data:image/png;base64,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)"
      ],
      "metadata": {
        "id": "gI8D5nGE5xh9"
      }
    },
    {
      "cell_type": "markdown",
      "source": [
        "Sources : https://github.com/PacktPublishing/Getting-Started-with-Google-BERT"
      ],
      "metadata": {
        "id": "eEBGqBwM3v5z"
      }
    }
  ]
}