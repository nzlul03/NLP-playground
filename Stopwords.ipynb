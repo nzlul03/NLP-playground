{
  "nbformat": 4,
  "nbformat_minor": 0,
  "metadata": {
    "colab": {
      "name": "Stopwords.ipynb",
      "provenance": [],
      "authorship_tag": "ABX9TyN78HmFnuAsNpNM1P8bBQkH"
    },
    "kernelspec": {
      "name": "python3",
      "display_name": "Python 3"
    },
    "language_info": {
      "name": "python"
    },
    "accelerator": "GPU",
    "gpuClass": "standard"
  },
  "cells": [
    {
      "cell_type": "markdown",
      "source": [
        "# Stopwords"
      ],
      "metadata": {
        "id": "wtliWZYu6tG1"
      }
    },
    {
      "cell_type": "markdown",
      "source": [
        "Words like \"a\" and \"the\" appear so frequently that they don't require tagging as thoroughly as nouns, verbs and modifiers. We call these stop words, and they can be filtered from the text to be processed. spaCy holds a built-in list of some 305 English stop words."
      ],
      "metadata": {
        "id": "CJn6A-kI6y_L"
      }
    },
    {
      "cell_type": "code",
      "execution_count": 1,
      "metadata": {
        "id": "UdSKFQyn6q09"
      },
      "outputs": [],
      "source": [
        "import spacy\n",
        "nlp = spacy.load('en_core_web_sm')"
      ]
    },
    {
      "cell_type": "markdown",
      "source": [
        "print the set of spaCy's default stopwords"
      ],
      "metadata": {
        "id": "Ypc39E4W624W"
      }
    },
    {
      "cell_type": "code",
      "source": [
        "print(nlp.Defaults.stop_words)"
      ],
      "metadata": {
        "colab": {
          "base_uri": "https://localhost:8080/"
        },
        "id": "S-XC_8Du63bs",
        "outputId": "a175c88f-476f-465e-f590-3efe5f134c1a"
      },
      "execution_count": 2,
      "outputs": [
        {
          "output_type": "stream",
          "name": "stdout",
          "text": [
            "{'someone', 'from', 'have', 'three', 'either', \"n't\", 'always', 'while', 'this', 'onto', 'therein', 'seeming', \"'ve\", 'quite', 'still', 'top', 'those', 'done', 'myself', 'n‘t', 'an', '’d', 'who', 'just', 'has', 'n’t', 'latterly', 'very', 'which', 'your', 'her', 'during', 'throughout', 'keep', \"'m\", 'thereupon', 'doing', 'being', 'mostly', 'hereby', 'cannot', 'ever', 'another', 'herein', 'herself', 'other', 'more', 'does', 'than', 'seem', 'becomes', 'else', 'be', 'anyway', \"'d\", 'within', 'why', 'somehow', 'six', 'fifty', 'can', 'seemed', 'by', 'formerly', 'every', 'beyond', 'full', 'side', 'namely', '’s', 'such', 'otherwise', 'might', 'then', 'do', 'yourselves', 'really', 'behind', 'we', 'whence', 'would', 'move', 'due', 'him', 'much', 'take', 'whereby', 'third', 'anyone', 'but', 'please', 'serious', 'did', 'as', 'may', 'out', 'yourself', 'them', 'empty', 'up', 'two', 'meanwhile', 'its', 'that', 'anywhere', 'towards', 'thence', 'been', \"'s\", 'the', 'at', 'seems', 'thus', '’ll', 'hereafter', 'latter', 'must', 'twenty', 'say', 'toward', 'whole', 'except', 'everyone', 'of', 'twelve', 'for', 'hereupon', 'his', 'my', 'itself', 'will', 'eight', 'less', '‘m', 'also', 'one', 'could', 'few', 'noone', 'nor', 'any', 'they', 'again', 'along', 'i', 'hundred', 'whereafter', 'make', 'beforehand', 'below', 'becoming', 'how', 'well', 'anything', 'several', 'see', 'what', 'among', 'under', 'it', 'together', 'therefore', 'between', 'thru', 'bottom', '’ve', 'moreover', 'down', 'only', 'ours', 'made', 'part', 'had', 'about', 'if', 'alone', 'next', 'whose', 'unless', 'per', 'when', 'beside', 'whom', 'yours', 'besides', 'all', 'through', 'nine', 'over', 'their', 'fifteen', 'into', 'without', 'least', 'last', 'though', 'whereas', 'via', 'she', 'and', 'however', 'nothing', 'each', 'nobody', 'was', 'not', 'never', \"'ll\", 'no', '’re', 'give', 'upon', 'mine', 'put', 'am', 'across', 'others', 'hence', 'five', '‘d', 'a', 'these', '‘ve', 'used', 'four', 'amongst', 'first', 'often', 'amount', 'because', 'whether', 'further', 'in', 'us', 'name', 'ten', '‘s', 'something', '‘re', 'neither', 'after', 're', 'enough', 'own', 'show', 'themselves', 'somewhere', 'there', 'rather', 'above', 'call', 'front', 'sometime', 'whereupon', 'with', 'were', 'yet', 'using', 'himself', 'since', 'or', 'same', 'elsewhere', 'against', 'whenever', 'many', 'are', 'go', 'wherein', 'to', 'until', 'ca', 'thereby', 'although', 'everything', 'almost', 'sixty', 'whither', 'wherever', 'now', 'so', 'already', 'became', 'hers', 'everywhere', 'some', 'should', 'both', 'you', 'here', 'ourselves', 'me', 'various', 'anyhow', 'forty', 'is', 'even', 'afterwards', 'once', 'regarding', 'indeed', 'on', 'most', 'off', 'nowhere', 'where', '’m', 'nevertheless', 'perhaps', 'around', 'become', 'whatever', 'thereafter', 'before', 'former', 'our', 'sometimes', 'back', 'he', 'none', '‘ll', 'whoever', \"'re\", 'too', 'eleven', 'get'}\n"
          ]
        }
      ]
    },
    {
      "cell_type": "code",
      "source": [
        "len(nlp.Defaults.stop_words)"
      ],
      "metadata": {
        "colab": {
          "base_uri": "https://localhost:8080/"
        },
        "id": "f-4NnJbQ68-8",
        "outputId": "30fb6937-fb54-42c8-d6d1-72e6b50d0a50"
      },
      "execution_count": 3,
      "outputs": [
        {
          "output_type": "execute_result",
          "data": {
            "text/plain": [
              "326"
            ]
          },
          "metadata": {},
          "execution_count": 3
        }
      ]
    },
    {
      "cell_type": "markdown",
      "source": [
        "### To see if a word is a stopword"
      ],
      "metadata": {
        "id": "GPSyIybs62Uj"
      }
    },
    {
      "cell_type": "code",
      "source": [
        "nlp.vocab['myself'].is_stop"
      ],
      "metadata": {
        "colab": {
          "base_uri": "https://localhost:8080/"
        },
        "id": "mWsFed8F7EYs",
        "outputId": "bc44e0fc-0dc1-4051-ee81-73274d6c08af"
      },
      "execution_count": 4,
      "outputs": [
        {
          "output_type": "execute_result",
          "data": {
            "text/plain": [
              "True"
            ]
          },
          "metadata": {},
          "execution_count": 4
        }
      ]
    },
    {
      "cell_type": "code",
      "source": [
        "nlp.vocab['mystery'].is_stop"
      ],
      "metadata": {
        "colab": {
          "base_uri": "https://localhost:8080/"
        },
        "id": "BOBKjtea7IQs",
        "outputId": "d7a43a53-5528-4aa4-fef7-0aec1c2dffdf"
      },
      "execution_count": 5,
      "outputs": [
        {
          "output_type": "execute_result",
          "data": {
            "text/plain": [
              "False"
            ]
          },
          "metadata": {},
          "execution_count": 5
        }
      ]
    },
    {
      "cell_type": "markdown",
      "source": [
        "### To add a stopword"
      ],
      "metadata": {
        "id": "WSXeAV2r7LLu"
      }
    },
    {
      "cell_type": "markdown",
      "source": [
        "There may be times when you wish to add a stop word to the default set. Perhaps you decide that `'btw'` should be considered a stop word."
      ],
      "metadata": {
        "id": "zTBno3b67O-I"
      }
    },
    {
      "cell_type": "code",
      "source": [
        "nlp.Defaults.stop_words.add('btw')"
      ],
      "metadata": {
        "id": "vR5OuwXd7Mdt"
      },
      "execution_count": 6,
      "outputs": []
    },
    {
      "cell_type": "code",
      "source": [
        "nlp.vocab['btw'].is_stop = True"
      ],
      "metadata": {
        "id": "IYzFUDYW8QtD"
      },
      "execution_count": 7,
      "outputs": []
    },
    {
      "cell_type": "code",
      "source": [
        "len(nlp.Defaults.stop_words)"
      ],
      "metadata": {
        "colab": {
          "base_uri": "https://localhost:8080/"
        },
        "id": "SWDhNSOQ8Uic",
        "outputId": "1f757583-8b5e-4ddd-9f7b-2d960b427bca"
      },
      "execution_count": 8,
      "outputs": [
        {
          "output_type": "execute_result",
          "data": {
            "text/plain": [
              "327"
            ]
          },
          "metadata": {},
          "execution_count": 8
        }
      ]
    },
    {
      "cell_type": "code",
      "source": [
        "nlp.vocab['btw'].is_stop"
      ],
      "metadata": {
        "colab": {
          "base_uri": "https://localhost:8080/"
        },
        "id": "KxMVSgSa8Vq8",
        "outputId": "1e2532d0-3b7c-4fb0-b1bd-874f0955b7b0"
      },
      "execution_count": 9,
      "outputs": [
        {
          "output_type": "execute_result",
          "data": {
            "text/plain": [
              "True"
            ]
          },
          "metadata": {},
          "execution_count": 9
        }
      ]
    },
    {
      "cell_type": "markdown",
      "source": [
        "### To remove a stopword"
      ],
      "metadata": {
        "id": "5b9ZPc-z8Xus"
      }
    },
    {
      "cell_type": "code",
      "source": [
        "nlp.Defaults.stop_words.remove('beyond')"
      ],
      "metadata": {
        "id": "rsKymKi78YQd"
      },
      "execution_count": 11,
      "outputs": []
    },
    {
      "cell_type": "code",
      "source": [
        "nlp.vocab['beyond'].is_stop = False"
      ],
      "metadata": {
        "id": "pMHv3Xa68eSb"
      },
      "execution_count": 12,
      "outputs": []
    },
    {
      "cell_type": "code",
      "source": [
        "nlp.vocab['beyond'].is_stop"
      ],
      "metadata": {
        "colab": {
          "base_uri": "https://localhost:8080/"
        },
        "id": "00Ayf3zs8ffD",
        "outputId": "dd8a8773-e72b-434d-e59f-c01a32dc5b86"
      },
      "execution_count": 13,
      "outputs": [
        {
          "output_type": "execute_result",
          "data": {
            "text/plain": [
              "False"
            ]
          },
          "metadata": {},
          "execution_count": 13
        }
      ]
    }
  ]
}