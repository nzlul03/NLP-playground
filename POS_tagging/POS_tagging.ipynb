{
  "nbformat": 4,
  "nbformat_minor": 0,
  "metadata": {
    "colab": {
      "provenance": [],
      "authorship_tag": "ABX9TyNj7qLTdyoccsjsqjH5sM3L"
    },
    "kernelspec": {
      "name": "python3",
      "display_name": "Python 3"
    },
    "language_info": {
      "name": "python"
    }
  },
  "cells": [
    {
      "cell_type": "markdown",
      "source": [
        "# POS Tagging NLTK"
      ],
      "metadata": {
        "id": "rtAtwmBjlPcQ"
      }
    },
    {
      "cell_type": "code",
      "execution_count": 1,
      "metadata": {
        "id": "V4SC0B1OlNJU"
      },
      "outputs": [],
      "source": [
        "import nltk\n",
        "from nltk.tokenize import word_tokenize"
      ]
    },
    {
      "cell_type": "code",
      "source": [
        "sentence = 'The series depicts the story of three poor sisters who are close, their involvement in the case of 70 billion won which goes missing'"
      ],
      "metadata": {
        "id": "Ks90HDZQlcSf"
      },
      "execution_count": 2,
      "outputs": []
    },
    {
      "cell_type": "code",
      "source": [
        "import nltk\n",
        "nltk.download('punkt')\n",
        "nltk.download('averaged_perceptron_tagger')"
      ],
      "metadata": {
        "colab": {
          "base_uri": "https://localhost:8080/"
        },
        "id": "A15DdxAoluPp",
        "outputId": "99af98f3-64e4-4d49-d16a-8749a3f3dffc"
      },
      "execution_count": 8,
      "outputs": [
        {
          "output_type": "stream",
          "name": "stderr",
          "text": [
            "[nltk_data] Downloading package punkt to /root/nltk_data...\n",
            "[nltk_data]   Package punkt is already up-to-date!\n",
            "[nltk_data] Downloading package averaged_perceptron_tagger to\n",
            "[nltk_data]     /root/nltk_data...\n",
            "[nltk_data]   Unzipping taggers/averaged_perceptron_tagger.zip.\n"
          ]
        },
        {
          "output_type": "execute_result",
          "data": {
            "text/plain": [
              "True"
            ]
          },
          "metadata": {},
          "execution_count": 8
        }
      ]
    },
    {
      "cell_type": "markdown",
      "source": [
        "## POS Tagging spaCy"
      ],
      "metadata": {
        "id": "wXWP1oWqlR0u"
      }
    },
    {
      "cell_type": "code",
      "source": [
        "token = word_tokenize(sentence)\n",
        "token"
      ],
      "metadata": {
        "colab": {
          "base_uri": "https://localhost:8080/"
        },
        "id": "tyz7klEclbfn",
        "outputId": "cf71c445-9203-44f9-d131-f8e7e38291fb"
      },
      "execution_count": 9,
      "outputs": [
        {
          "output_type": "execute_result",
          "data": {
            "text/plain": [
              "['The',\n",
              " 'series',\n",
              " 'depicts',\n",
              " 'the',\n",
              " 'story',\n",
              " 'of',\n",
              " 'three',\n",
              " 'poor',\n",
              " 'sisters',\n",
              " 'who',\n",
              " 'are',\n",
              " 'close',\n",
              " ',',\n",
              " 'their',\n",
              " 'involvement',\n",
              " 'in',\n",
              " 'the',\n",
              " 'case',\n",
              " 'of',\n",
              " '70',\n",
              " 'billion',\n",
              " 'won',\n",
              " 'which',\n",
              " 'goes',\n",
              " 'missing']"
            ]
          },
          "metadata": {},
          "execution_count": 9
        }
      ]
    },
    {
      "cell_type": "code",
      "source": [
        "tagged = nltk.pos_tag(token)\n",
        "tagged"
      ],
      "metadata": {
        "colab": {
          "base_uri": "https://localhost:8080/"
        },
        "id": "q32M-CD9lbij",
        "outputId": "36bd13c4-82c0-4728-a426-83d7b2f5b5bf"
      },
      "execution_count": 10,
      "outputs": [
        {
          "output_type": "execute_result",
          "data": {
            "text/plain": [
              "[('The', 'DT'),\n",
              " ('series', 'NN'),\n",
              " ('depicts', 'VBZ'),\n",
              " ('the', 'DT'),\n",
              " ('story', 'NN'),\n",
              " ('of', 'IN'),\n",
              " ('three', 'CD'),\n",
              " ('poor', 'JJ'),\n",
              " ('sisters', 'NNS'),\n",
              " ('who', 'WP'),\n",
              " ('are', 'VBP'),\n",
              " ('close', 'RB'),\n",
              " (',', ','),\n",
              " ('their', 'PRP$'),\n",
              " ('involvement', 'NN'),\n",
              " ('in', 'IN'),\n",
              " ('the', 'DT'),\n",
              " ('case', 'NN'),\n",
              " ('of', 'IN'),\n",
              " ('70', 'CD'),\n",
              " ('billion', 'CD'),\n",
              " ('won', 'VBD'),\n",
              " ('which', 'WDT'),\n",
              " ('goes', 'VBZ'),\n",
              " ('missing', 'VBG')]"
            ]
          },
          "metadata": {},
          "execution_count": 10
        }
      ]
    },
    {
      "cell_type": "code",
      "source": [
        "grammar = ('''\n",
        "    NP: {<DT>?<JJ>*<NN>}\n",
        "''')"
      ],
      "metadata": {
        "id": "1cR2lhHelU_2"
      },
      "execution_count": 11,
      "outputs": []
    },
    {
      "cell_type": "code",
      "source": [
        "chunkParser = nltk.RegexpParser(grammar)\n",
        "tree = chunkParser.parse(tagged)\n",
        "for subtree in tree.subtrees():\n",
        "    print(subtree)"
      ],
      "metadata": {
        "colab": {
          "base_uri": "https://localhost:8080/"
        },
        "id": "tvNnefkdl8oK",
        "outputId": "8eb3c54f-0961-43d6-ae55-52cacb64f2f8"
      },
      "execution_count": 12,
      "outputs": [
        {
          "output_type": "stream",
          "name": "stdout",
          "text": [
            "(S\n",
            "  (NP The/DT series/NN)\n",
            "  depicts/VBZ\n",
            "  (NP the/DT story/NN)\n",
            "  of/IN\n",
            "  three/CD\n",
            "  poor/JJ\n",
            "  sisters/NNS\n",
            "  who/WP\n",
            "  are/VBP\n",
            "  close/RB\n",
            "  ,/,\n",
            "  their/PRP$\n",
            "  (NP involvement/NN)\n",
            "  in/IN\n",
            "  (NP the/DT case/NN)\n",
            "  of/IN\n",
            "  70/CD\n",
            "  billion/CD\n",
            "  won/VBD\n",
            "  which/WDT\n",
            "  goes/VBZ\n",
            "  missing/VBG)\n",
            "(NP The/DT series/NN)\n",
            "(NP the/DT story/NN)\n",
            "(NP involvement/NN)\n",
            "(NP the/DT case/NN)\n"
          ]
        }
      ]
    },
    {
      "cell_type": "code",
      "source": [],
      "metadata": {
        "id": "HQnG9ua6mbv-"
      },
      "execution_count": null,
      "outputs": []
    }
  ]
}