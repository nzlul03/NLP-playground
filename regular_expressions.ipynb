{
  "nbformat": 4,
  "nbformat_minor": 0,
  "metadata": {
    "colab": {
      "name": "regular-expressions.ipynb",
      "provenance": [],
      "authorship_tag": "ABX9TyMAVBzs2QZTYWsfiL/YbRqh",
      "include_colab_link": true
    },
    "kernelspec": {
      "name": "python3",
      "display_name": "Python 3"
    },
    "language_info": {
      "name": "python"
    },
    "accelerator": "GPU",
    "gpuClass": "standard"
  },
  "cells": [
    {
      "cell_type": "markdown",
      "metadata": {
        "id": "view-in-github",
        "colab_type": "text"
      },
      "source": [
        "<a href=\"https://colab.research.google.com/github/nzlul03/NLP-python-playground/blob/main/regular_expressions.ipynb\" target=\"_parent\"><img src=\"https://colab.research.google.com/assets/colab-badge.svg\" alt=\"Open In Colab\"/></a>"
      ]
    },
    {
      "cell_type": "markdown",
      "source": [
        "## **Regular Expression**"
      ],
      "metadata": {
        "id": "emG3jeOMD87C"
      }
    },
    {
      "cell_type": "markdown",
      "source": [
        "**Regular Expressions** (regex) allow a user to search for **strings** using almost any sort of rule they can come up with. "
      ],
      "metadata": {
        "id": "UYeJ4ao9JHni"
      }
    },
    {
      "cell_type": "markdown",
      "source": [
        "See [the docs](https://docs.python.org/3/library/re.html) for more information."
      ],
      "metadata": {
        "id": "1k0Z6d7KJedW"
      }
    },
    {
      "cell_type": "markdown",
      "source": [
        "## 1. Searching for Basic Patterns"
      ],
      "metadata": {
        "id": "hHEpF4hHJkFE"
      }
    },
    {
      "cell_type": "code",
      "source": [
        "text = \"The agent's phone number is 408-555-1234. Call soon!\""
      ],
      "metadata": {
        "id": "IAIgdTFAJnVr"
      },
      "execution_count": 1,
      "outputs": []
    },
    {
      "cell_type": "code",
      "source": [
        "#  find out if the string \"phone\" is inside the text string.\n",
        "'phone' in text"
      ],
      "metadata": {
        "colab": {
          "base_uri": "https://localhost:8080/"
        },
        "id": "j0pF9aiqJryt",
        "outputId": "f3ab29ac-b179-4de0-cbea-43d2b1b5ac82"
      },
      "execution_count": 2,
      "outputs": [
        {
          "output_type": "execute_result",
          "data": {
            "text/plain": [
              "True"
            ]
          },
          "metadata": {},
          "execution_count": 2
        }
      ]
    },
    {
      "cell_type": "code",
      "source": [
        "import re"
      ],
      "metadata": {
        "id": "gzsu8B8vJxMA"
      },
      "execution_count": 3,
      "outputs": []
    },
    {
      "cell_type": "code",
      "source": [
        "pattern = 'phone'"
      ],
      "metadata": {
        "id": "MYIuD-syJz8D"
      },
      "execution_count": 4,
      "outputs": []
    },
    {
      "cell_type": "code",
      "source": [
        "re.search(pattern,text)"
      ],
      "metadata": {
        "colab": {
          "base_uri": "https://localhost:8080/"
        },
        "id": "0PLMUxtqLTTs",
        "outputId": "0b25181e-4777-4537-85c0-44f355b63987"
      },
      "execution_count": 5,
      "outputs": [
        {
          "output_type": "execute_result",
          "data": {
            "text/plain": [
              "<re.Match object; span=(12, 17), match='phone'>"
            ]
          },
          "metadata": {},
          "execution_count": 5
        }
      ]
    },
    {
      "cell_type": "code",
      "source": [
        "pattern = \"NOT IN TEXT\""
      ],
      "metadata": {
        "id": "eoImqqovLYOJ"
      },
      "execution_count": 6,
      "outputs": []
    },
    {
      "cell_type": "code",
      "source": [
        "re.search(pattern, text)"
      ],
      "metadata": {
        "id": "2ulPNVg7LaeE"
      },
      "execution_count": 7,
      "outputs": []
    },
    {
      "cell_type": "markdown",
      "source": [
        "Now we've seen that re.search() will take the pattern, scan the text, and then returns a Match object. If no pattern is found, a None is returned"
      ],
      "metadata": {
        "id": "Dlzow1l7Li2i"
      }
    },
    {
      "cell_type": "code",
      "source": [
        "pattern = 'phone'"
      ],
      "metadata": {
        "id": "2_cER715Lcvk"
      },
      "execution_count": 8,
      "outputs": []
    },
    {
      "cell_type": "code",
      "source": [
        "match = re.search(pattern,text)"
      ],
      "metadata": {
        "id": "rbNiGfwiLmz8"
      },
      "execution_count": 9,
      "outputs": []
    },
    {
      "cell_type": "code",
      "source": [
        "match"
      ],
      "metadata": {
        "colab": {
          "base_uri": "https://localhost:8080/"
        },
        "id": "4QoMpK38LoFN",
        "outputId": "3f3afc35-271f-4221-bccf-4c26e3dbaf2d"
      },
      "execution_count": 10,
      "outputs": [
        {
          "output_type": "execute_result",
          "data": {
            "text/plain": [
              "<re.Match object; span=(12, 17), match='phone'>"
            ]
          },
          "metadata": {},
          "execution_count": 10
        }
      ]
    },
    {
      "cell_type": "markdown",
      "source": [
        "Notice the span, there is also a start and end index information."
      ],
      "metadata": {
        "id": "2Z5hYB52Lqq4"
      }
    },
    {
      "cell_type": "code",
      "source": [
        "match.span()"
      ],
      "metadata": {
        "colab": {
          "base_uri": "https://localhost:8080/"
        },
        "id": "vuY4lNcALoiM",
        "outputId": "da2474b9-4654-46b2-c9d3-a2971cadf47c"
      },
      "execution_count": 11,
      "outputs": [
        {
          "output_type": "execute_result",
          "data": {
            "text/plain": [
              "(12, 17)"
            ]
          },
          "metadata": {},
          "execution_count": 11
        }
      ]
    },
    {
      "cell_type": "code",
      "source": [
        "match.start()"
      ],
      "metadata": {
        "colab": {
          "base_uri": "https://localhost:8080/"
        },
        "id": "hfFJQRPjMVNP",
        "outputId": "09274517-e45f-4741-bde4-c8ad3fcf3526"
      },
      "execution_count": 12,
      "outputs": [
        {
          "output_type": "execute_result",
          "data": {
            "text/plain": [
              "12"
            ]
          },
          "metadata": {},
          "execution_count": 12
        }
      ]
    },
    {
      "cell_type": "code",
      "source": [
        "match.end()"
      ],
      "metadata": {
        "colab": {
          "base_uri": "https://localhost:8080/"
        },
        "id": "CfJqFkJ5MVpH",
        "outputId": "de929dd5-0520-4221-9380-6c2b709e06ec"
      },
      "execution_count": 13,
      "outputs": [
        {
          "output_type": "execute_result",
          "data": {
            "text/plain": [
              "17"
            ]
          },
          "metadata": {},
          "execution_count": 13
        }
      ]
    },
    {
      "cell_type": "markdown",
      "source": [
        "But what if the pattern occurs more than once?"
      ],
      "metadata": {
        "id": "BBkx6jSBMZOA"
      }
    },
    {
      "cell_type": "code",
      "source": [
        "text = \"my phone is a new phone\""
      ],
      "metadata": {
        "id": "cmmuVirWMaUS"
      },
      "execution_count": 14,
      "outputs": []
    },
    {
      "cell_type": "code",
      "source": [
        "match = re.search(\"phone\",text)"
      ],
      "metadata": {
        "id": "GU97e3lfMbqJ"
      },
      "execution_count": 15,
      "outputs": []
    },
    {
      "cell_type": "code",
      "source": [
        "match.span()"
      ],
      "metadata": {
        "colab": {
          "base_uri": "https://localhost:8080/"
        },
        "id": "VvAjQoSFMfpd",
        "outputId": "b5698483-7ec1-4860-de41-c5af48845ead"
      },
      "execution_count": 16,
      "outputs": [
        {
          "output_type": "execute_result",
          "data": {
            "text/plain": [
              "(3, 8)"
            ]
          },
          "metadata": {},
          "execution_count": 16
        }
      ]
    },
    {
      "cell_type": "markdown",
      "source": [
        "Notice it only matches the first instance. If we wanted a list of all matches, we can use `.findall()` method:"
      ],
      "metadata": {
        "id": "eFYOpKbnMjUi"
      }
    },
    {
      "cell_type": "code",
      "source": [
        "matches = re.findall(\"phone\", text)"
      ],
      "metadata": {
        "id": "fQ8Z6gJ3Mi2X"
      },
      "execution_count": 17,
      "outputs": []
    },
    {
      "cell_type": "code",
      "source": [
        "matches"
      ],
      "metadata": {
        "colab": {
          "base_uri": "https://localhost:8080/"
        },
        "id": "4_NfyOvfMssk",
        "outputId": "d7740f43-d477-423f-dbc7-4ec565348bb0"
      },
      "execution_count": 18,
      "outputs": [
        {
          "output_type": "execute_result",
          "data": {
            "text/plain": [
              "['phone', 'phone']"
            ]
          },
          "metadata": {},
          "execution_count": 18
        }
      ]
    },
    {
      "cell_type": "code",
      "source": [
        "len(matches)"
      ],
      "metadata": {
        "colab": {
          "base_uri": "https://localhost:8080/"
        },
        "id": "iM6EsEk3MtK0",
        "outputId": "4e2aa705-11d3-417e-8944-9c1e3ebe6e28"
      },
      "execution_count": 19,
      "outputs": [
        {
          "output_type": "execute_result",
          "data": {
            "text/plain": [
              "2"
            ]
          },
          "metadata": {},
          "execution_count": 19
        }
      ]
    },
    {
      "cell_type": "markdown",
      "source": [
        "To get actual match objects, use the iterator:"
      ],
      "metadata": {
        "id": "VXZArn4wMyHB"
      }
    },
    {
      "cell_type": "code",
      "source": [
        "for match in re.finditer(\"phone\", text):\n",
        "  print(match.span())"
      ],
      "metadata": {
        "colab": {
          "base_uri": "https://localhost:8080/"
        },
        "id": "KKXFRJgKMuE0",
        "outputId": "7435130c-f4be-4cad-aeac-2ea7b353cd86"
      },
      "execution_count": 20,
      "outputs": [
        {
          "output_type": "stream",
          "name": "stdout",
          "text": [
            "(3, 8)\n",
            "(18, 23)\n"
          ]
        }
      ]
    },
    {
      "cell_type": "markdown",
      "source": [
        "If you wanted the actual text that matched, you can use the .group() method."
      ],
      "metadata": {
        "id": "mFJz4wiINWgC"
      }
    },
    {
      "cell_type": "code",
      "source": [
        "match.group()"
      ],
      "metadata": {
        "colab": {
          "base_uri": "https://localhost:8080/",
          "height": 36
        },
        "id": "QoqfDDiENTQs",
        "outputId": "18ff80f9-f5c9-4c4a-cac9-d721ba9e9c07"
      },
      "execution_count": 21,
      "outputs": [
        {
          "output_type": "execute_result",
          "data": {
            "text/plain": [
              "'phone'"
            ],
            "application/vnd.google.colaboratory.intrinsic+json": {
              "type": "string"
            }
          },
          "metadata": {},
          "execution_count": 21
        }
      ]
    },
    {
      "cell_type": "markdown",
      "source": [
        "# 2. Patterns"
      ],
      "metadata": {
        "id": "j3GCJLNPNdho"
      }
    },
    {
      "cell_type": "markdown",
      "source": [
        "What about more complex examples? Such as trying to find a telephone number in a large string of text? Or an email address?"
      ],
      "metadata": {
        "id": "hPoznZkUNnQ5"
      }
    },
    {
      "cell_type": "markdown",
      "source": [
        "We could just use search method if we know the exact phone or email, but what if we don't know it? We may know the general format, and we can use that along with regular expressions to search the document for strings that match a particular pattern."
      ],
      "metadata": {
        "id": "_rbEs80WNoOG"
      }
    },
    {
      "cell_type": "markdown",
      "source": [
        "## 2.1 Identifiers for Characters in Patterns"
      ],
      "metadata": {
        "id": "SsZipCLeNzYL"
      }
    },
    {
      "cell_type": "markdown",
      "source": [
        "Characters such as a **digit** or **a single string** have different codes that represent them. You can use these to build up a pattern string. Notice how these make heavy use of the backwards slash.\n",
        "\n",
        "\n",
        "when defining a pattern string for regular expression we use the format:\n",
        "\n",
        "    r'mypattern'\n",
        "    \n",
        "placing the r in front of the string allows python to understand that the \\ in the pattern string are not meant to be escape slashes.\n",
        "\n",
        "Below you can find a table of all the possible identifiers:\n"
      ],
      "metadata": {
        "id": "f1xHLe7cOFMc"
      }
    },
    {
      "cell_type": "markdown",
      "source": [
        "<table ><tr><th>Character</th><th>Description</th><th>Example Pattern Code</th><th >Exammple Match</th></tr>\n",
        "\n",
        "<tr ><td><span >\\d</span></td><td>A digit</td><td>file_\\d\\d</td><td>file_25</td></tr>\n",
        "\n",
        "<tr ><td><span >\\w</span></td><td>Alphanumeric</td><td>\\w-\\w\\w\\w</td><td>A-b_1</td></tr>\n",
        "\n",
        "\n",
        "\n",
        "<tr ><td><span >\\s</span></td><td>White space</td><td>a\\sb\\sc</td><td>a b c</td></tr>\n",
        "\n",
        "\n",
        "\n",
        "<tr ><td><span >\\D</span></td><td>A non digit</td><td>\\D\\D\\D</td><td>ABC</td></tr>\n",
        "\n",
        "<tr ><td><span >\\W</span></td><td>Non-alphanumeric</td><td>\\W\\W\\W\\W\\W</td><td>*-+=)</td></tr>\n",
        "\n",
        "<tr ><td><span >\\S</span></td><td>Non-whitespace</td><td>\\S\\S\\S\\S</td><td>Yoyo</td></tr></table>"
      ],
      "metadata": {
        "id": "wVOZoOIEOraQ"
      }
    },
    {
      "cell_type": "code",
      "source": [
        "text = \"My telephone number is 408-555-1234\""
      ],
      "metadata": {
        "id": "w_yRJyB7NcHt"
      },
      "execution_count": 22,
      "outputs": []
    },
    {
      "cell_type": "code",
      "source": [
        "phone = re.search(r'\\d\\d\\d-\\d\\d\\d-\\d\\d\\d\\d',text)"
      ],
      "metadata": {
        "id": "USX_x8KJNcz5"
      },
      "execution_count": 23,
      "outputs": []
    },
    {
      "cell_type": "code",
      "source": [
        "phone.group()"
      ],
      "metadata": {
        "id": "4B3RZXJVNc3A",
        "colab": {
          "base_uri": "https://localhost:8080/",
          "height": 36
        },
        "outputId": "16c789b4-f736-42ba-8639-86020775f70c"
      },
      "execution_count": 24,
      "outputs": [
        {
          "output_type": "execute_result",
          "data": {
            "text/plain": [
              "'408-555-1234'"
            ],
            "application/vnd.google.colaboratory.intrinsic+json": {
              "type": "string"
            }
          },
          "metadata": {},
          "execution_count": 24
        }
      ]
    },
    {
      "cell_type": "markdown",
      "source": [
        "## 2.2 Quantifiers\n"
      ],
      "metadata": {
        "id": "OSSRTQ12XkL0"
      }
    },
    {
      "cell_type": "markdown",
      "source": [
        "Now that we know the special character designations, we can use them along with quantifiers to define how many we expect."
      ],
      "metadata": {
        "id": "9GsHFpXkXpga"
      }
    },
    {
      "cell_type": "markdown",
      "source": [
        "<table ><tr><th>Character</th><th>Description</th><th>Example Pattern Code</th><th >Exammple Match</th></tr>\n",
        "\n",
        "<tr ><td><span >+</span></td><td>Occurs one or more times</td><td>\tVersion \\w-\\w+</td><td>Version A-b1_1</td></tr>\n",
        "\n",
        "<tr ><td><span >{3}</span></td><td>Occurs exactly 3 times</td><td>\\D{3}</td><td>abc</td></tr>\n",
        "\n",
        "\n",
        "\n",
        "<tr ><td><span >{2,4}</span></td><td>Occurs 2 to 4 times</td><td>\\d{2,4}</td><td>123</td></tr>\n",
        "\n",
        "\n",
        "\n",
        "<tr ><td><span >{3,}</span></td><td>Occurs 3 or more</td><td>\\w{3,}</td><td>anycharacters</td></tr>\n",
        "\n",
        "<tr ><td><span >\\*</span></td><td>Occurs zero or more times</td><td>A\\*B\\*C*</td><td>AAACC</td></tr>\n",
        "\n",
        "<tr ><td><span >?</span></td><td>Once or none</td><td>plurals?</td><td>plural</td></tr></table>"
      ],
      "metadata": {
        "id": "tjMfymAdXtey"
      }
    },
    {
      "cell_type": "code",
      "source": [
        "re.search(r'\\d{3}-\\d{3}-\\d{4}',text)"
      ],
      "metadata": {
        "id": "zeaFQ9TQNc6A",
        "colab": {
          "base_uri": "https://localhost:8080/"
        },
        "outputId": "dd3aacae-70da-42a1-a8a5-5a7e8870a317"
      },
      "execution_count": 25,
      "outputs": [
        {
          "output_type": "execute_result",
          "data": {
            "text/plain": [
              "<re.Match object; span=(23, 35), match='408-555-1234'>"
            ]
          },
          "metadata": {},
          "execution_count": 25
        }
      ]
    },
    {
      "cell_type": "markdown",
      "source": [
        "# 3. Group"
      ],
      "metadata": {
        "id": "-oGFbzL1YrOt"
      }
    },
    {
      "cell_type": "markdown",
      "source": [
        "What if we wanted to do **two tasks**:\n",
        "- Find phone numbers, but also be able to\n",
        "- Quickly extract their area code (the first three digits). \n",
        "\n",
        "\n",
        "We can use groups for any general task that involves grouping together regular expressions (so that we can later break them down)."
      ],
      "metadata": {
        "id": "DVrwRUuRYuvV"
      }
    },
    {
      "cell_type": "code",
      "source": [
        "phone_pattern = re.compile(r'(\\d{3})-(\\d{3})-(\\d{4})')"
      ],
      "metadata": {
        "id": "cDkmR3SOWRr7"
      },
      "execution_count": 26,
      "outputs": []
    },
    {
      "cell_type": "code",
      "source": [
        "results = re.search(phone_pattern,text)"
      ],
      "metadata": {
        "id": "h9J0UE7qWSGe"
      },
      "execution_count": 27,
      "outputs": []
    },
    {
      "cell_type": "code",
      "source": [
        "results.group()"
      ],
      "metadata": {
        "colab": {
          "base_uri": "https://localhost:8080/",
          "height": 36
        },
        "id": "Nl26yVXfY6ql",
        "outputId": "ae3a8680-a623-48ca-9616-2cede17d808e"
      },
      "execution_count": 28,
      "outputs": [
        {
          "output_type": "execute_result",
          "data": {
            "text/plain": [
              "'408-555-1234'"
            ],
            "application/vnd.google.colaboratory.intrinsic+json": {
              "type": "string"
            }
          },
          "metadata": {},
          "execution_count": 28
        }
      ]
    },
    {
      "cell_type": "code",
      "source": [
        "results.group(1)"
      ],
      "metadata": {
        "colab": {
          "base_uri": "https://localhost:8080/",
          "height": 36
        },
        "id": "4lDy_B_kY6tN",
        "outputId": "737dfd95-b220-48e0-fd73-b01ce3f1eda2"
      },
      "execution_count": 29,
      "outputs": [
        {
          "output_type": "execute_result",
          "data": {
            "text/plain": [
              "'408'"
            ],
            "application/vnd.google.colaboratory.intrinsic+json": {
              "type": "string"
            }
          },
          "metadata": {},
          "execution_count": 29
        }
      ]
    },
    {
      "cell_type": "code",
      "source": [
        "results.group(2)"
      ],
      "metadata": {
        "colab": {
          "base_uri": "https://localhost:8080/",
          "height": 36
        },
        "id": "YsawjjtzY6vj",
        "outputId": "1e41eeb6-22b4-4491-c356-df1c7bfa6b11"
      },
      "execution_count": 30,
      "outputs": [
        {
          "output_type": "execute_result",
          "data": {
            "text/plain": [
              "'555'"
            ],
            "application/vnd.google.colaboratory.intrinsic+json": {
              "type": "string"
            }
          },
          "metadata": {},
          "execution_count": 30
        }
      ]
    },
    {
      "cell_type": "code",
      "source": [
        "results.group(3)"
      ],
      "metadata": {
        "colab": {
          "base_uri": "https://localhost:8080/",
          "height": 36
        },
        "id": "yx9yzQXKY6yr",
        "outputId": "895ae975-f3f1-4631-ec44-884a03bc3ba1"
      },
      "execution_count": 31,
      "outputs": [
        {
          "output_type": "execute_result",
          "data": {
            "text/plain": [
              "'1234'"
            ],
            "application/vnd.google.colaboratory.intrinsic+json": {
              "type": "string"
            }
          },
          "metadata": {},
          "execution_count": 31
        }
      ]
    },
    {
      "cell_type": "markdown",
      "source": [
        "# Additional Regex Syntax"
      ],
      "metadata": {
        "id": "UL1I2ecNZ0-S"
      }
    },
    {
      "cell_type": "markdown",
      "source": [
        "### Or Operator |"
      ],
      "metadata": {
        "id": "dQb4GDPQZ4X7"
      }
    },
    {
      "cell_type": "markdown",
      "source": [
        "Use the pipe operator to have an **or** statment"
      ],
      "metadata": {
        "id": "TufMJftuZ8xL"
      }
    },
    {
      "cell_type": "code",
      "source": [
        "re.search(r\"man|woman\",\"This man was here.\")"
      ],
      "metadata": {
        "colab": {
          "base_uri": "https://localhost:8080/"
        },
        "id": "L9P4-nIaZ27w",
        "outputId": "5f268de9-d093-4c90-caa5-0878b88fc16d"
      },
      "execution_count": 32,
      "outputs": [
        {
          "output_type": "execute_result",
          "data": {
            "text/plain": [
              "<re.Match object; span=(5, 8), match='man'>"
            ]
          },
          "metadata": {},
          "execution_count": 32
        }
      ]
    },
    {
      "cell_type": "code",
      "source": [
        "re.search(r\"man|woman\",\"This woman was here.\")"
      ],
      "metadata": {
        "colab": {
          "base_uri": "https://localhost:8080/"
        },
        "id": "dP9GcPULaD89",
        "outputId": "b6d11a66-c3d4-4507-ae87-9df0e14b14ef"
      },
      "execution_count": 33,
      "outputs": [
        {
          "output_type": "execute_result",
          "data": {
            "text/plain": [
              "<re.Match object; span=(5, 10), match='woman'>"
            ]
          },
          "metadata": {},
          "execution_count": 33
        }
      ]
    },
    {
      "cell_type": "markdown",
      "source": [
        "### The Wildcard Character"
      ],
      "metadata": {
        "id": "zIEWJRNbaHIL"
      }
    },
    {
      "cell_type": "markdown",
      "source": [
        "Use a \"wildcard\" as a placement that will match any character placed there. You can use a simple period . for this."
      ],
      "metadata": {
        "id": "9iCrxB1caLTO"
      }
    },
    {
      "cell_type": "code",
      "source": [
        "re.findall(r\".at\",\"The cat in the hat sat here.\")"
      ],
      "metadata": {
        "colab": {
          "base_uri": "https://localhost:8080/"
        },
        "id": "egCREycCaJgu",
        "outputId": "6698fce7-d601-49b1-e61f-062f01d02c19"
      },
      "execution_count": 34,
      "outputs": [
        {
          "output_type": "execute_result",
          "data": {
            "text/plain": [
              "['cat', 'hat', 'sat']"
            ]
          },
          "metadata": {},
          "execution_count": 34
        }
      ]
    },
    {
      "cell_type": "code",
      "source": [
        "re.findall(r\".at\",\"The bat went splat\")"
      ],
      "metadata": {
        "colab": {
          "base_uri": "https://localhost:8080/"
        },
        "id": "ozEuplg4aR1_",
        "outputId": "0841bf63-3859-4f53-9421-12cb9a3e4592"
      },
      "execution_count": 35,
      "outputs": [
        {
          "output_type": "execute_result",
          "data": {
            "text/plain": [
              "['bat', 'lat']"
            ]
          },
          "metadata": {},
          "execution_count": 35
        }
      ]
    },
    {
      "cell_type": "code",
      "source": [
        "re.findall(r\"...at\",\"The bat went splat\")"
      ],
      "metadata": {
        "colab": {
          "base_uri": "https://localhost:8080/"
        },
        "id": "omdHjnEWaX_n",
        "outputId": "8c2d29e8-645b-4d22-e028-02b8352689b2"
      },
      "execution_count": 36,
      "outputs": [
        {
          "output_type": "execute_result",
          "data": {
            "text/plain": [
              "['e bat', 'splat']"
            ]
          },
          "metadata": {},
          "execution_count": 36
        }
      ]
    },
    {
      "cell_type": "markdown",
      "source": [
        "However this still leads the problem to grabbing more beforehand. Really we only want words that end with \"at\"."
      ],
      "metadata": {
        "id": "JvZ8y_EMaecL"
      }
    },
    {
      "cell_type": "code",
      "source": [
        "re.findall(r'\\S+at',\"The bat went splat\")"
      ],
      "metadata": {
        "colab": {
          "base_uri": "https://localhost:8080/"
        },
        "id": "dgEltpL_af6e",
        "outputId": "3b2d0c84-3008-45a0-e358-6b999bd85953"
      },
      "execution_count": 37,
      "outputs": [
        {
          "output_type": "execute_result",
          "data": {
            "text/plain": [
              "['bat', 'splat']"
            ]
          },
          "metadata": {},
          "execution_count": 37
        }
      ]
    },
    {
      "cell_type": "markdown",
      "source": [
        "### Starts With and Ends With"
      ],
      "metadata": {
        "id": "oy1YPLnbakB3"
      }
    },
    {
      "cell_type": "markdown",
      "source": [
        "We can use: \n",
        "- ^ to signal starts with\n",
        "- $ to signal ends with"
      ],
      "metadata": {
        "id": "7Dd20Xo_aocj"
      }
    },
    {
      "cell_type": "code",
      "source": [
        "# Ends with a number\n",
        "re.findall(r'\\d$','This ends with a number 2')"
      ],
      "metadata": {
        "colab": {
          "base_uri": "https://localhost:8080/"
        },
        "id": "yJqikf1zamj-",
        "outputId": "68a19370-4a82-4f22-984a-3621f5b4041a"
      },
      "execution_count": 38,
      "outputs": [
        {
          "output_type": "execute_result",
          "data": {
            "text/plain": [
              "['2']"
            ]
          },
          "metadata": {},
          "execution_count": 38
        }
      ]
    },
    {
      "cell_type": "code",
      "source": [
        "# Starts with a number\n",
        "re.findall(r'^\\d','1 is the loneliest number.')"
      ],
      "metadata": {
        "colab": {
          "base_uri": "https://localhost:8080/"
        },
        "id": "rjd6q5ddbknn",
        "outputId": "c7b7c814-ec87-479f-c0fe-73fd7fc8f884"
      },
      "execution_count": 39,
      "outputs": [
        {
          "output_type": "execute_result",
          "data": {
            "text/plain": [
              "['1']"
            ]
          },
          "metadata": {},
          "execution_count": 39
        }
      ]
    },
    {
      "cell_type": "markdown",
      "source": [
        "### Exclusion\n"
      ],
      "metadata": {
        "id": "5y35aZAWbpNk"
      }
    },
    {
      "cell_type": "markdown",
      "source": [
        "To exclude characters, we can use the ^ symbol in conjunction with a set of brackets `[]`. Anything inside the brackets is excluded"
      ],
      "metadata": {
        "id": "CikF_2Dybtex"
      }
    },
    {
      "cell_type": "code",
      "source": [
        "phrase = \"there are 3 numbers 34 inside 5 this sentence.\""
      ],
      "metadata": {
        "id": "aajZQh0ebqvV"
      },
      "execution_count": 40,
      "outputs": []
    },
    {
      "cell_type": "code",
      "source": [
        "re.findall(r'[^\\d]',phrase)"
      ],
      "metadata": {
        "colab": {
          "base_uri": "https://localhost:8080/"
        },
        "id": "xQnDME6bbzza",
        "outputId": "d1c4ff3e-0b13-466c-d941-c8b9d66b0911"
      },
      "execution_count": 41,
      "outputs": [
        {
          "output_type": "execute_result",
          "data": {
            "text/plain": [
              "['t',\n",
              " 'h',\n",
              " 'e',\n",
              " 'r',\n",
              " 'e',\n",
              " ' ',\n",
              " 'a',\n",
              " 'r',\n",
              " 'e',\n",
              " ' ',\n",
              " ' ',\n",
              " 'n',\n",
              " 'u',\n",
              " 'm',\n",
              " 'b',\n",
              " 'e',\n",
              " 'r',\n",
              " 's',\n",
              " ' ',\n",
              " ' ',\n",
              " 'i',\n",
              " 'n',\n",
              " 's',\n",
              " 'i',\n",
              " 'd',\n",
              " 'e',\n",
              " ' ',\n",
              " ' ',\n",
              " 't',\n",
              " 'h',\n",
              " 'i',\n",
              " 's',\n",
              " ' ',\n",
              " 's',\n",
              " 'e',\n",
              " 'n',\n",
              " 't',\n",
              " 'e',\n",
              " 'n',\n",
              " 'c',\n",
              " 'e',\n",
              " '.']"
            ]
          },
          "metadata": {},
          "execution_count": 41
        }
      ]
    },
    {
      "cell_type": "markdown",
      "source": [
        "To get the words back together, use a + sign"
      ],
      "metadata": {
        "id": "gxywuRcyb5DW"
      }
    },
    {
      "cell_type": "code",
      "source": [
        "re.findall(r'[^\\d]+',phrase)"
      ],
      "metadata": {
        "colab": {
          "base_uri": "https://localhost:8080/"
        },
        "id": "Koou1AHIb6eV",
        "outputId": "1f58cd59-bf43-4d96-fde7-33548ac704d3"
      },
      "execution_count": 42,
      "outputs": [
        {
          "output_type": "execute_result",
          "data": {
            "text/plain": [
              "['there are ', ' numbers ', ' inside ', ' this sentence.']"
            ]
          },
          "metadata": {},
          "execution_count": 42
        }
      ]
    },
    {
      "cell_type": "markdown",
      "source": [
        "We can use this to remove punctuation from a sentence."
      ],
      "metadata": {
        "id": "__pjBtsnb-dp"
      }
    },
    {
      "cell_type": "code",
      "source": [
        "test_phrase = 'This is a string! But it has punctuation. How can we remove it?'"
      ],
      "metadata": {
        "id": "kTNNK2y_cAXV"
      },
      "execution_count": 43,
      "outputs": []
    },
    {
      "cell_type": "code",
      "source": [
        "re.findall('[^!.? ]+',test_phrase)"
      ],
      "metadata": {
        "colab": {
          "base_uri": "https://localhost:8080/"
        },
        "id": "h68RAsgecC33",
        "outputId": "28d8f18e-e5e4-4446-81e6-b1148a982a07"
      },
      "execution_count": 44,
      "outputs": [
        {
          "output_type": "execute_result",
          "data": {
            "text/plain": [
              "['This',\n",
              " 'is',\n",
              " 'a',\n",
              " 'string',\n",
              " 'But',\n",
              " 'it',\n",
              " 'has',\n",
              " 'punctuation',\n",
              " 'How',\n",
              " 'can',\n",
              " 'we',\n",
              " 'remove',\n",
              " 'it']"
            ]
          },
          "metadata": {},
          "execution_count": 44
        }
      ]
    },
    {
      "cell_type": "code",
      "source": [
        "# to get the phrase back together, use a + sign\n",
        "clean = ' '.join(re.findall('[^!.? ]+',test_phrase))"
      ],
      "metadata": {
        "id": "BYol1yApcLk_"
      },
      "execution_count": 45,
      "outputs": []
    },
    {
      "cell_type": "code",
      "source": [
        "clean"
      ],
      "metadata": {
        "colab": {
          "base_uri": "https://localhost:8080/",
          "height": 36
        },
        "id": "E8sU6MoLcRG9",
        "outputId": "d00d45ba-62ac-4670-8e24-0e0bcf833dfe"
      },
      "execution_count": 46,
      "outputs": [
        {
          "output_type": "execute_result",
          "data": {
            "text/plain": [
              "'This is a string But it has punctuation How can we remove it'"
            ],
            "application/vnd.google.colaboratory.intrinsic+json": {
              "type": "string"
            }
          },
          "metadata": {},
          "execution_count": 46
        }
      ]
    },
    {
      "cell_type": "markdown",
      "source": [
        "## Brackets for Grouping"
      ],
      "metadata": {
        "id": "LGG-TO34cUjt"
      }
    },
    {
      "cell_type": "markdown",
      "source": [
        "As we showed above we can use brackets to group together options, for example if we wanted to find hyphenated words:"
      ],
      "metadata": {
        "id": "RV1Jm_mBcfOp"
      }
    },
    {
      "cell_type": "code",
      "source": [
        "text = 'Only find the hypen-words in this sentence. But you do not know how long-ish they are'"
      ],
      "metadata": {
        "id": "tSpKpWxhcdUV"
      },
      "execution_count": 47,
      "outputs": []
    },
    {
      "cell_type": "code",
      "source": [
        "re.findall(r'[\\w]+-[\\w]+',text)"
      ],
      "metadata": {
        "colab": {
          "base_uri": "https://localhost:8080/"
        },
        "id": "X2XeVo_tclV9",
        "outputId": "b36f9325-2a24-4589-e93d-376a50596864"
      },
      "execution_count": 48,
      "outputs": [
        {
          "output_type": "execute_result",
          "data": {
            "text/plain": [
              "['hypen-words', 'long-ish']"
            ]
          },
          "metadata": {},
          "execution_count": 48
        }
      ]
    },
    {
      "cell_type": "markdown",
      "source": [
        "## Parentheses for Multiple Options"
      ],
      "metadata": {
        "id": "o2MY6ahgcuCl"
      }
    },
    {
      "cell_type": "markdown",
      "source": [
        "If we have multiple options for matching, we can use parentheses to list out these options."
      ],
      "metadata": {
        "id": "koudSlrbdH_X"
      }
    },
    {
      "cell_type": "code",
      "source": [
        "# Find words that start with cat and end with one of these options: 'fish','nap', or 'claw'\n",
        "text = 'Hello, would you like some catfish?'\n",
        "texttwo = \"Hello, would you like to take a catnap?\"\n",
        "textthree = \"Hello, have you seen this caterpillar?\""
      ],
      "metadata": {
        "id": "-LjLrfP-cw8U"
      },
      "execution_count": 49,
      "outputs": []
    },
    {
      "cell_type": "code",
      "source": [
        "re.search(r'cat(fish|nap|claw)',text)"
      ],
      "metadata": {
        "colab": {
          "base_uri": "https://localhost:8080/"
        },
        "id": "wmZPXmAndSFs",
        "outputId": "e08af561-2c81-4674-ea29-c2a031b867f0"
      },
      "execution_count": 50,
      "outputs": [
        {
          "output_type": "execute_result",
          "data": {
            "text/plain": [
              "<re.Match object; span=(27, 34), match='catfish'>"
            ]
          },
          "metadata": {},
          "execution_count": 50
        }
      ]
    },
    {
      "cell_type": "code",
      "source": [
        "re.search(r'cat(fish|nap|claw)',texttwo)"
      ],
      "metadata": {
        "colab": {
          "base_uri": "https://localhost:8080/"
        },
        "id": "cmpD0UQzdSIM",
        "outputId": "cd8cc3dd-a497-41f7-a188-9dad2d210c7d"
      },
      "execution_count": 51,
      "outputs": [
        {
          "output_type": "execute_result",
          "data": {
            "text/plain": [
              "<re.Match object; span=(32, 38), match='catnap'>"
            ]
          },
          "metadata": {},
          "execution_count": 51
        }
      ]
    },
    {
      "cell_type": "code",
      "source": [
        "# None returned\n",
        "re.search(r'cat(fish|nap|claw)',textthree)"
      ],
      "metadata": {
        "id": "ibvInq2hdSK8"
      },
      "execution_count": 52,
      "outputs": []
    }
  ]
}