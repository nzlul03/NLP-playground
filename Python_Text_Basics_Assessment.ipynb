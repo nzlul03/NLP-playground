{
  "nbformat": 4,
  "nbformat_minor": 0,
  "metadata": {
    "colab": {
      "name": "Python-Text-Basics-Assessment.ipynb",
      "provenance": [],
      "authorship_tag": "ABX9TyOdMoGwKhAvDYiwNiIMsaoJ"
    },
    "kernelspec": {
      "name": "python3",
      "display_name": "Python 3"
    },
    "language_info": {
      "name": "python"
    }
  },
  "cells": [
    {
      "cell_type": "markdown",
      "source": [
        "# f-strings"
      ],
      "metadata": {
        "id": "Ayve211RIYFt"
      }
    },
    {
      "cell_type": "markdown",
      "source": [
        "1. Print an f-string that displays `NLP stands for Natural Language Processing` using the variables provided."
      ],
      "metadata": {
        "id": "eShSbtDfId_V"
      }
    },
    {
      "cell_type": "code",
      "execution_count": 2,
      "metadata": {
        "colab": {
          "base_uri": "https://localhost:8080/"
        },
        "id": "OvJf1WQpIDQ9",
        "outputId": "c84f9ca8-15bc-4c3b-f6de-9c53b0034c94"
      },
      "outputs": [
        {
          "output_type": "stream",
          "name": "stdout",
          "text": [
            "NLP stands for Natural Language Processing\n"
          ]
        }
      ],
      "source": [
        "abbr = 'NLP'\n",
        "full_text = 'Natural Language Processing'\n",
        "\n",
        "print(f'{abbr} stands for {full_text}')"
      ]
    },
    {
      "cell_type": "markdown",
      "source": [
        "# Files"
      ],
      "metadata": {
        "id": "uxhYzbsjJJ3v"
      }
    },
    {
      "cell_type": "markdown",
      "source": [
        "2. Create a file in the current working directory called `contacts.txt` by running the cell below:"
      ],
      "metadata": {
        "id": "3BHtB-y7JNA0"
      }
    },
    {
      "cell_type": "code",
      "source": [
        "%%writefile contacts.txt\n",
        "\n",
        "First_Name Last_Name, Title, Extension, Email"
      ],
      "metadata": {
        "colab": {
          "base_uri": "https://localhost:8080/"
        },
        "id": "ETJPQOBjJDGn",
        "outputId": "350c66dd-f90b-4df0-a88c-b7ffa8c23b41"
      },
      "execution_count": 3,
      "outputs": [
        {
          "output_type": "stream",
          "name": "stdout",
          "text": [
            "Writing contacts.txt\n"
          ]
        }
      ]
    },
    {
      "cell_type": "markdown",
      "source": [
        "3. Open the file and use .read() to save the contents of the file to a string called fields. Make sure the file is closed at the end."
      ],
      "metadata": {
        "id": "w0TNSpVuJbz4"
      }
    },
    {
      "cell_type": "code",
      "source": [
        "with open('contacts.txt') as c:\n",
        "    fields = c.read()\n",
        "\n",
        "fields"
      ],
      "metadata": {
        "colab": {
          "base_uri": "https://localhost:8080/",
          "height": 36
        },
        "id": "NIvBT_aOJX8M",
        "outputId": "af838270-c62a-4042-9dd1-d3c72f9ab6d8"
      },
      "execution_count": 4,
      "outputs": [
        {
          "output_type": "execute_result",
          "data": {
            "text/plain": [
              "'\\nFirst_Name Last_Name, Title, Extension, Email\\n'"
            ],
            "application/vnd.google.colaboratory.intrinsic+json": {
              "type": "string"
            }
          },
          "metadata": {},
          "execution_count": 4
        }
      ]
    },
    {
      "cell_type": "markdown",
      "source": [
        "# Working with PDF Files"
      ],
      "metadata": {
        "id": "hjFkQOySLT3R"
      }
    },
    {
      "cell_type": "markdown",
      "source": [
        "4. Use PyPDF2 to open the file `Business_Proposal.pdf`. Extract the text of page 2."
      ],
      "metadata": {
        "id": "tLgbf2_yLZFC"
      }
    },
    {
      "cell_type": "code",
      "source": [
        "!pip install PyPDF2 "
      ],
      "metadata": {
        "colab": {
          "base_uri": "https://localhost:8080/"
        },
        "id": "Zy6A11GcMCYV",
        "outputId": "29be4a34-f9e1-4759-c8d4-4315eca0b02e"
      },
      "execution_count": 6,
      "outputs": [
        {
          "output_type": "stream",
          "name": "stdout",
          "text": [
            "Looking in indexes: https://pypi.org/simple, https://us-python.pkg.dev/colab-wheels/public/simple/\n",
            "Collecting PyPDF2\n",
            "  Downloading PyPDF2-2.10.2-py3-none-any.whl (214 kB)\n",
            "\u001b[K     |████████████████████████████████| 214 kB 7.9 MB/s \n",
            "\u001b[?25hRequirement already satisfied: typing-extensions in /usr/local/lib/python3.7/dist-packages (from PyPDF2) (4.1.1)\n",
            "Installing collected packages: PyPDF2\n",
            "Successfully installed PyPDF2-2.10.2\n"
          ]
        }
      ]
    },
    {
      "cell_type": "code",
      "source": [
        "import PyPDF2\n",
        "\n",
        "f = open('Business_Proposal.pdf','rb')\n",
        "pdf_reader = PyPDF2.PdfFileReader(f)\n",
        "page_two_text = pdf_reader.getPage(1).extractText()\n",
        "\n",
        "f.close()\n",
        "print(page_two_text)"
      ],
      "metadata": {
        "colab": {
          "base_uri": "https://localhost:8080/"
        },
        "id": "oN5ivH38LQ-2",
        "outputId": "aaa24016-d956-45b4-a0b9-671bbb8d9200"
      },
      "execution_count": 7,
      "outputs": [
        {
          "output_type": "stream",
          "name": "stdout",
          "text": [
            "AUTHORS:  \n",
            "Amy Baker, Finance Chair, x345, abaker@ourcompany.com  \n",
            "Chris Donaldson, Accounting Dir., x621, cdonaldson@ourcompany.com  \n",
            "Erin Freeman, Sr. VP, x879, efreeman@ourcompany.com  \n"
          ]
        }
      ]
    },
    {
      "cell_type": "markdown",
      "source": [
        "5. Open the file `contacts.txt` in append mode. Add the text of page 2 from above to `contacts.txt`.\n"
      ],
      "metadata": {
        "id": "qYhIsbAOMIBl"
      }
    },
    {
      "cell_type": "code",
      "source": [
        "# Simple Solution:\n",
        "with open('contacts.txt','a+') as c:\n",
        "    c.write(page_two_text)\n",
        "    c.seek(0)\n",
        "    print(c.read())"
      ],
      "metadata": {
        "colab": {
          "base_uri": "https://localhost:8080/"
        },
        "id": "R1ozm4p8L5PM",
        "outputId": "2a8b7970-b0b5-436e-cf5c-d455281e2cca"
      },
      "execution_count": 8,
      "outputs": [
        {
          "output_type": "stream",
          "name": "stdout",
          "text": [
            "\n",
            "First_Name Last_Name, Title, Extension, Email\n",
            "AUTHORS:  \n",
            "Amy Baker, Finance Chair, x345, abaker@ourcompany.com  \n",
            "Chris Donaldson, Accounting Dir., x621, cdonaldson@ourcompany.com  \n",
            "Erin Freeman, Sr. VP, x879, efreeman@ourcompany.com  \n"
          ]
        }
      ]
    },
    {
      "cell_type": "markdown",
      "source": [
        "# Regular Expressions"
      ],
      "metadata": {
        "id": "oCb_ENP-MVSS"
      }
    },
    {
      "cell_type": "markdown",
      "source": [
        "6. Using the `page_two_text` variable created above, extract any email addresses that were contained in the file `Business_Proposal.pdf`."
      ],
      "metadata": {
        "id": "O-IAtvKkMYjQ"
      }
    },
    {
      "cell_type": "code",
      "source": [
        "import re\n",
        "\n",
        "# Enter your regex pattern here. This may take several tries!\n",
        "pattern = r'\\w+@\\w+.\\w{3}'\n",
        "\n",
        "re.findall(pattern, page_two_text)"
      ],
      "metadata": {
        "colab": {
          "base_uri": "https://localhost:8080/"
        },
        "id": "ZmVoT6n9MW4s",
        "outputId": "7a192eae-dc1e-4a95-86fd-7f69d9e7381b"
      },
      "execution_count": 9,
      "outputs": [
        {
          "output_type": "execute_result",
          "data": {
            "text/plain": [
              "['abaker@ourcompany.com',\n",
              " 'cdonaldson@ourcompany.com',\n",
              " 'efreeman@ourcompany.com']"
            ]
          },
          "metadata": {},
          "execution_count": 9
        }
      ]
    }
  ]
}