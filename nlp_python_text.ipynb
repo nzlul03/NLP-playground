{
  "nbformat": 4,
  "nbformat_minor": 0,
  "metadata": {
    "colab": {
      "name": "nlp-python-text.ipynb",
      "provenance": []
    },
    "kernelspec": {
      "name": "python3",
      "display_name": "Python 3"
    },
    "language_info": {
      "name": "python"
    }
  },
  "cells": [
    {
      "cell_type": "markdown",
      "source": [
        "# Part 1"
      ],
      "metadata": {
        "id": "_Zp62NPc5UJI"
      }
    },
    {
      "cell_type": "markdown",
      "source": [
        "Intro"
      ],
      "metadata": {
        "id": "hLHwp6KU85kv"
      }
    },
    {
      "cell_type": "code",
      "execution_count": 1,
      "metadata": {
        "id": "cqBD8DhozQqY"
      },
      "outputs": [],
      "source": [
        "person = \"Jose\""
      ]
    },
    {
      "cell_type": "code",
      "source": [
        "print(\"my name is {}\".format(person))"
      ],
      "metadata": {
        "colab": {
          "base_uri": "https://localhost:8080/"
        },
        "id": "9m8KPzfK0IZx",
        "outputId": "5c104dcf-23de-4935-a524-660924387dba"
      },
      "execution_count": 3,
      "outputs": [
        {
          "output_type": "stream",
          "name": "stdout",
          "text": [
            "my name is Jose\n"
          ]
        }
      ]
    },
    {
      "cell_type": "code",
      "source": [
        "# new version\n",
        "print(f\"my name is {person}\")"
      ],
      "metadata": {
        "colab": {
          "base_uri": "https://localhost:8080/"
        },
        "id": "sFvB235F0JIm",
        "outputId": "1f717485-f996-4ef1-a8aa-567b84d6085a"
      },
      "execution_count": 4,
      "outputs": [
        {
          "output_type": "stream",
          "name": "stdout",
          "text": [
            "my name is Jose\n"
          ]
        }
      ]
    },
    {
      "cell_type": "code",
      "source": [
        "d = {'a':123,\n",
        "     'b':456}"
      ],
      "metadata": {
        "id": "Bi7wdDrZ0Vb2"
      },
      "execution_count": 5,
      "outputs": []
    },
    {
      "cell_type": "code",
      "source": [
        "print(f\"my number is {d['a']}\")"
      ],
      "metadata": {
        "colab": {
          "base_uri": "https://localhost:8080/"
        },
        "id": "CsQY_5RH0gYF",
        "outputId": "c8f8ecac-a415-447b-e6ec-c240db83c07b"
      },
      "execution_count": 6,
      "outputs": [
        {
          "output_type": "stream",
          "name": "stdout",
          "text": [
            "my number is 123\n"
          ]
        }
      ]
    },
    {
      "cell_type": "code",
      "source": [
        "mylist = [0,1,2]"
      ],
      "metadata": {
        "id": "WGzioW220myu"
      },
      "execution_count": 7,
      "outputs": []
    },
    {
      "cell_type": "code",
      "source": [
        "print(f\"my number is {mylist[0]}\")"
      ],
      "metadata": {
        "colab": {
          "base_uri": "https://localhost:8080/"
        },
        "id": "y9onPs8b0u0G",
        "outputId": "76c4e2e5-b770-412a-c3a2-4fd54fe65107"
      },
      "execution_count": 8,
      "outputs": [
        {
          "output_type": "stream",
          "name": "stdout",
          "text": [
            "my number is 0\n"
          ]
        }
      ]
    },
    {
      "cell_type": "code",
      "source": [
        "library = [('Author','Topic','Pages'),\n",
        "           ('Twain','Rafting', 601),\n",
        "           ('Feyman','Physics', 95),\n",
        "           ('Hamilton','Mythology', 144)]"
      ],
      "metadata": {
        "id": "Vv8FZ-N200bm"
      },
      "execution_count": 9,
      "outputs": []
    },
    {
      "cell_type": "code",
      "source": [
        "library"
      ],
      "metadata": {
        "colab": {
          "base_uri": "https://localhost:8080/"
        },
        "id": "7MpRVxzk12kv",
        "outputId": "3d515ac9-0c98-4f56-a32d-ed40d1743df3"
      },
      "execution_count": 10,
      "outputs": [
        {
          "output_type": "execute_result",
          "data": {
            "text/plain": [
              "[('Author', 'Topic', 'Pages'),\n",
              " ('Twain', 'Rafting', 601),\n",
              " ('Feyman', 'Physics', 95),\n",
              " ('Hamilton', 'Mythology', 144)]"
            ]
          },
          "metadata": {},
          "execution_count": 10
        }
      ]
    },
    {
      "cell_type": "code",
      "source": [
        "for book in library:\n",
        "  print(book)"
      ],
      "metadata": {
        "colab": {
          "base_uri": "https://localhost:8080/"
        },
        "id": "5kqoU4kW13cV",
        "outputId": "03caa1d4-dac5-440f-bf5f-57822cab01da"
      },
      "execution_count": 11,
      "outputs": [
        {
          "output_type": "stream",
          "name": "stdout",
          "text": [
            "('Author', 'Topic', 'Pages')\n",
            "('Twain', 'Rafting', 601)\n",
            "('Feyman', 'Physics', 95)\n",
            "('Hamilton', 'Mythology', 144)\n"
          ]
        }
      ]
    },
    {
      "cell_type": "code",
      "source": [
        "for book in library:\n",
        "  print(f\"Author is {book[0]}\")"
      ],
      "metadata": {
        "colab": {
          "base_uri": "https://localhost:8080/"
        },
        "id": "qTgLQrxr191N",
        "outputId": "37574ae0-6a07-4440-8d5a-cf4c4d658558"
      },
      "execution_count": 12,
      "outputs": [
        {
          "output_type": "stream",
          "name": "stdout",
          "text": [
            "Author is Author\n",
            "Author is Twain\n",
            "Author is Feyman\n",
            "Author is Hamilton\n"
          ]
        }
      ]
    },
    {
      "cell_type": "code",
      "source": [
        "for author, topic, pages in library:\n",
        "  print(f\"Author is {author}\")"
      ],
      "metadata": {
        "colab": {
          "base_uri": "https://localhost:8080/"
        },
        "id": "v4U-ofI72LoY",
        "outputId": "e1d2ee4c-b0a9-41cc-d0fc-953c3905a68f"
      },
      "execution_count": 14,
      "outputs": [
        {
          "output_type": "stream",
          "name": "stdout",
          "text": [
            "Author is Author\n",
            "Author is Twain\n",
            "Author is Feyman\n",
            "Author is Hamilton\n"
          ]
        }
      ]
    },
    {
      "cell_type": "code",
      "source": [
        "for author, topic, pages in library:\n",
        "  print(f\"{author} {topic} {pages}\")"
      ],
      "metadata": {
        "colab": {
          "base_uri": "https://localhost:8080/"
        },
        "id": "4DFkz17j2OCF",
        "outputId": "5e7c1a2d-fa19-4ce4-8195-e238f9179cd8"
      },
      "execution_count": 17,
      "outputs": [
        {
          "output_type": "stream",
          "name": "stdout",
          "text": [
            "Author Topic Pages\n",
            "Twain Rafting 601\n",
            "Feyman Physics 95\n",
            "Hamilton Mythology 144\n"
          ]
        }
      ]
    },
    {
      "cell_type": "code",
      "source": [
        "library_2 = [('Author','Topic','Pages'),\n",
        "             ('Twain','Rafting in water alone', 601),\n",
        "             ('Feyman','Physics', 95),\n",
        "             ('Hamilton','Mythology', 144)]"
      ],
      "metadata": {
        "id": "asx82tN62Z-R"
      },
      "execution_count": 18,
      "outputs": []
    },
    {
      "cell_type": "code",
      "source": [
        "library_2"
      ],
      "metadata": {
        "colab": {
          "base_uri": "https://localhost:8080/"
        },
        "id": "UPJ0tkrl3IHo",
        "outputId": "55ab4f3b-646d-4eba-e175-33c8d5c38a81"
      },
      "execution_count": 19,
      "outputs": [
        {
          "output_type": "execute_result",
          "data": {
            "text/plain": [
              "[('Author', 'Topic', 'Pages'),\n",
              " ('Twain', 'Rafting in water alone', 601),\n",
              " ('Feyman', 'Physics', 95),\n",
              " ('Hamilton', 'Mythology', 144)]"
            ]
          },
          "metadata": {},
          "execution_count": 19
        }
      ]
    },
    {
      "cell_type": "code",
      "source": [
        "#padding\n",
        "for author, topic, pages in library_2:\n",
        "  print(f\"{author:{10}} {topic:{30}} {pages:.>{10}}\")"
      ],
      "metadata": {
        "colab": {
          "base_uri": "https://localhost:8080/"
        },
        "id": "__rg7K-j3Iz9",
        "outputId": "ce31f7d1-1b99-417e-d079-1d3a657956bd"
      },
      "execution_count": 23,
      "outputs": [
        {
          "output_type": "stream",
          "name": "stdout",
          "text": [
            "Author     Topic                          .....Pages\n",
            "Twain      Rafting in water alone         .......601\n",
            "Feyman     Physics                        ........95\n",
            "Hamilton   Mythology                      .......144\n"
          ]
        }
      ]
    },
    {
      "cell_type": "code",
      "source": [
        "from datetime import datetime"
      ],
      "metadata": {
        "id": "h9n2RIhU3Vzd"
      },
      "execution_count": 24,
      "outputs": []
    },
    {
      "cell_type": "code",
      "source": [
        "today = datetime(year=2019, month=2, day=28)"
      ],
      "metadata": {
        "id": "pCnUYbhK34r_"
      },
      "execution_count": 25,
      "outputs": []
    },
    {
      "cell_type": "code",
      "source": [
        "print(f\"{today}\")"
      ],
      "metadata": {
        "colab": {
          "base_uri": "https://localhost:8080/"
        },
        "id": "6cxkTIOW39ql",
        "outputId": "3b82b7f2-f009-43cd-f5fb-65792664abb9"
      },
      "execution_count": 26,
      "outputs": [
        {
          "output_type": "stream",
          "name": "stdout",
          "text": [
            "2019-02-28 00:00:00\n"
          ]
        }
      ]
    },
    {
      "cell_type": "code",
      "source": [
        "today"
      ],
      "metadata": {
        "colab": {
          "base_uri": "https://localhost:8080/"
        },
        "id": "wo_HXvbE4Cdd",
        "outputId": "ce0ad0a5-2098-4020-86f8-4dc75c968e6c"
      },
      "execution_count": 27,
      "outputs": [
        {
          "output_type": "execute_result",
          "data": {
            "text/plain": [
              "datetime.datetime(2019, 2, 28, 0, 0)"
            ]
          },
          "metadata": {},
          "execution_count": 27
        }
      ]
    },
    {
      "cell_type": "code",
      "source": [
        "print(f\"{today:%B %d, %Y}\")"
      ],
      "metadata": {
        "colab": {
          "base_uri": "https://localhost:8080/"
        },
        "id": "_a2zo_og4EjM",
        "outputId": "612deafa-7571-4d3f-d467-72bd6fc0ed16"
      },
      "execution_count": 29,
      "outputs": [
        {
          "output_type": "stream",
          "name": "stdout",
          "text": [
            "February 28, 2019\n"
          ]
        }
      ]
    },
    {
      "cell_type": "markdown",
      "source": [
        "# Part 2"
      ],
      "metadata": {
        "id": "6FClm7gf5WwI"
      }
    },
    {
      "cell_type": "markdown",
      "source": [
        "Working with text files"
      ],
      "metadata": {
        "id": "dZBbnDo287Jy"
      }
    },
    {
      "cell_type": "code",
      "source": [
        "%%writefile test.txt\n",
        "Hello, this is a quick test file.\n",
        "This is the second line of the file."
      ],
      "metadata": {
        "colab": {
          "base_uri": "https://localhost:8080/"
        },
        "id": "NQHoig155Xjj",
        "outputId": "98edb762-4225-4522-ea40-99099eebd867"
      },
      "execution_count": 30,
      "outputs": [
        {
          "output_type": "stream",
          "name": "stdout",
          "text": [
            "Writing test.txt\n"
          ]
        }
      ]
    },
    {
      "cell_type": "code",
      "source": [
        "myfile = open('/content/test.txt')"
      ],
      "metadata": {
        "id": "OvcZ7z186JYV"
      },
      "execution_count": 31,
      "outputs": []
    },
    {
      "cell_type": "code",
      "source": [
        "pwd"
      ],
      "metadata": {
        "colab": {
          "base_uri": "https://localhost:8080/",
          "height": 36
        },
        "id": "wGQGvBmI6SPs",
        "outputId": "6ccce026-331e-49e4-fa4a-175eac44607d"
      },
      "execution_count": 32,
      "outputs": [
        {
          "output_type": "execute_result",
          "data": {
            "text/plain": [
              "'/content'"
            ],
            "application/vnd.google.colaboratory.intrinsic+json": {
              "type": "string"
            }
          },
          "metadata": {},
          "execution_count": 32
        }
      ]
    },
    {
      "cell_type": "code",
      "source": [
        "myfile"
      ],
      "metadata": {
        "colab": {
          "base_uri": "https://localhost:8080/"
        },
        "id": "gSvE_QJp6TR8",
        "outputId": "246c7b08-9d70-4153-de4e-f2b75e46eabe"
      },
      "execution_count": 33,
      "outputs": [
        {
          "output_type": "execute_result",
          "data": {
            "text/plain": [
              "<_io.TextIOWrapper name='/content/test.txt' mode='r' encoding='UTF-8'>"
            ]
          },
          "metadata": {},
          "execution_count": 33
        }
      ]
    },
    {
      "cell_type": "code",
      "source": [
        "myfile.read()"
      ],
      "metadata": {
        "colab": {
          "base_uri": "https://localhost:8080/",
          "height": 36
        },
        "id": "w2voBg9T6aL0",
        "outputId": "147ebdd0-2fb1-4618-a5d6-16d64b4cb17a"
      },
      "execution_count": 34,
      "outputs": [
        {
          "output_type": "execute_result",
          "data": {
            "text/plain": [
              "'Hello, this is a quick test file.\\nThis is the second line of the file.'"
            ],
            "application/vnd.google.colaboratory.intrinsic+json": {
              "type": "string"
            }
          },
          "metadata": {},
          "execution_count": 34
        }
      ]
    },
    {
      "cell_type": "code",
      "source": [
        "myfile.seek(0)"
      ],
      "metadata": {
        "colab": {
          "base_uri": "https://localhost:8080/"
        },
        "id": "IHQp2sf66sCl",
        "outputId": "24c53908-b8c1-4da8-a2d6-90dc227a02fa"
      },
      "execution_count": 40,
      "outputs": [
        {
          "output_type": "execute_result",
          "data": {
            "text/plain": [
              "0"
            ]
          },
          "metadata": {},
          "execution_count": 40
        }
      ]
    },
    {
      "cell_type": "code",
      "source": [
        "content = myfile.read()"
      ],
      "metadata": {
        "id": "EC_7nDFi61FM"
      },
      "execution_count": 41,
      "outputs": []
    },
    {
      "cell_type": "code",
      "source": [
        "print(content)"
      ],
      "metadata": {
        "colab": {
          "base_uri": "https://localhost:8080/"
        },
        "id": "Myf_znae63qd",
        "outputId": "257c0814-fdae-4801-d9ab-5cdfd5850922"
      },
      "execution_count": 42,
      "outputs": [
        {
          "output_type": "stream",
          "name": "stdout",
          "text": [
            "Hello, this is a quick test file.\n",
            "This is the second line of the file.\n"
          ]
        }
      ]
    },
    {
      "cell_type": "code",
      "source": [
        "myfile.close()"
      ],
      "metadata": {
        "id": "nJFkRF3f662M"
      },
      "execution_count": 43,
      "outputs": []
    },
    {
      "cell_type": "code",
      "source": [
        "myfile = open('/content/test.txt')"
      ],
      "metadata": {
        "id": "urrgIsZh7EO9"
      },
      "execution_count": 44,
      "outputs": []
    },
    {
      "cell_type": "code",
      "source": [
        "myfile.readlines()"
      ],
      "metadata": {
        "colab": {
          "base_uri": "https://localhost:8080/"
        },
        "id": "Ara8nuJr7Uh9",
        "outputId": "e39f4f7f-d162-4bcd-c4f4-7ad0fb0da72a"
      },
      "execution_count": 45,
      "outputs": [
        {
          "output_type": "execute_result",
          "data": {
            "text/plain": [
              "['Hello, this is a quick test file.\\n', 'This is the second line of the file.']"
            ]
          },
          "metadata": {},
          "execution_count": 45
        }
      ]
    },
    {
      "cell_type": "code",
      "source": [
        "myfile.seek(0)"
      ],
      "metadata": {
        "colab": {
          "base_uri": "https://localhost:8080/"
        },
        "id": "cJl83p-x7WG4",
        "outputId": "4aa231a1-5295-4d5a-e9ae-bce6befd61b2"
      },
      "execution_count": 46,
      "outputs": [
        {
          "output_type": "execute_result",
          "data": {
            "text/plain": [
              "0"
            ]
          },
          "metadata": {},
          "execution_count": 46
        }
      ]
    },
    {
      "cell_type": "code",
      "source": [
        "mylines = myfile.readlines()"
      ],
      "metadata": {
        "id": "3Zfw6yRc7di1"
      },
      "execution_count": 47,
      "outputs": []
    },
    {
      "cell_type": "code",
      "source": [
        "mylines"
      ],
      "metadata": {
        "colab": {
          "base_uri": "https://localhost:8080/"
        },
        "id": "S8t-yQhC7e1d",
        "outputId": "2fe7fe66-647a-408d-ca10-de0b0d6e4691"
      },
      "execution_count": 48,
      "outputs": [
        {
          "output_type": "execute_result",
          "data": {
            "text/plain": [
              "['Hello, this is a quick test file.\\n', 'This is the second line of the file.']"
            ]
          },
          "metadata": {},
          "execution_count": 48
        }
      ]
    },
    {
      "cell_type": "code",
      "source": [
        "for line in mylines:\n",
        "  print(line[0])"
      ],
      "metadata": {
        "colab": {
          "base_uri": "https://localhost:8080/"
        },
        "id": "5fHRDlWu7iGR",
        "outputId": "0ec607e8-c398-40a5-8530-6d65bffa9fea"
      },
      "execution_count": 49,
      "outputs": [
        {
          "output_type": "stream",
          "name": "stdout",
          "text": [
            "H\n",
            "T\n"
          ]
        }
      ]
    },
    {
      "cell_type": "code",
      "source": [
        "for line in mylines:\n",
        "  print(line.split()[0])"
      ],
      "metadata": {
        "colab": {
          "base_uri": "https://localhost:8080/"
        },
        "id": "XUSKdal67k4s",
        "outputId": "d4cd822e-690e-48f1-d914-42ccef621110"
      },
      "execution_count": 50,
      "outputs": [
        {
          "output_type": "stream",
          "name": "stdout",
          "text": [
            "Hello,\n",
            "This\n"
          ]
        }
      ]
    },
    {
      "cell_type": "code",
      "source": [
        "myfile = open('test.txt', 'w+') #open for writing, truncating the file first"
      ],
      "metadata": {
        "id": "vRCZclRI7qAN"
      },
      "execution_count": 51,
      "outputs": []
    },
    {
      "cell_type": "code",
      "source": [
        "myfile.write('MY BRAND NEW TEXT')"
      ],
      "metadata": {
        "colab": {
          "base_uri": "https://localhost:8080/"
        },
        "id": "D0A0BzKq8GMQ",
        "outputId": "7481380d-52a6-4eb9-8db7-b82b872e5022"
      },
      "execution_count": 52,
      "outputs": [
        {
          "output_type": "execute_result",
          "data": {
            "text/plain": [
              "17"
            ]
          },
          "metadata": {},
          "execution_count": 52
        }
      ]
    },
    {
      "cell_type": "code",
      "source": [
        "myfile.seek(0)"
      ],
      "metadata": {
        "colab": {
          "base_uri": "https://localhost:8080/"
        },
        "id": "Go6hriUf8QyN",
        "outputId": "229db5b2-327b-41d3-eea0-c418161985f7"
      },
      "execution_count": 53,
      "outputs": [
        {
          "output_type": "execute_result",
          "data": {
            "text/plain": [
              "0"
            ]
          },
          "metadata": {},
          "execution_count": 53
        }
      ]
    },
    {
      "cell_type": "code",
      "source": [
        "myfile.read()"
      ],
      "metadata": {
        "colab": {
          "base_uri": "https://localhost:8080/",
          "height": 36
        },
        "id": "ob8xq-mJ8Sz-",
        "outputId": "92940983-e077-4750-bb02-741a40c6a8a0"
      },
      "execution_count": 54,
      "outputs": [
        {
          "output_type": "execute_result",
          "data": {
            "text/plain": [
              "'MY BRAND NEW TEXT'"
            ],
            "application/vnd.google.colaboratory.intrinsic+json": {
              "type": "string"
            }
          },
          "metadata": {},
          "execution_count": 54
        }
      ]
    },
    {
      "cell_type": "markdown",
      "source": [
        "# Part 3"
      ],
      "metadata": {
        "id": "4fopjF1s8_QA"
      }
    },
    {
      "cell_type": "markdown",
      "source": [
        "Working with PDFs"
      ],
      "metadata": {
        "id": "yz2Bx33r9AgQ"
      }
    },
    {
      "cell_type": "markdown",
      "source": [
        "The PyPDF2 : to extract text from PDF files directly created from a word processir"
      ],
      "metadata": {
        "id": "v3qViB7l9ddG"
      }
    },
    {
      "cell_type": "code",
      "source": [
        "! pip install PyPDF2"
      ],
      "metadata": {
        "colab": {
          "base_uri": "https://localhost:8080/"
        },
        "id": "BsXMhnvv8_8t",
        "outputId": "ea11c141-8a5a-49a5-aeff-138ddfe288c0"
      },
      "execution_count": 58,
      "outputs": [
        {
          "output_type": "stream",
          "name": "stdout",
          "text": [
            "Looking in indexes: https://pypi.org/simple, https://us-python.pkg.dev/colab-wheels/public/simple/\n",
            "Collecting PyPDF2\n",
            "  Downloading PyPDF2-2.8.1-py3-none-any.whl (204 kB)\n",
            "\u001b[K     |████████████████████████████████| 204 kB 21.0 MB/s \n",
            "\u001b[?25hRequirement already satisfied: typing-extensions in /usr/local/lib/python3.7/dist-packages (from PyPDF2) (4.1.1)\n",
            "Installing collected packages: PyPDF2\n",
            "Successfully installed PyPDF2-2.8.1\n"
          ]
        }
      ]
    },
    {
      "cell_type": "code",
      "source": [
        "import PyPDF2"
      ],
      "metadata": {
        "id": "AdjqDjSo9A8O"
      },
      "execution_count": 59,
      "outputs": []
    },
    {
      "cell_type": "code",
      "source": [
        "myfile = open('/content/US_Declaration.pdf',\n",
        "              mode='rb') #read binary"
      ],
      "metadata": {
        "id": "DhRsQxSL9A-l"
      },
      "execution_count": 61,
      "outputs": []
    },
    {
      "cell_type": "code",
      "source": [
        "pdf_reader = PyPDF2.PdfFileReader(myfile)"
      ],
      "metadata": {
        "id": "QUlXW6KZ97n-"
      },
      "execution_count": 62,
      "outputs": []
    },
    {
      "cell_type": "code",
      "source": [
        "pdf_reader.numPages"
      ],
      "metadata": {
        "colab": {
          "base_uri": "https://localhost:8080/"
        },
        "id": "nli9a-Ce_CnI",
        "outputId": "5c319f0f-9266-43f2-fe7e-9cc627bea83f"
      },
      "execution_count": 63,
      "outputs": [
        {
          "output_type": "execute_result",
          "data": {
            "text/plain": [
              "5"
            ]
          },
          "metadata": {},
          "execution_count": 63
        }
      ]
    },
    {
      "cell_type": "code",
      "source": [
        "page_one = pdf_reader.getPage(0)"
      ],
      "metadata": {
        "id": "jZ0XnndZ_EmU"
      },
      "execution_count": 64,
      "outputs": []
    },
    {
      "cell_type": "code",
      "source": [
        "my_text = page_one.extractText()"
      ],
      "metadata": {
        "id": "9nBQ_Wsf_PUk"
      },
      "execution_count": 66,
      "outputs": []
    },
    {
      "cell_type": "code",
      "source": [
        "myfile.close()"
      ],
      "metadata": {
        "id": "VqQ1XW5w_SJs"
      },
      "execution_count": 72,
      "outputs": []
    },
    {
      "cell_type": "code",
      "source": [
        "f = open('/content/US_Declaration.pdf',\n",
        "              mode='rb') #read binary"
      ],
      "metadata": {
        "id": "2-3u_YI6_rS8"
      },
      "execution_count": 70,
      "outputs": []
    },
    {
      "cell_type": "code",
      "source": [
        "pdf_reader = PyPDF2.PdfFileReader(f)"
      ],
      "metadata": {
        "id": "d-f2Iv66_zix"
      },
      "execution_count": 71,
      "outputs": []
    },
    {
      "cell_type": "code",
      "source": [
        "first_page = pdf_reader.getPage(0)"
      ],
      "metadata": {
        "id": "0i_3vTY8_40e"
      },
      "execution_count": 73,
      "outputs": []
    },
    {
      "cell_type": "code",
      "source": [
        "pdf_writer = PyPDF2.PdfFileWriter()"
      ],
      "metadata": {
        "id": "cfO0UH0x_-NB"
      },
      "execution_count": 74,
      "outputs": []
    },
    {
      "cell_type": "code",
      "source": [
        "pdf_writer.addPage(first_page)"
      ],
      "metadata": {
        "id": "BvZuFQchAEvG"
      },
      "execution_count": 75,
      "outputs": []
    },
    {
      "cell_type": "code",
      "source": [
        "pdf_output = open('/content/my_brand_new.pdf', 'wb')"
      ],
      "metadata": {
        "id": "ZsfBQ7pZAMWx"
      },
      "execution_count": 78,
      "outputs": []
    },
    {
      "cell_type": "code",
      "source": [
        "pdf_writer.write(pdf_output)"
      ],
      "metadata": {
        "id": "PbLSCsheAb_E"
      },
      "execution_count": 79,
      "outputs": []
    },
    {
      "cell_type": "code",
      "source": [
        "pdf_output.close()"
      ],
      "metadata": {
        "id": "XoAbmmTJAnqL"
      },
      "execution_count": 80,
      "outputs": []
    },
    {
      "cell_type": "code",
      "source": [
        "f.close()"
      ],
      "metadata": {
        "id": "_kUYjjoKAqPL"
      },
      "execution_count": 81,
      "outputs": []
    },
    {
      "cell_type": "code",
      "source": [
        ""
      ],
      "metadata": {
        "id": "GNHFpc7UArOe"
      },
      "execution_count": null,
      "outputs": []
    },
    {
      "cell_type": "code",
      "source": [
        "brand_new = open('/content/my_brand_new.pdf', 'rb')\n",
        "\n",
        "pdf_reader = PyPDF2.PdfFileReader(brand_new)"
      ],
      "metadata": {
        "id": "kHyAT57zAuVt"
      },
      "execution_count": 82,
      "outputs": []
    },
    {
      "cell_type": "code",
      "source": [
        "pdf_reader.numPages"
      ],
      "metadata": {
        "colab": {
          "base_uri": "https://localhost:8080/"
        },
        "id": "QA7Ih6zgA-By",
        "outputId": "4cd1ba98-51a1-4976-ebc8-08b8876a796a"
      },
      "execution_count": 83,
      "outputs": [
        {
          "output_type": "execute_result",
          "data": {
            "text/plain": [
              "1"
            ]
          },
          "metadata": {},
          "execution_count": 83
        }
      ]
    },
    {
      "cell_type": "code",
      "source": [
        "f = open('/content/US_Declaration.pdf',\n",
        "              mode='rb') #read binary\n",
        "pdf_text = [0]\n",
        "\n",
        "pdf_reader = PyPDF2.PdfFileReader(f)\n",
        "\n",
        "for p in range(pdf_reader.numPages):\n",
        "  page = pdf_reader.getPage(p)\n",
        "\n",
        "  pdf_text.append(page.extractText())\n",
        "\n",
        "f.close()"
      ],
      "metadata": {
        "id": "8IY7hmlGBAId"
      },
      "execution_count": 85,
      "outputs": []
    },
    {
      "cell_type": "code",
      "source": [
        "len(pdf_text)"
      ],
      "metadata": {
        "colab": {
          "base_uri": "https://localhost:8080/"
        },
        "id": "5LOv2qDUBGlH",
        "outputId": "c44e21b7-0154-45e5-9bc4-a0f5c4e00ee3"
      },
      "execution_count": 87,
      "outputs": [
        {
          "output_type": "execute_result",
          "data": {
            "text/plain": [
              "6"
            ]
          },
          "metadata": {},
          "execution_count": 87
        }
      ]
    },
    {
      "cell_type": "markdown",
      "source": [
        "# Part 4"
      ],
      "metadata": {
        "id": "rclrrbPcBsFi"
      }
    },
    {
      "cell_type": "markdown",
      "source": [
        "**Regular Expression**"
      ],
      "metadata": {
        "id": "emG3jeOMD87C"
      }
    },
    {
      "cell_type": "markdown",
      "source": [
        "- Regular expressions allow for pattern searching in a text document.\n",
        "- The syntax for regular expressions can be very intimidating at first :\n",
        "- Example:  `r'd{3}-\\d{3}-\\d{4}`"
      ],
      "metadata": {
        "id": "NRmUs3BRB4O1"
      }
    },
    {
      "cell_type": "markdown",
      "source": [
        "- Every character type has a corresponding pattern code.\n",
        "- For example: digits have the placeholder pattern code of `\\d`\n",
        "- The use of blackslash allows python to understand that it is a special code and not the letter of \"d\"."
      ],
      "metadata": {
        "id": "tln6nu2HDjKn"
      }
    },
    {
      "cell_type": "code",
      "source": [
        "text = \"The phone number of the agent is 408-555-1234. Call soon!\""
      ],
      "metadata": {
        "id": "RYigFt4DBkB9"
      },
      "execution_count": 88,
      "outputs": []
    },
    {
      "cell_type": "code",
      "source": [
        "\"phone\" in text"
      ],
      "metadata": {
        "colab": {
          "base_uri": "https://localhost:8080/"
        },
        "id": "rCs5tepaEKIv",
        "outputId": "d4a28b2e-1663-40a6-d5bc-9460c5cf583e"
      },
      "execution_count": 89,
      "outputs": [
        {
          "output_type": "execute_result",
          "data": {
            "text/plain": [
              "True"
            ]
          },
          "metadata": {},
          "execution_count": 89
        }
      ]
    },
    {
      "cell_type": "code",
      "source": [
        "\"408-555-1234\" in text"
      ],
      "metadata": {
        "colab": {
          "base_uri": "https://localhost:8080/"
        },
        "id": "bqNwc4lHELr8",
        "outputId": "ac793a25-709e-46b5-b4c8-8f19be9ef9ae"
      },
      "execution_count": 90,
      "outputs": [
        {
          "output_type": "execute_result",
          "data": {
            "text/plain": [
              "True"
            ]
          },
          "metadata": {},
          "execution_count": 90
        }
      ]
    },
    {
      "cell_type": "code",
      "source": [
        "import re"
      ],
      "metadata": {
        "id": "SQp3EWdXE1jx"
      },
      "execution_count": 91,
      "outputs": []
    },
    {
      "cell_type": "code",
      "source": [
        "pattern = \"phone\""
      ],
      "metadata": {
        "id": "n6wp2CJNE60T"
      },
      "execution_count": 92,
      "outputs": []
    },
    {
      "cell_type": "code",
      "source": [
        "re.search(pattern, text)"
      ],
      "metadata": {
        "colab": {
          "base_uri": "https://localhost:8080/"
        },
        "id": "3532KibSE8-0",
        "outputId": "44a585ce-bd1d-445b-d4c5-f32adbfd8761"
      },
      "execution_count": 93,
      "outputs": [
        {
          "output_type": "execute_result",
          "data": {
            "text/plain": [
              "<re.Match object; span=(4, 9), match='phone'>"
            ]
          },
          "metadata": {},
          "execution_count": 93
        }
      ]
    },
    {
      "cell_type": "code",
      "source": [
        "my_match = re.search(pattern, text)"
      ],
      "metadata": {
        "id": "y_032XwRE-w1"
      },
      "execution_count": 98,
      "outputs": []
    },
    {
      "cell_type": "code",
      "source": [
        "my_match.span()"
      ],
      "metadata": {
        "colab": {
          "base_uri": "https://localhost:8080/"
        },
        "id": "kOqSduYGFG_E",
        "outputId": "1145ce42-438b-489f-871d-16f9eae1e749"
      },
      "execution_count": 100,
      "outputs": [
        {
          "output_type": "execute_result",
          "data": {
            "text/plain": [
              "(4, 9)"
            ]
          },
          "metadata": {},
          "execution_count": 100
        }
      ]
    },
    {
      "cell_type": "code",
      "source": [
        "my_match.start()"
      ],
      "metadata": {
        "colab": {
          "base_uri": "https://localhost:8080/"
        },
        "id": "hvzA4R-mFJsk",
        "outputId": "d774d009-f9c5-438d-ab58-4928f9fe87bf"
      },
      "execution_count": 101,
      "outputs": [
        {
          "output_type": "execute_result",
          "data": {
            "text/plain": [
              "4"
            ]
          },
          "metadata": {},
          "execution_count": 101
        }
      ]
    },
    {
      "cell_type": "code",
      "source": [
        "my_match.end()"
      ],
      "metadata": {
        "colab": {
          "base_uri": "https://localhost:8080/"
        },
        "id": "4C1ji62-FTtr",
        "outputId": "84f7a294-26ce-403d-e169-b4fe128a7b3d"
      },
      "execution_count": 102,
      "outputs": [
        {
          "output_type": "execute_result",
          "data": {
            "text/plain": [
              "9"
            ]
          },
          "metadata": {},
          "execution_count": 102
        }
      ]
    },
    {
      "cell_type": "code",
      "source": [
        "text = \"my phone is a new phone\""
      ],
      "metadata": {
        "id": "BbUh0jVgFVOM"
      },
      "execution_count": 103,
      "outputs": []
    },
    {
      "cell_type": "code",
      "source": [
        "match = re.search(pattern, text)"
      ],
      "metadata": {
        "id": "t_Sg_oi1FZCL"
      },
      "execution_count": 104,
      "outputs": []
    },
    {
      "cell_type": "code",
      "source": [
        "match.span()"
      ],
      "metadata": {
        "colab": {
          "base_uri": "https://localhost:8080/"
        },
        "id": "NzL9z1VMHwkV",
        "outputId": "27754c16-bdd7-4bd2-deb3-abe8da9d1f6b"
      },
      "execution_count": 106,
      "outputs": [
        {
          "output_type": "execute_result",
          "data": {
            "text/plain": [
              "(3, 8)"
            ]
          },
          "metadata": {},
          "execution_count": 106
        }
      ]
    },
    {
      "cell_type": "code",
      "source": [
        "all_matches = re.findall(\"phone\", text)"
      ],
      "metadata": {
        "id": "W-9CNNGJHxtN"
      },
      "execution_count": 107,
      "outputs": []
    },
    {
      "cell_type": "code",
      "source": [
        "all_matches"
      ],
      "metadata": {
        "colab": {
          "base_uri": "https://localhost:8080/"
        },
        "id": "duK-GOPIH_zU",
        "outputId": "83ecdb18-846f-48c8-ca24-79ab566930e5"
      },
      "execution_count": 108,
      "outputs": [
        {
          "output_type": "execute_result",
          "data": {
            "text/plain": [
              "['phone', 'phone']"
            ]
          },
          "metadata": {},
          "execution_count": 108
        }
      ]
    },
    {
      "cell_type": "code",
      "source": [
        "len(all_matches)"
      ],
      "metadata": {
        "colab": {
          "base_uri": "https://localhost:8080/"
        },
        "id": "Xr33yAw4IBYy",
        "outputId": "7a4366b8-716e-4cee-98af-a18318683e88"
      },
      "execution_count": 109,
      "outputs": [
        {
          "output_type": "execute_result",
          "data": {
            "text/plain": [
              "2"
            ]
          },
          "metadata": {},
          "execution_count": 109
        }
      ]
    },
    {
      "cell_type": "code",
      "source": [
        "for match in re.finditer(\"phone\", text):\n",
        "  print(match.span())"
      ],
      "metadata": {
        "colab": {
          "base_uri": "https://localhost:8080/"
        },
        "id": "3eg1xWSMIEoI",
        "outputId": "98f5e819-ab4b-43d3-8d3d-73222fe6ef7d"
      },
      "execution_count": 110,
      "outputs": [
        {
          "output_type": "stream",
          "name": "stdout",
          "text": [
            "(3, 8)\n",
            "(18, 23)\n"
          ]
        }
      ]
    },
    {
      "cell_type": "code",
      "source": [
        ""
      ],
      "metadata": {
        "id": "b2JRsd_hIOuU"
      },
      "execution_count": null,
      "outputs": []
    }
  ]
}